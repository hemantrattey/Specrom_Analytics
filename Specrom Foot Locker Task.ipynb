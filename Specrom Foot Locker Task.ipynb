{
 "cells": [
  {
   "cell_type": "markdown",
   "metadata": {},
   "source": [
    "# Lady Foot Locker Stores"
   ]
  },
  {
   "cell_type": "markdown",
   "metadata": {},
   "source": [
    "### Importing Libraries"
   ]
  },
  {
   "cell_type": "code",
   "execution_count": 1,
   "metadata": {},
   "outputs": [],
   "source": [
    "import pandas as pd\n",
    "import numpy as np \n",
    "import seaborn as sns\n",
    "import matplotlib.pyplot as plt\n",
    "%matplotlib inline"
   ]
  },
  {
   "cell_type": "code",
   "execution_count": 2,
   "metadata": {},
   "outputs": [],
   "source": [
    "# !pip install geopy"
   ]
  },
  {
   "cell_type": "code",
   "execution_count": 3,
   "metadata": {},
   "outputs": [],
   "source": [
    "# !pip install folium"
   ]
  },
  {
   "cell_type": "code",
   "execution_count": 4,
   "metadata": {},
   "outputs": [
    {
     "data": {
      "text/html": [
       "<div>\n",
       "<style scoped>\n",
       "    .dataframe tbody tr th:only-of-type {\n",
       "        vertical-align: middle;\n",
       "    }\n",
       "\n",
       "    .dataframe tbody tr th {\n",
       "        vertical-align: top;\n",
       "    }\n",
       "\n",
       "    .dataframe thead th {\n",
       "        text-align: right;\n",
       "    }\n",
       "</style>\n",
       "<table border=\"1\" class=\"dataframe\">\n",
       "  <thead>\n",
       "    <tr style=\"text-align: right;\">\n",
       "      <th></th>\n",
       "      <th>address_line_1</th>\n",
       "      <th>address_line_2</th>\n",
       "      <th>city</th>\n",
       "      <th>name</th>\n",
       "      <th>phone</th>\n",
       "      <th>state</th>\n",
       "      <th>url</th>\n",
       "      <th>zip_code</th>\n",
       "      <th>address</th>\n",
       "      <th>Updated_Date</th>\n",
       "    </tr>\n",
       "  </thead>\n",
       "  <tbody>\n",
       "    <tr>\n",
       "      <th>0</th>\n",
       "      <td>4500 N Oracle Road</td>\n",
       "      <td>Space 115</td>\n",
       "      <td>Tucson</td>\n",
       "      <td>Tucson Mall</td>\n",
       "      <td>(520) 888-0336</td>\n",
       "      <td>AZ</td>\n",
       "      <td>https://stores.ladyfootlocker.com/us/az/tucson...</td>\n",
       "      <td>85705</td>\n",
       "      <td>4500 N Oracle Road, Space 115, Tucson, AZ, 85705</td>\n",
       "      <td>2021-02-28</td>\n",
       "    </tr>\n",
       "    <tr>\n",
       "      <th>1</th>\n",
       "      <td>14200 E Alameda Ave</td>\n",
       "      <td>Space 2055</td>\n",
       "      <td>Aurora</td>\n",
       "      <td>Town Center At Aurora</td>\n",
       "      <td>(303) 363-8068</td>\n",
       "      <td>CO</td>\n",
       "      <td>https://stores.ladyfootlocker.com/us/co/aurora...</td>\n",
       "      <td>80012</td>\n",
       "      <td>14200 E Alameda Ave, Space 2055, Aurora, CO, 8...</td>\n",
       "      <td>2021-02-28</td>\n",
       "    </tr>\n",
       "    <tr>\n",
       "      <th>2</th>\n",
       "      <td>1450 Ala Moana Blvd</td>\n",
       "      <td>Space 1231</td>\n",
       "      <td>Honolulu</td>\n",
       "      <td>Ala Moana Center</td>\n",
       "      <td>(808) 942-1071</td>\n",
       "      <td>HI</td>\n",
       "      <td>https://stores.ladyfootlocker.com/us/hi/honolu...</td>\n",
       "      <td>96814</td>\n",
       "      <td>1450 Ala Moana Blvd, Space 1231, Honolulu, HI,...</td>\n",
       "      <td>2021-02-28</td>\n",
       "    </tr>\n",
       "    <tr>\n",
       "      <th>3</th>\n",
       "      <td>96 River Oaks Dr</td>\n",
       "      <td>NaN</td>\n",
       "      <td>Calumet City</td>\n",
       "      <td>River Oaks Center</td>\n",
       "      <td>(708) 868-6229</td>\n",
       "      <td>IL</td>\n",
       "      <td>https://stores.ladyfootlocker.com/us/il/calume...</td>\n",
       "      <td>60409</td>\n",
       "      <td>96 River Oaks Dr, Calumet City, IL, 60409</td>\n",
       "      <td>2021-02-28</td>\n",
       "    </tr>\n",
       "    <tr>\n",
       "      <th>4</th>\n",
       "      <td>6401 Bluebonnet Blvd</td>\n",
       "      <td>Space 2114</td>\n",
       "      <td>Baton Rouge</td>\n",
       "      <td>Mall Of Louisiana</td>\n",
       "      <td>(225) 767-2198</td>\n",
       "      <td>LA</td>\n",
       "      <td>https://stores.ladyfootlocker.com/us/la/baton-...</td>\n",
       "      <td>70836</td>\n",
       "      <td>6401 Bluebonnet Blvd, Space 2114, Baton Rouge,...</td>\n",
       "      <td>2021-02-28</td>\n",
       "    </tr>\n",
       "  </tbody>\n",
       "</table>\n",
       "</div>"
      ],
      "text/plain": [
       "         address_line_1 address_line_2          city                   name  \\\n",
       "0    4500 N Oracle Road      Space 115        Tucson            Tucson Mall   \n",
       "1   14200 E Alameda Ave     Space 2055        Aurora  Town Center At Aurora   \n",
       "2   1450 Ala Moana Blvd     Space 1231      Honolulu       Ala Moana Center   \n",
       "3      96 River Oaks Dr            NaN  Calumet City      River Oaks Center   \n",
       "4  6401 Bluebonnet Blvd     Space 2114   Baton Rouge      Mall Of Louisiana   \n",
       "\n",
       "            phone state                                                url  \\\n",
       "0  (520) 888-0336    AZ  https://stores.ladyfootlocker.com/us/az/tucson...   \n",
       "1  (303) 363-8068    CO  https://stores.ladyfootlocker.com/us/co/aurora...   \n",
       "2  (808) 942-1071    HI  https://stores.ladyfootlocker.com/us/hi/honolu...   \n",
       "3  (708) 868-6229    IL  https://stores.ladyfootlocker.com/us/il/calume...   \n",
       "4  (225) 767-2198    LA  https://stores.ladyfootlocker.com/us/la/baton-...   \n",
       "\n",
       "   zip_code                                            address Updated_Date  \n",
       "0     85705   4500 N Oracle Road, Space 115, Tucson, AZ, 85705   2021-02-28  \n",
       "1     80012  14200 E Alameda Ave, Space 2055, Aurora, CO, 8...   2021-02-28  \n",
       "2     96814  1450 Ala Moana Blvd, Space 1231, Honolulu, HI,...   2021-02-28  \n",
       "3     60409          96 River Oaks Dr, Calumet City, IL, 60409   2021-02-28  \n",
       "4     70836  6401 Bluebonnet Blvd, Space 2114, Baton Rouge,...   2021-02-28  "
      ]
     },
     "execution_count": 4,
     "metadata": {},
     "output_type": "execute_result"
    }
   ],
   "source": [
    "df = pd.read_csv('lady_footlocker_locations_feb_2021.csv')\n",
    "df.head()"
   ]
  },
  {
   "cell_type": "code",
   "execution_count": 5,
   "metadata": {},
   "outputs": [
    {
     "name": "stdout",
     "output_type": "stream",
     "text": [
      "<class 'pandas.core.frame.DataFrame'>\n",
      "RangeIndex: 59 entries, 0 to 58\n",
      "Data columns (total 10 columns):\n",
      " #   Column          Non-Null Count  Dtype \n",
      "---  ------          --------------  ----- \n",
      " 0   address_line_1  59 non-null     object\n",
      " 1   address_line_2  37 non-null     object\n",
      " 2   city            59 non-null     object\n",
      " 3   name            59 non-null     object\n",
      " 4   phone           59 non-null     object\n",
      " 5   state           57 non-null     object\n",
      " 6   url             59 non-null     object\n",
      " 7   zip_code        59 non-null     int64 \n",
      " 8   address         59 non-null     object\n",
      " 9   Updated_Date    59 non-null     object\n",
      "dtypes: int64(1), object(9)\n",
      "memory usage: 4.7+ KB\n"
     ]
    }
   ],
   "source": [
    "df.info()"
   ]
  },
  {
   "cell_type": "code",
   "execution_count": 6,
   "metadata": {},
   "outputs": [
    {
     "data": {
      "text/plain": [
       "(59, 10)"
      ]
     },
     "execution_count": 6,
     "metadata": {},
     "output_type": "execute_result"
    }
   ],
   "source": [
    "df.shape"
   ]
  },
  {
   "cell_type": "code",
   "execution_count": 7,
   "metadata": {},
   "outputs": [],
   "source": [
    "df['zip_code'] = df['zip_code'].astype(str)"
   ]
  },
  {
   "cell_type": "code",
   "execution_count": 8,
   "metadata": {},
   "outputs": [],
   "source": [
    "from geopy.geocoders import Nominatim\n",
    "from geopy.extra.rate_limiter import RateLimiter"
   ]
  },
  {
   "cell_type": "code",
   "execution_count": 12,
   "metadata": {},
   "outputs": [],
   "source": [
    "geolocator = Nominatim(user_agent='my geocoder')\n",
    "geocode = RateLimiter(geolocator.geocode, min_delay_seconds = 2, max_retries=0)\n",
    "df['point'] = df['address'].apply(geocode)"
   ]
  },
  {
   "cell_type": "code",
   "execution_count": 13,
   "metadata": {},
   "outputs": [],
   "source": [
    "df['point'] = df['point'].apply(lambda x: (x.latitude, x.longitude) if x else np.nan)"
   ]
  },
  {
   "cell_type": "code",
   "execution_count": 14,
   "metadata": {},
   "outputs": [],
   "source": [
    "df['point'].fillna((df['zip_code'] + ' ' + df['city']).apply(geocode).apply(lambda x: (x.latitude, x.longitude)), inplace = True)"
   ]
  },
  {
   "cell_type": "code",
   "execution_count": 16,
   "metadata": {},
   "outputs": [
    {
     "data": {
      "text/html": [
       "<div>\n",
       "<style scoped>\n",
       "    .dataframe tbody tr th:only-of-type {\n",
       "        vertical-align: middle;\n",
       "    }\n",
       "\n",
       "    .dataframe tbody tr th {\n",
       "        vertical-align: top;\n",
       "    }\n",
       "\n",
       "    .dataframe thead th {\n",
       "        text-align: right;\n",
       "    }\n",
       "</style>\n",
       "<table border=\"1\" class=\"dataframe\">\n",
       "  <thead>\n",
       "    <tr style=\"text-align: right;\">\n",
       "      <th></th>\n",
       "      <th>address_line_1</th>\n",
       "      <th>address_line_2</th>\n",
       "      <th>city</th>\n",
       "      <th>name</th>\n",
       "      <th>phone</th>\n",
       "      <th>state</th>\n",
       "      <th>url</th>\n",
       "      <th>zip_code</th>\n",
       "      <th>address</th>\n",
       "      <th>Updated_Date</th>\n",
       "      <th>point</th>\n",
       "    </tr>\n",
       "  </thead>\n",
       "  <tbody>\n",
       "    <tr>\n",
       "      <th>0</th>\n",
       "      <td>4500 N Oracle Road</td>\n",
       "      <td>Space 115</td>\n",
       "      <td>Tucson</td>\n",
       "      <td>Tucson Mall</td>\n",
       "      <td>(520) 888-0336</td>\n",
       "      <td>AZ</td>\n",
       "      <td>https://stores.ladyfootlocker.com/us/az/tucson...</td>\n",
       "      <td>85705</td>\n",
       "      <td>4500 N Oracle Road, Space 115, Tucson, AZ, 85705</td>\n",
       "      <td>2021-02-28</td>\n",
       "      <td>(32.2228765, -110.9748477)</td>\n",
       "    </tr>\n",
       "    <tr>\n",
       "      <th>1</th>\n",
       "      <td>14200 E Alameda Ave</td>\n",
       "      <td>Space 2055</td>\n",
       "      <td>Aurora</td>\n",
       "      <td>Town Center At Aurora</td>\n",
       "      <td>(303) 363-8068</td>\n",
       "      <td>CO</td>\n",
       "      <td>https://stores.ladyfootlocker.com/us/co/aurora...</td>\n",
       "      <td>80012</td>\n",
       "      <td>14200 E Alameda Ave, Space 2055, Aurora, CO, 8...</td>\n",
       "      <td>2021-02-28</td>\n",
       "      <td>(39.729432, -104.8319196)</td>\n",
       "    </tr>\n",
       "    <tr>\n",
       "      <th>2</th>\n",
       "      <td>1450 Ala Moana Blvd</td>\n",
       "      <td>Space 1231</td>\n",
       "      <td>Honolulu</td>\n",
       "      <td>Ala Moana Center</td>\n",
       "      <td>(808) 942-1071</td>\n",
       "      <td>HI</td>\n",
       "      <td>https://stores.ladyfootlocker.com/us/hi/honolu...</td>\n",
       "      <td>96814</td>\n",
       "      <td>1450 Ala Moana Blvd, Space 1231, Honolulu, HI,...</td>\n",
       "      <td>2021-02-28</td>\n",
       "      <td>(21.304547, -157.8556764)</td>\n",
       "    </tr>\n",
       "    <tr>\n",
       "      <th>3</th>\n",
       "      <td>96 River Oaks Dr</td>\n",
       "      <td>NaN</td>\n",
       "      <td>Calumet City</td>\n",
       "      <td>River Oaks Center</td>\n",
       "      <td>(708) 868-6229</td>\n",
       "      <td>IL</td>\n",
       "      <td>https://stores.ladyfootlocker.com/us/il/calume...</td>\n",
       "      <td>60409</td>\n",
       "      <td>96 River Oaks Dr, Calumet City, IL, 60409</td>\n",
       "      <td>2021-02-28</td>\n",
       "      <td>(41.6010821, -87.5581579)</td>\n",
       "    </tr>\n",
       "    <tr>\n",
       "      <th>4</th>\n",
       "      <td>6401 Bluebonnet Blvd</td>\n",
       "      <td>Space 2114</td>\n",
       "      <td>Baton Rouge</td>\n",
       "      <td>Mall Of Louisiana</td>\n",
       "      <td>(225) 767-2198</td>\n",
       "      <td>LA</td>\n",
       "      <td>https://stores.ladyfootlocker.com/us/la/baton-...</td>\n",
       "      <td>70836</td>\n",
       "      <td>6401 Bluebonnet Blvd, Space 2114, Baton Rouge,...</td>\n",
       "      <td>2021-02-28</td>\n",
       "      <td>(30.387688478432157, -91.08695006192693)</td>\n",
       "    </tr>\n",
       "  </tbody>\n",
       "</table>\n",
       "</div>"
      ],
      "text/plain": [
       "         address_line_1 address_line_2          city                   name  \\\n",
       "0    4500 N Oracle Road      Space 115        Tucson            Tucson Mall   \n",
       "1   14200 E Alameda Ave     Space 2055        Aurora  Town Center At Aurora   \n",
       "2   1450 Ala Moana Blvd     Space 1231      Honolulu       Ala Moana Center   \n",
       "3      96 River Oaks Dr            NaN  Calumet City      River Oaks Center   \n",
       "4  6401 Bluebonnet Blvd     Space 2114   Baton Rouge      Mall Of Louisiana   \n",
       "\n",
       "            phone state                                                url  \\\n",
       "0  (520) 888-0336    AZ  https://stores.ladyfootlocker.com/us/az/tucson...   \n",
       "1  (303) 363-8068    CO  https://stores.ladyfootlocker.com/us/co/aurora...   \n",
       "2  (808) 942-1071    HI  https://stores.ladyfootlocker.com/us/hi/honolu...   \n",
       "3  (708) 868-6229    IL  https://stores.ladyfootlocker.com/us/il/calume...   \n",
       "4  (225) 767-2198    LA  https://stores.ladyfootlocker.com/us/la/baton-...   \n",
       "\n",
       "  zip_code                                            address Updated_Date  \\\n",
       "0    85705   4500 N Oracle Road, Space 115, Tucson, AZ, 85705   2021-02-28   \n",
       "1    80012  14200 E Alameda Ave, Space 2055, Aurora, CO, 8...   2021-02-28   \n",
       "2    96814  1450 Ala Moana Blvd, Space 1231, Honolulu, HI,...   2021-02-28   \n",
       "3    60409          96 River Oaks Dr, Calumet City, IL, 60409   2021-02-28   \n",
       "4    70836  6401 Bluebonnet Blvd, Space 2114, Baton Rouge,...   2021-02-28   \n",
       "\n",
       "                                      point  \n",
       "0                (32.2228765, -110.9748477)  \n",
       "1                 (39.729432, -104.8319196)  \n",
       "2                 (21.304547, -157.8556764)  \n",
       "3                 (41.6010821, -87.5581579)  \n",
       "4  (30.387688478432157, -91.08695006192693)  "
      ]
     },
     "execution_count": 16,
     "metadata": {},
     "output_type": "execute_result"
    }
   ],
   "source": [
    "df.head()"
   ]
  },
  {
   "cell_type": "code",
   "execution_count": 17,
   "metadata": {},
   "outputs": [],
   "source": [
    "df[['latitude', 'longitude']] = pd.DataFrame(df['point'].to_list(), index=df.index)"
   ]
  },
  {
   "cell_type": "code",
   "execution_count": 18,
   "metadata": {},
   "outputs": [
    {
     "data": {
      "text/html": [
       "<div>\n",
       "<style scoped>\n",
       "    .dataframe tbody tr th:only-of-type {\n",
       "        vertical-align: middle;\n",
       "    }\n",
       "\n",
       "    .dataframe tbody tr th {\n",
       "        vertical-align: top;\n",
       "    }\n",
       "\n",
       "    .dataframe thead th {\n",
       "        text-align: right;\n",
       "    }\n",
       "</style>\n",
       "<table border=\"1\" class=\"dataframe\">\n",
       "  <thead>\n",
       "    <tr style=\"text-align: right;\">\n",
       "      <th></th>\n",
       "      <th>address_line_1</th>\n",
       "      <th>address_line_2</th>\n",
       "      <th>city</th>\n",
       "      <th>name</th>\n",
       "      <th>phone</th>\n",
       "      <th>state</th>\n",
       "      <th>url</th>\n",
       "      <th>zip_code</th>\n",
       "      <th>address</th>\n",
       "      <th>Updated_Date</th>\n",
       "      <th>point</th>\n",
       "      <th>latitude</th>\n",
       "      <th>longitude</th>\n",
       "    </tr>\n",
       "  </thead>\n",
       "  <tbody>\n",
       "    <tr>\n",
       "      <th>0</th>\n",
       "      <td>4500 N Oracle Road</td>\n",
       "      <td>Space 115</td>\n",
       "      <td>Tucson</td>\n",
       "      <td>Tucson Mall</td>\n",
       "      <td>(520) 888-0336</td>\n",
       "      <td>AZ</td>\n",
       "      <td>https://stores.ladyfootlocker.com/us/az/tucson...</td>\n",
       "      <td>85705</td>\n",
       "      <td>4500 N Oracle Road, Space 115, Tucson, AZ, 85705</td>\n",
       "      <td>2021-02-28</td>\n",
       "      <td>(32.2228765, -110.9748477)</td>\n",
       "      <td>32.222876</td>\n",
       "      <td>-110.974848</td>\n",
       "    </tr>\n",
       "    <tr>\n",
       "      <th>1</th>\n",
       "      <td>14200 E Alameda Ave</td>\n",
       "      <td>Space 2055</td>\n",
       "      <td>Aurora</td>\n",
       "      <td>Town Center At Aurora</td>\n",
       "      <td>(303) 363-8068</td>\n",
       "      <td>CO</td>\n",
       "      <td>https://stores.ladyfootlocker.com/us/co/aurora...</td>\n",
       "      <td>80012</td>\n",
       "      <td>14200 E Alameda Ave, Space 2055, Aurora, CO, 8...</td>\n",
       "      <td>2021-02-28</td>\n",
       "      <td>(39.729432, -104.8319196)</td>\n",
       "      <td>39.729432</td>\n",
       "      <td>-104.831920</td>\n",
       "    </tr>\n",
       "    <tr>\n",
       "      <th>2</th>\n",
       "      <td>1450 Ala Moana Blvd</td>\n",
       "      <td>Space 1231</td>\n",
       "      <td>Honolulu</td>\n",
       "      <td>Ala Moana Center</td>\n",
       "      <td>(808) 942-1071</td>\n",
       "      <td>HI</td>\n",
       "      <td>https://stores.ladyfootlocker.com/us/hi/honolu...</td>\n",
       "      <td>96814</td>\n",
       "      <td>1450 Ala Moana Blvd, Space 1231, Honolulu, HI,...</td>\n",
       "      <td>2021-02-28</td>\n",
       "      <td>(21.304547, -157.8556764)</td>\n",
       "      <td>21.304547</td>\n",
       "      <td>-157.855676</td>\n",
       "    </tr>\n",
       "    <tr>\n",
       "      <th>3</th>\n",
       "      <td>96 River Oaks Dr</td>\n",
       "      <td>NaN</td>\n",
       "      <td>Calumet City</td>\n",
       "      <td>River Oaks Center</td>\n",
       "      <td>(708) 868-6229</td>\n",
       "      <td>IL</td>\n",
       "      <td>https://stores.ladyfootlocker.com/us/il/calume...</td>\n",
       "      <td>60409</td>\n",
       "      <td>96 River Oaks Dr, Calumet City, IL, 60409</td>\n",
       "      <td>2021-02-28</td>\n",
       "      <td>(41.6010821, -87.5581579)</td>\n",
       "      <td>41.601082</td>\n",
       "      <td>-87.558158</td>\n",
       "    </tr>\n",
       "    <tr>\n",
       "      <th>4</th>\n",
       "      <td>6401 Bluebonnet Blvd</td>\n",
       "      <td>Space 2114</td>\n",
       "      <td>Baton Rouge</td>\n",
       "      <td>Mall Of Louisiana</td>\n",
       "      <td>(225) 767-2198</td>\n",
       "      <td>LA</td>\n",
       "      <td>https://stores.ladyfootlocker.com/us/la/baton-...</td>\n",
       "      <td>70836</td>\n",
       "      <td>6401 Bluebonnet Blvd, Space 2114, Baton Rouge,...</td>\n",
       "      <td>2021-02-28</td>\n",
       "      <td>(30.387688478432157, -91.08695006192693)</td>\n",
       "      <td>30.387688</td>\n",
       "      <td>-91.086950</td>\n",
       "    </tr>\n",
       "  </tbody>\n",
       "</table>\n",
       "</div>"
      ],
      "text/plain": [
       "         address_line_1 address_line_2          city                   name  \\\n",
       "0    4500 N Oracle Road      Space 115        Tucson            Tucson Mall   \n",
       "1   14200 E Alameda Ave     Space 2055        Aurora  Town Center At Aurora   \n",
       "2   1450 Ala Moana Blvd     Space 1231      Honolulu       Ala Moana Center   \n",
       "3      96 River Oaks Dr            NaN  Calumet City      River Oaks Center   \n",
       "4  6401 Bluebonnet Blvd     Space 2114   Baton Rouge      Mall Of Louisiana   \n",
       "\n",
       "            phone state                                                url  \\\n",
       "0  (520) 888-0336    AZ  https://stores.ladyfootlocker.com/us/az/tucson...   \n",
       "1  (303) 363-8068    CO  https://stores.ladyfootlocker.com/us/co/aurora...   \n",
       "2  (808) 942-1071    HI  https://stores.ladyfootlocker.com/us/hi/honolu...   \n",
       "3  (708) 868-6229    IL  https://stores.ladyfootlocker.com/us/il/calume...   \n",
       "4  (225) 767-2198    LA  https://stores.ladyfootlocker.com/us/la/baton-...   \n",
       "\n",
       "  zip_code                                            address Updated_Date  \\\n",
       "0    85705   4500 N Oracle Road, Space 115, Tucson, AZ, 85705   2021-02-28   \n",
       "1    80012  14200 E Alameda Ave, Space 2055, Aurora, CO, 8...   2021-02-28   \n",
       "2    96814  1450 Ala Moana Blvd, Space 1231, Honolulu, HI,...   2021-02-28   \n",
       "3    60409          96 River Oaks Dr, Calumet City, IL, 60409   2021-02-28   \n",
       "4    70836  6401 Bluebonnet Blvd, Space 2114, Baton Rouge,...   2021-02-28   \n",
       "\n",
       "                                      point   latitude   longitude  \n",
       "0                (32.2228765, -110.9748477)  32.222876 -110.974848  \n",
       "1                 (39.729432, -104.8319196)  39.729432 -104.831920  \n",
       "2                 (21.304547, -157.8556764)  21.304547 -157.855676  \n",
       "3                 (41.6010821, -87.5581579)  41.601082  -87.558158  \n",
       "4  (30.387688478432157, -91.08695006192693)  30.387688  -91.086950  "
      ]
     },
     "execution_count": 18,
     "metadata": {},
     "output_type": "execute_result"
    }
   ],
   "source": [
    "df.head()"
   ]
  },
  {
   "cell_type": "code",
   "execution_count": 22,
   "metadata": {},
   "outputs": [],
   "source": [
    "df.to_csv('cleaned.csv', index = False)"
   ]
  },
  {
   "cell_type": "code",
   "execution_count": 24,
   "metadata": {},
   "outputs": [
    {
     "data": {
      "text/html": [
       "<div>\n",
       "<style scoped>\n",
       "    .dataframe tbody tr th:only-of-type {\n",
       "        vertical-align: middle;\n",
       "    }\n",
       "\n",
       "    .dataframe tbody tr th {\n",
       "        vertical-align: top;\n",
       "    }\n",
       "\n",
       "    .dataframe thead th {\n",
       "        text-align: right;\n",
       "    }\n",
       "</style>\n",
       "<table border=\"1\" class=\"dataframe\">\n",
       "  <thead>\n",
       "    <tr style=\"text-align: right;\">\n",
       "      <th></th>\n",
       "      <th>address_line_1</th>\n",
       "      <th>address_line_2</th>\n",
       "      <th>city</th>\n",
       "      <th>name</th>\n",
       "      <th>phone</th>\n",
       "      <th>state</th>\n",
       "      <th>url</th>\n",
       "      <th>zip_code</th>\n",
       "      <th>address</th>\n",
       "      <th>Updated_Date</th>\n",
       "      <th>point</th>\n",
       "      <th>latitude</th>\n",
       "      <th>longitude</th>\n",
       "    </tr>\n",
       "  </thead>\n",
       "  <tbody>\n",
       "    <tr>\n",
       "      <th>0</th>\n",
       "      <td>4500 N Oracle Road</td>\n",
       "      <td>Space 115</td>\n",
       "      <td>Tucson</td>\n",
       "      <td>Tucson Mall</td>\n",
       "      <td>(520) 888-0336</td>\n",
       "      <td>AZ</td>\n",
       "      <td>https://stores.ladyfootlocker.com/us/az/tucson...</td>\n",
       "      <td>85705</td>\n",
       "      <td>4500 N Oracle Road, Space 115, Tucson, AZ, 85705</td>\n",
       "      <td>2021-02-28</td>\n",
       "      <td>(32.2228765, -110.9748477)</td>\n",
       "      <td>32.222876</td>\n",
       "      <td>-110.974848</td>\n",
       "    </tr>\n",
       "    <tr>\n",
       "      <th>1</th>\n",
       "      <td>14200 E Alameda Ave</td>\n",
       "      <td>Space 2055</td>\n",
       "      <td>Aurora</td>\n",
       "      <td>Town Center At Aurora</td>\n",
       "      <td>(303) 363-8068</td>\n",
       "      <td>CO</td>\n",
       "      <td>https://stores.ladyfootlocker.com/us/co/aurora...</td>\n",
       "      <td>80012</td>\n",
       "      <td>14200 E Alameda Ave, Space 2055, Aurora, CO, 8...</td>\n",
       "      <td>2021-02-28</td>\n",
       "      <td>(39.729432, -104.8319196)</td>\n",
       "      <td>39.729432</td>\n",
       "      <td>-104.831920</td>\n",
       "    </tr>\n",
       "    <tr>\n",
       "      <th>2</th>\n",
       "      <td>1450 Ala Moana Blvd</td>\n",
       "      <td>Space 1231</td>\n",
       "      <td>Honolulu</td>\n",
       "      <td>Ala Moana Center</td>\n",
       "      <td>(808) 942-1071</td>\n",
       "      <td>HI</td>\n",
       "      <td>https://stores.ladyfootlocker.com/us/hi/honolu...</td>\n",
       "      <td>96814</td>\n",
       "      <td>1450 Ala Moana Blvd, Space 1231, Honolulu, HI,...</td>\n",
       "      <td>2021-02-28</td>\n",
       "      <td>(21.304547, -157.8556764)</td>\n",
       "      <td>21.304547</td>\n",
       "      <td>-157.855676</td>\n",
       "    </tr>\n",
       "    <tr>\n",
       "      <th>3</th>\n",
       "      <td>96 River Oaks Dr</td>\n",
       "      <td>NaN</td>\n",
       "      <td>Calumet City</td>\n",
       "      <td>River Oaks Center</td>\n",
       "      <td>(708) 868-6229</td>\n",
       "      <td>IL</td>\n",
       "      <td>https://stores.ladyfootlocker.com/us/il/calume...</td>\n",
       "      <td>60409</td>\n",
       "      <td>96 River Oaks Dr, Calumet City, IL, 60409</td>\n",
       "      <td>2021-02-28</td>\n",
       "      <td>(41.6010821, -87.5581579)</td>\n",
       "      <td>41.601082</td>\n",
       "      <td>-87.558158</td>\n",
       "    </tr>\n",
       "    <tr>\n",
       "      <th>4</th>\n",
       "      <td>6401 Bluebonnet Blvd</td>\n",
       "      <td>Space 2114</td>\n",
       "      <td>Baton Rouge</td>\n",
       "      <td>Mall Of Louisiana</td>\n",
       "      <td>(225) 767-2198</td>\n",
       "      <td>LA</td>\n",
       "      <td>https://stores.ladyfootlocker.com/us/la/baton-...</td>\n",
       "      <td>70836</td>\n",
       "      <td>6401 Bluebonnet Blvd, Space 2114, Baton Rouge,...</td>\n",
       "      <td>2021-02-28</td>\n",
       "      <td>(30.387688478432157, -91.08695006192693)</td>\n",
       "      <td>30.387688</td>\n",
       "      <td>-91.086950</td>\n",
       "    </tr>\n",
       "  </tbody>\n",
       "</table>\n",
       "</div>"
      ],
      "text/plain": [
       "         address_line_1 address_line_2          city                   name  \\\n",
       "0    4500 N Oracle Road      Space 115        Tucson            Tucson Mall   \n",
       "1   14200 E Alameda Ave     Space 2055        Aurora  Town Center At Aurora   \n",
       "2   1450 Ala Moana Blvd     Space 1231      Honolulu       Ala Moana Center   \n",
       "3      96 River Oaks Dr            NaN  Calumet City      River Oaks Center   \n",
       "4  6401 Bluebonnet Blvd     Space 2114   Baton Rouge      Mall Of Louisiana   \n",
       "\n",
       "            phone state                                                url  \\\n",
       "0  (520) 888-0336    AZ  https://stores.ladyfootlocker.com/us/az/tucson...   \n",
       "1  (303) 363-8068    CO  https://stores.ladyfootlocker.com/us/co/aurora...   \n",
       "2  (808) 942-1071    HI  https://stores.ladyfootlocker.com/us/hi/honolu...   \n",
       "3  (708) 868-6229    IL  https://stores.ladyfootlocker.com/us/il/calume...   \n",
       "4  (225) 767-2198    LA  https://stores.ladyfootlocker.com/us/la/baton-...   \n",
       "\n",
       "   zip_code                                            address Updated_Date  \\\n",
       "0     85705   4500 N Oracle Road, Space 115, Tucson, AZ, 85705   2021-02-28   \n",
       "1     80012  14200 E Alameda Ave, Space 2055, Aurora, CO, 8...   2021-02-28   \n",
       "2     96814  1450 Ala Moana Blvd, Space 1231, Honolulu, HI,...   2021-02-28   \n",
       "3     60409          96 River Oaks Dr, Calumet City, IL, 60409   2021-02-28   \n",
       "4     70836  6401 Bluebonnet Blvd, Space 2114, Baton Rouge,...   2021-02-28   \n",
       "\n",
       "                                      point   latitude   longitude  \n",
       "0                (32.2228765, -110.9748477)  32.222876 -110.974848  \n",
       "1                 (39.729432, -104.8319196)  39.729432 -104.831920  \n",
       "2                 (21.304547, -157.8556764)  21.304547 -157.855676  \n",
       "3                 (41.6010821, -87.5581579)  41.601082  -87.558158  \n",
       "4  (30.387688478432157, -91.08695006192693)  30.387688  -91.086950  "
      ]
     },
     "execution_count": 24,
     "metadata": {},
     "output_type": "execute_result"
    }
   ],
   "source": [
    "cleaned_df = pd.read_csv('cleaned.csv')\n",
    "cleaned_df.head()"
   ]
  },
  {
   "cell_type": "code",
   "execution_count": null,
   "metadata": {},
   "outputs": [],
   "source": [
    "# import folium\n",
    "# from folium.plugins import MarkerCluster"
   ]
  },
  {
   "cell_type": "code",
   "execution_count": null,
   "metadata": {},
   "outputs": [],
   "source": [
    "# m = folium.Map(location = df[['latitude', 'longitude']].mean().to_list(), zoom_start=3)\n",
    "\n",
    "# for i, row in df.iterrows():\n",
    "#     location = (row['latitude'], row['longitude'])\n",
    "#     folium.Marker(location = location, popup = row['state']).add_to(m)\n",
    "\n",
    "# m"
   ]
  },
  {
   "cell_type": "markdown",
   "metadata": {},
   "source": [
    "### Top 5 states by number of stores"
   ]
  },
  {
   "cell_type": "code",
   "execution_count": 72,
   "metadata": {},
   "outputs": [],
   "source": [
    "top5 = cleaned_df.groupby('state')['name'].count().sort_values(ascending = False).nlargest(5)"
   ]
  },
  {
   "cell_type": "code",
   "execution_count": 73,
   "metadata": {},
   "outputs": [
    {
     "data": {
      "text/plain": [
       "state\n",
       "TX    9\n",
       "CA    8\n",
       "NJ    6\n",
       "GA    5\n",
       "NY    4\n",
       "Name: name, dtype: int64"
      ]
     },
     "execution_count": 73,
     "metadata": {},
     "output_type": "execute_result"
    }
   ],
   "source": [
    "top5"
   ]
  },
  {
   "cell_type": "code",
   "execution_count": 74,
   "metadata": {},
   "outputs": [
    {
     "data": {
      "text/plain": [
       "<AxesSubplot:title={'center':'Top 5 states'}, xlabel='Number of Foot Locker Stores', ylabel='state'>"
      ]
     },
     "execution_count": 74,
     "metadata": {},
     "output_type": "execute_result"
    },
    {
     "data": {
      "image/png": "[encoded data removed]",
      "text/plain": [
       "<Figure size 720x432 with 1 Axes>"
      ]
     },
     "metadata": {
      "needs_background": "light"
     },
     "output_type": "display_data"
    }
   ],
   "source": [
    "fig = plt.figure(figsize = (10, 6))\n",
    "plt.title('Top 5 states')\n",
    "plt.xlabel('Number of Foot Locker Stores')\n",
    "sns.barplot(x = top5.values, y = top5.index, orient='h')"
   ]
  },
  {
   "cell_type": "code",
   "execution_count": 28,
   "metadata": {
    "collapsed": true
   },
   "outputs": [
    {
     "name": "stdout",
     "output_type": "stream",
     "text": [
      "Requirement already satisfied: plotly in c:\\users\\hemant rattey\\appdata\\local\\programs\\python\\python39\\lib\\site-packages (4.13.0)\n",
      "Requirement already satisfied: six in c:\\users\\hemant rattey\\appdata\\local\\programs\\python\\python39\\lib\\site-packages (from plotly) (1.15.0)\n",
      "Requirement already satisfied: retrying>=1.3.3 in c:\\users\\hemant rattey\\appdata\\local\\programs\\python\\python39\\lib\\site-packages (from plotly) (1.3.3)\n"
     ]
    }
   ],
   "source": [
    "# !pip install plotly"
   ]
  },
  {
   "cell_type": "markdown",
   "metadata": {},
   "source": [
    "### GeoMap for the Locations "
   ]
  },
  {
   "cell_type": "code",
   "execution_count": 48,
   "metadata": {},
   "outputs": [],
   "source": [
    "import plotly\n",
    "import plotly.graph_objs as go\n",
    "import plotly.express as px"
   ]
  },
  {
   "cell_type": "code",
   "execution_count": 59,
   "metadata": {},
   "outputs": [
    {
     "data": {
      "application/vnd.plotly.v1+json": {
       "config": {
        "plotlyServerURL": "https://plot.ly"
       },
       "data": [
        {
         "lat": [
          32.2228765,
          39.729432,
          21.304547,
          41.6010821,
          30.38768847843216,
          42.2097963,
          42.433336700000005,
          38.63510455,
          39.5261206,
          35.7803977,
          41.703535373637315,
          40.62977289196522,
          34.849582549999994,
          38.9317403,
          33.9852331,
          36.808457913043476,
          34.14468215,
          37.6390972,
          38.5810606,
          37.779026200000004,
          34.413819000000004,
          34.06992075973865,
          39.6784196,
          39.82291025,
          25.78680175,
          26.0031465,
          32.54061724232528,
          33.7737582,
          33.7123305,
          38.95645560000001,
          37.67467903691116,
          51.6414714,
          40.660132899999994,
          39.967056899999996,
          52.6753858,
          42.9383918,
          40.7365804,
          40.7266477,
          40.72295145,
          34.6086854,
          35.4729886,
          36.04487895051442,
          32.5888072,
          30.595528899999998,
          31.7754152,
          32.66829037006872,
          29.529399800000004,
          27.519984100000002,
          33.53931825,
          26.2043691,
          32.8077597,
          46.2087066,
          47.4627356,
          33.71949997536807,
          33.84901590182325,
          40.918985299999996,
          42.726898600000006,
          18.234483899999997,
          35.8534714
         ],
         "lon": [
          -110.9748477,
          -104.8319196,
          -157.8556764,
          -87.5581579,
          -91.08695006192691,
          -71.001075,
          -82.9238847,
          -90.34766327799959,
          -119.81265810000001,
          -78.63909890000001,
          -83.64646516990508,
          -75.48274180315566,
          -82.33315889539456,
          -77.1670637790478,
          -118.39447040000002,
          -119.7794255652174,
          -118.25889419596773,
          -120.99687820000001,
          -121.49389509999999,
          -122.4199061,
          -118.56103780000001,
          -117.92740232440329,
          -75.65239689667357,
          -75.54386967715169,
          -80.36568305135796,
          -80.223937,
          -84.92481813007291,
          -84.29606899999999,
          -84.1051939,
          -94.721435,
          -97.22217214924756,
          -0.18289249999999999,
          -74.1734442,
          -74.9426677,
          -6.3071676,
          -78.6847515,
          -73.8783932,
          -73.6343052,
          -73.99924135088084,
          -98.3903305,
          -97.5170536,
          -95.88788251794321,
          -96.95536750000001,
          -96.3071042,
          -106.464634,
          -97.4198410795905,
          -95.20104470000001,
          -99.49537640000001,
          -101.92559859714619,
          -98.230082,
          -96.62323717787089,
          -119.1199192,
          -122.2559156,
          -84.52704116556286,
          -84.35903519514736,
          -74.0794263,
          -83.4145584,
          -66.0375248,
          -79.0720386
         ],
         "marker": {
          "color": "blue",
          "size": 10,
          "symbol": "triangle-up"
         },
         "mode": "markers",
         "type": "scattergeo"
        }
       ],
       "layout": {
        "geo": {
         "scope": "usa"
        },
        "template": {
         "data": {
          "bar": [
           {
            "error_x": {
             "color": "#2a3f5f"
            },
            "error_y": {
             "color": "#2a3f5f"
            },
            "marker": {
             "line": {
              "color": "#E5ECF6",
              "width": 0.5
             }
            },
            "type": "bar"
           }
          ],
          "barpolar": [
           {
            "marker": {
             "line": {
              "color": "#E5ECF6",
              "width": 0.5
             }
            },
            "type": "barpolar"
           }
          ],
          "carpet": [
           {
            "aaxis": {
             "endlinecolor": "#2a3f5f",
             "gridcolor": "white",
             "linecolor": "white",
             "minorgridcolor": "white",
             "startlinecolor": "#2a3f5f"
            },
            "baxis": {
             "endlinecolor": "#2a3f5f",
             "gridcolor": "white",
             "linecolor": "white",
             "minorgridcolor": "white",
             "startlinecolor": "#2a3f5f"
            },
            "type": "carpet"
           }
          ],
          "choropleth": [
           {
            "colorbar": {
             "outlinewidth": 0,
             "ticks": ""
            },
            "type": "choropleth"
           }
          ],
          "contour": [
           {
            "colorbar": {
             "outlinewidth": 0,
             "ticks": ""
            },
            "colorscale": [
             [
              0,
              "#0d0887"
             ],
             [
              0.1111111111111111,
              "#46039f"
             ],
             [
              0.2222222222222222,
              "#7201a8"
             ],
             [
              0.3333333333333333,
              "#9c179e"
             ],
             [
              0.4444444444444444,
              "#bd3786"
             ],
             [
              0.5555555555555556,
              "#d8576b"
             ],
             [
              0.6666666666666666,
              "#ed7953"
             ],
             [
              0.7777777777777778,
              "#fb9f3a"
             ],
             [
              0.8888888888888888,
              "#fdca26"
             ],
             [
              1,
              "#f0f921"
             ]
            ],
            "type": "contour"
           }
          ],
          "contourcarpet": [
           {
            "colorbar": {
             "outlinewidth": 0,
             "ticks": ""
            },
            "type": "contourcarpet"
           }
          ],
          "heatmap": [
           {
            "colorbar": {
             "outlinewidth": 0,
             "ticks": ""
            },
            "colorscale": [
             [
              0,
              "#0d0887"
             ],
             [
              0.1111111111111111,
              "#46039f"
             ],
             [
              0.2222222222222222,
              "#7201a8"
             ],
             [
              0.3333333333333333,
              "#9c179e"
             ],
             [
              0.4444444444444444,
              "#bd3786"
             ],
             [
              0.5555555555555556,
              "#d8576b"
             ],
             [
              0.6666666666666666,
              "#ed7953"
             ],
             [
              0.7777777777777778,
              "#fb9f3a"
             ],
             [
              0.8888888888888888,
              "#fdca26"
             ],
             [
              1,
              "#f0f921"
             ]
            ],
            "type": "heatmap"
           }
          ],
          "heatmapgl": [
           {
            "colorbar": {
             "outlinewidth": 0,
             "ticks": ""
            },
            "colorscale": [
             [
              0,
              "#0d0887"
             ],
             [
              0.1111111111111111,
              "#46039f"
             ],
             [
              0.2222222222222222,
              "#7201a8"
             ],
             [
              0.3333333333333333,
              "#9c179e"
             ],
             [
              0.4444444444444444,
              "#bd3786"
             ],
             [
              0.5555555555555556,
              "#d8576b"
             ],
             [
              0.6666666666666666,
              "#ed7953"
             ],
             [
              0.7777777777777778,
              "#fb9f3a"
             ],
             [
              0.8888888888888888,
              "#fdca26"
             ],
             [
              1,
              "#f0f921"
             ]
            ],
            "type": "heatmapgl"
           }
          ],
          "histogram": [
           {
            "marker": {
             "colorbar": {
              "outlinewidth": 0,
              "ticks": ""
             }
            },
            "type": "histogram"
           }
          ],
          "histogram2d": [
           {
            "colorbar": {
             "outlinewidth": 0,
             "ticks": ""
            },
            "colorscale": [
             [
              0,
              "#0d0887"
             ],
             [
              0.1111111111111111,
              "#46039f"
             ],
             [
              0.2222222222222222,
              "#7201a8"
             ],
             [
              0.3333333333333333,
              "#9c179e"
             ],
             [
              0.4444444444444444,
              "#bd3786"
             ],
             [
              0.5555555555555556,
              "#d8576b"
             ],
             [
              0.6666666666666666,
              "#ed7953"
             ],
             [
              0.7777777777777778,
              "#fb9f3a"
             ],
             [
              0.8888888888888888,
              "#fdca26"
             ],
             [
              1,
              "#f0f921"
             ]
            ],
            "type": "histogram2d"
           }
          ],
          "histogram2dcontour": [
           {
            "colorbar": {
             "outlinewidth": 0,
             "ticks": ""
            },
            "colorscale": [
             [
              0,
              "#0d0887"
             ],
             [
              0.1111111111111111,
              "#46039f"
             ],
             [
              0.2222222222222222,
              "#7201a8"
             ],
             [
              0.3333333333333333,
              "#9c179e"
             ],
             [
              0.4444444444444444,
              "#bd3786"
             ],
             [
              0.5555555555555556,
              "#d8576b"
             ],
             [
              0.6666666666666666,
              "#ed7953"
             ],
             [
              0.7777777777777778,
              "#fb9f3a"
             ],
             [
              0.8888888888888888,
              "#fdca26"
             ],
             [
              1,
              "#f0f921"
             ]
            ],
            "type": "histogram2dcontour"
           }
          ],
          "mesh3d": [
           {
            "colorbar": {
             "outlinewidth": 0,
             "ticks": ""
            },
            "type": "mesh3d"
           }
          ],
          "parcoords": [
           {
            "line": {
             "colorbar": {
              "outlinewidth": 0,
              "ticks": ""
             }
            },
            "type": "parcoords"
           }
          ],
          "pie": [
           {
            "automargin": true,
            "type": "pie"
           }
          ],
          "scatter": [
           {
            "marker": {
             "colorbar": {
              "outlinewidth": 0,
              "ticks": ""
             }
            },
            "type": "scatter"
           }
          ],
          "scatter3d": [
           {
            "line": {
             "colorbar": {
              "outlinewidth": 0,
              "ticks": ""
             }
            },
            "marker": {
             "colorbar": {
              "outlinewidth": 0,
              "ticks": ""
             }
            },
            "type": "scatter3d"
           }
          ],
          "scattercarpet": [
           {
            "marker": {
             "colorbar": {
              "outlinewidth": 0,
              "ticks": ""
             }
            },
            "type": "scattercarpet"
           }
          ],
          "scattergeo": [
           {
            "marker": {
             "colorbar": {
              "outlinewidth": 0,
              "ticks": ""
             }
            },
            "type": "scattergeo"
           }
          ],
          "scattergl": [
           {
            "marker": {
             "colorbar": {
              "outlinewidth": 0,
              "ticks": ""
             }
            },
            "type": "scattergl"
           }
          ],
          "scattermapbox": [
           {
            "marker": {
             "colorbar": {
              "outlinewidth": 0,
              "ticks": ""
             }
            },
            "type": "scattermapbox"
           }
          ],
          "scatterpolar": [
           {
            "marker": {
             "colorbar": {
              "outlinewidth": 0,
              "ticks": ""
             }
            },
            "type": "scatterpolar"
           }
          ],
          "scatterpolargl": [
           {
            "marker": {
             "colorbar": {
              "outlinewidth": 0,
              "ticks": ""
             }
            },
            "type": "scatterpolargl"
           }
          ],
          "scatterternary": [
           {
            "marker": {
             "colorbar": {
              "outlinewidth": 0,
              "ticks": ""
             }
            },
            "type": "scatterternary"
           }
          ],
          "surface": [
           {
            "colorbar": {
             "outlinewidth": 0,
             "ticks": ""
            },
            "colorscale": [
             [
              0,
              "#0d0887"
             ],
             [
              0.1111111111111111,
              "#46039f"
             ],
             [
              0.2222222222222222,
              "#7201a8"
             ],
             [
              0.3333333333333333,
              "#9c179e"
             ],
             [
              0.4444444444444444,
              "#bd3786"
             ],
             [
              0.5555555555555556,
              "#d8576b"
             ],
             [
              0.6666666666666666,
              "#ed7953"
             ],
             [
              0.7777777777777778,
              "#fb9f3a"
             ],
             [
              0.8888888888888888,
              "#fdca26"
             ],
             [
              1,
              "#f0f921"
             ]
            ],
            "type": "surface"
           }
          ],
          "table": [
           {
            "cells": {
             "fill": {
              "color": "#EBF0F8"
             },
             "line": {
              "color": "white"
             }
            },
            "header": {
             "fill": {
              "color": "#C8D4E3"
             },
             "line": {
              "color": "white"
             }
            },
            "type": "table"
           }
          ]
         },
         "layout": {
          "annotationdefaults": {
           "arrowcolor": "#2a3f5f",
           "arrowhead": 0,
           "arrowwidth": 1
          },
          "coloraxis": {
           "colorbar": {
            "outlinewidth": 0,
            "ticks": ""
           }
          },
          "colorscale": {
           "diverging": [
            [
             0,
             "#8e0152"
            ],
            [
             0.1,
             "#c51b7d"
            ],
            [
             0.2,
             "#de77ae"
            ],
            [
             0.3,
             "#f1b6da"
            ],
            [
             0.4,
             "#fde0ef"
            ],
            [
             0.5,
             "#f7f7f7"
            ],
            [
             0.6,
             "#e6f5d0"
            ],
            [
             0.7,
             "#b8e186"
            ],
            [
             0.8,
             "#7fbc41"
            ],
            [
             0.9,
             "#4d9221"
            ],
            [
             1,
             "#276419"
            ]
           ],
           "sequential": [
            [
             0,
             "#0d0887"
            ],
            [
             0.1111111111111111,
             "#46039f"
            ],
            [
             0.2222222222222222,
             "#7201a8"
            ],
            [
             0.3333333333333333,
             "#9c179e"
            ],
            [
             0.4444444444444444,
             "#bd3786"
            ],
            [
             0.5555555555555556,
             "#d8576b"
            ],
            [
             0.6666666666666666,
             "#ed7953"
            ],
            [
             0.7777777777777778,
             "#fb9f3a"
            ],
            [
             0.8888888888888888,
             "#fdca26"
            ],
            [
             1,
             "#f0f921"
            ]
           ],
           "sequentialminus": [
            [
             0,
             "#0d0887"
            ],
            [
             0.1111111111111111,
             "#46039f"
            ],
            [
             0.2222222222222222,
             "#7201a8"
            ],
            [
             0.3333333333333333,
             "#9c179e"
            ],
            [
             0.4444444444444444,
             "#bd3786"
            ],
            [
             0.5555555555555556,
             "#d8576b"
            ],
            [
             0.6666666666666666,
             "#ed7953"
            ],
            [
             0.7777777777777778,
             "#fb9f3a"
            ],
            [
             0.8888888888888888,
             "#fdca26"
            ],
            [
             1,
             "#f0f921"
            ]
           ]
          },
          "colorway": [
           "#636efa",
           "#EF553B",
           "#00cc96",
           "#ab63fa",
           "#FFA15A",
           "#19d3f3",
           "#FF6692",
           "#B6E880",
           "#FF97FF",
           "#FECB52"
          ],
          "font": {
           "color": "#2a3f5f"
          },
          "geo": {
           "bgcolor": "white",
           "lakecolor": "white",
           "landcolor": "#E5ECF6",
           "showlakes": true,
           "showland": true,
           "subunitcolor": "white"
          },
          "hoverlabel": {
           "align": "left"
          },
          "hovermode": "closest",
          "mapbox": {
           "style": "light"
          },
          "paper_bgcolor": "white",
          "plot_bgcolor": "#E5ECF6",
          "polar": {
           "angularaxis": {
            "gridcolor": "white",
            "linecolor": "white",
            "ticks": ""
           },
           "bgcolor": "#E5ECF6",
           "radialaxis": {
            "gridcolor": "white",
            "linecolor": "white",
            "ticks": ""
           }
          },
          "scene": {
           "xaxis": {
            "backgroundcolor": "#E5ECF6",
            "gridcolor": "white",
            "gridwidth": 2,
            "linecolor": "white",
            "showbackground": true,
            "ticks": "",
            "zerolinecolor": "white"
           },
           "yaxis": {
            "backgroundcolor": "#E5ECF6",
            "gridcolor": "white",
            "gridwidth": 2,
            "linecolor": "white",
            "showbackground": true,
            "ticks": "",
            "zerolinecolor": "white"
           },
           "zaxis": {
            "backgroundcolor": "#E5ECF6",
            "gridcolor": "white",
            "gridwidth": 2,
            "linecolor": "white",
            "showbackground": true,
            "ticks": "",
            "zerolinecolor": "white"
           }
          },
          "shapedefaults": {
           "line": {
            "color": "#2a3f5f"
           }
          },
          "ternary": {
           "aaxis": {
            "gridcolor": "white",
            "linecolor": "white",
            "ticks": ""
           },
           "baxis": {
            "gridcolor": "white",
            "linecolor": "white",
            "ticks": ""
           },
           "bgcolor": "#E5ECF6",
           "caxis": {
            "gridcolor": "white",
            "linecolor": "white",
            "ticks": ""
           }
          },
          "title": {
           "x": 0.05
          },
          "xaxis": {
           "automargin": true,
           "gridcolor": "white",
           "linecolor": "white",
           "ticks": "",
           "title": {
            "standoff": 15
           },
           "zerolinecolor": "white",
           "zerolinewidth": 2
          },
          "yaxis": {
           "automargin": true,
           "gridcolor": "white",
           "linecolor": "white",
           "ticks": "",
           "title": {
            "standoff": 15
           },
           "zerolinecolor": "white",
           "zerolinewidth": 2
          }
         }
        },
        "title": {
         "text": "Foot Locker Stores in USA"
        }
       }
      },
      "text/html": [
       "<div>                            <div id=\"5079bda6-2e36-48ab-82ba-7a9e7e731401\" class=\"plotly-graph-div\" style=\"height:525px; width:100%;\"></div>            <script type=\"text/javascript\">                require([\"plotly\"], function(Plotly) {                    window.PLOTLYENV=window.PLOTLYENV || {};                                    if (document.getElementById(\"5079bda6-2e36-48ab-82ba-7a9e7e731401\")) {                    Plotly.newPlot(                        \"5079bda6-2e36-48ab-82ba-7a9e7e731401\",                        [{\"lat\": [32.2228765, 39.729432, 21.304547, 41.6010821, 30.38768847843216, 42.2097963, 42.433336700000005, 38.63510455, 39.5261206, 35.7803977, 41.703535373637315, 40.62977289196522, 34.849582549999994, 38.9317403, 33.9852331, 36.808457913043476, 34.14468215, 37.6390972, 38.5810606, 37.779026200000004, 34.413819000000004, 34.06992075973865, 39.6784196, 39.82291025, 25.78680175, 26.0031465, 32.54061724232528, 33.7737582, 33.7123305, 38.95645560000001, 37.67467903691116, 51.6414714, 40.660132899999994, 39.967056899999996, 52.6753858, 42.9383918, 40.7365804, 40.7266477, 40.72295145, 34.6086854, 35.4729886, 36.04487895051442, 32.5888072, 30.595528899999998, 31.7754152, 32.66829037006872, 29.529399800000004, 27.519984100000002, 33.53931825, 26.2043691, 32.8077597, 46.2087066, 47.4627356, 33.71949997536807, 33.84901590182325, 40.918985299999996, 42.726898600000006, 18.234483899999997, 35.8534714], \"lon\": [-110.9748477, -104.8319196, -157.8556764, -87.5581579, -91.08695006192691, -71.001075, -82.9238847, -90.34766327799959, -119.81265810000001, -78.63909890000001, -83.64646516990508, -75.48274180315566, -82.33315889539456, -77.1670637790478, -118.39447040000002, -119.7794255652174, -118.25889419596773, -120.99687820000001, -121.49389509999999, -122.4199061, -118.56103780000001, -117.92740232440329, -75.65239689667357, -75.54386967715169, -80.36568305135796, -80.223937, -84.92481813007291, -84.29606899999999, -84.1051939, -94.721435, -97.22217214924756, -0.18289249999999999, -74.1734442, -74.9426677, -6.3071676, -78.6847515, -73.8783932, -73.6343052, -73.99924135088084, -98.3903305, -97.5170536, -95.88788251794321, -96.95536750000001, -96.3071042, -106.464634, -97.4198410795905, -95.20104470000001, -99.49537640000001, -101.92559859714619, -98.230082, -96.62323717787089, -119.1199192, -122.2559156, -84.52704116556286, -84.35903519514736, -74.0794263, -83.4145584, -66.0375248, -79.0720386], \"marker\": {\"color\": \"blue\", \"size\": 10, \"symbol\": \"triangle-up\"}, \"mode\": \"markers\", \"type\": \"scattergeo\"}],                        {\"geo\": {\"scope\": \"usa\"}, \"template\": {\"data\": {\"bar\": [{\"error_x\": {\"color\": \"#2a3f5f\"}, \"error_y\": {\"color\": \"#2a3f5f\"}, \"marker\": {\"line\": {\"color\": \"#E5ECF6\", \"width\": 0.5}}, \"type\": \"bar\"}], \"barpolar\": [{\"marker\": {\"line\": {\"color\": \"#E5ECF6\", \"width\": 0.5}}, \"type\": \"barpolar\"}], \"carpet\": [{\"aaxis\": {\"endlinecolor\": \"#2a3f5f\", \"gridcolor\": \"white\", \"linecolor\": \"white\", \"minorgridcolor\": \"white\", \"startlinecolor\": \"#2a3f5f\"}, \"baxis\": {\"endlinecolor\": \"#2a3f5f\", \"gridcolor\": \"white\", \"linecolor\": \"white\", \"minorgridcolor\": \"white\", \"startlinecolor\": \"#2a3f5f\"}, \"type\": \"carpet\"}], \"choropleth\": [{\"colorbar\": {\"outlinewidth\": 0, \"ticks\": \"\"}, \"type\": \"choropleth\"}], \"contour\": [{\"colorbar\": {\"outlinewidth\": 0, \"ticks\": \"\"}, \"colorscale\": [[0.0, \"#0d0887\"], [0.1111111111111111, \"#46039f\"], [0.2222222222222222, \"#7201a8\"], [0.3333333333333333, \"#9c179e\"], [0.4444444444444444, \"#bd3786\"], [0.5555555555555556, \"#d8576b\"], [0.6666666666666666, \"#ed7953\"], [0.7777777777777778, \"#fb9f3a\"], [0.8888888888888888, \"#fdca26\"], [1.0, \"#f0f921\"]], \"type\": \"contour\"}], \"contourcarpet\": [{\"colorbar\": {\"outlinewidth\": 0, \"ticks\": \"\"}, \"type\": \"contourcarpet\"}], \"heatmap\": [{\"colorbar\": {\"outlinewidth\": 0, \"ticks\": \"\"}, \"colorscale\": [[0.0, \"#0d0887\"], [0.1111111111111111, \"#46039f\"], [0.2222222222222222, \"#7201a8\"], [0.3333333333333333, \"#9c179e\"], [0.4444444444444444, \"#bd3786\"], [0.5555555555555556, \"#d8576b\"], [0.6666666666666666, \"#ed7953\"], [0.7777777777777778, \"#fb9f3a\"], [0.8888888888888888, \"#fdca26\"], [1.0, \"#f0f921\"]], \"type\": \"heatmap\"}], \"heatmapgl\": [{\"colorbar\": {\"outlinewidth\": 0, \"ticks\": \"\"}, \"colorscale\": [[0.0, \"#0d0887\"], [0.1111111111111111, \"#46039f\"], [0.2222222222222222, \"#7201a8\"], [0.3333333333333333, \"#9c179e\"], [0.4444444444444444, \"#bd3786\"], [0.5555555555555556, \"#d8576b\"], [0.6666666666666666, \"#ed7953\"], [0.7777777777777778, \"#fb9f3a\"], [0.8888888888888888, \"#fdca26\"], [1.0, \"#f0f921\"]], \"type\": \"heatmapgl\"}], \"histogram\": [{\"marker\": {\"colorbar\": {\"outlinewidth\": 0, \"ticks\": \"\"}}, \"type\": \"histogram\"}], \"histogram2d\": [{\"colorbar\": {\"outlinewidth\": 0, \"ticks\": \"\"}, \"colorscale\": [[0.0, \"#0d0887\"], [0.1111111111111111, \"#46039f\"], [0.2222222222222222, \"#7201a8\"], [0.3333333333333333, \"#9c179e\"], [0.4444444444444444, \"#bd3786\"], [0.5555555555555556, \"#d8576b\"], [0.6666666666666666, \"#ed7953\"], [0.7777777777777778, \"#fb9f3a\"], [0.8888888888888888, \"#fdca26\"], [1.0, \"#f0f921\"]], \"type\": \"histogram2d\"}], \"histogram2dcontour\": [{\"colorbar\": {\"outlinewidth\": 0, \"ticks\": \"\"}, \"colorscale\": [[0.0, \"#0d0887\"], [0.1111111111111111, \"#46039f\"], [0.2222222222222222, \"#7201a8\"], [0.3333333333333333, \"#9c179e\"], [0.4444444444444444, \"#bd3786\"], [0.5555555555555556, \"#d8576b\"], [0.6666666666666666, \"#ed7953\"], [0.7777777777777778, \"#fb9f3a\"], [0.8888888888888888, \"#fdca26\"], [1.0, \"#f0f921\"]], \"type\": \"histogram2dcontour\"}], \"mesh3d\": [{\"colorbar\": {\"outlinewidth\": 0, \"ticks\": \"\"}, \"type\": \"mesh3d\"}], \"parcoords\": [{\"line\": {\"colorbar\": {\"outlinewidth\": 0, \"ticks\": \"\"}}, \"type\": \"parcoords\"}], \"pie\": [{\"automargin\": true, \"type\": \"pie\"}], \"scatter\": [{\"marker\": {\"colorbar\": {\"outlinewidth\": 0, \"ticks\": \"\"}}, \"type\": \"scatter\"}], \"scatter3d\": [{\"line\": {\"colorbar\": {\"outlinewidth\": 0, \"ticks\": \"\"}}, \"marker\": {\"colorbar\": {\"outlinewidth\": 0, \"ticks\": \"\"}}, \"type\": \"scatter3d\"}], \"scattercarpet\": [{\"marker\": {\"colorbar\": {\"outlinewidth\": 0, \"ticks\": \"\"}}, \"type\": \"scattercarpet\"}], \"scattergeo\": [{\"marker\": {\"colorbar\": {\"outlinewidth\": 0, \"ticks\": \"\"}}, \"type\": \"scattergeo\"}], \"scattergl\": [{\"marker\": {\"colorbar\": {\"outlinewidth\": 0, \"ticks\": \"\"}}, \"type\": \"scattergl\"}], \"scattermapbox\": [{\"marker\": {\"colorbar\": {\"outlinewidth\": 0, \"ticks\": \"\"}}, \"type\": \"scattermapbox\"}], \"scatterpolar\": [{\"marker\": {\"colorbar\": {\"outlinewidth\": 0, \"ticks\": \"\"}}, \"type\": \"scatterpolar\"}], \"scatterpolargl\": [{\"marker\": {\"colorbar\": {\"outlinewidth\": 0, \"ticks\": \"\"}}, \"type\": \"scatterpolargl\"}], \"scatterternary\": [{\"marker\": {\"colorbar\": {\"outlinewidth\": 0, \"ticks\": \"\"}}, \"type\": \"scatterternary\"}], \"surface\": [{\"colorbar\": {\"outlinewidth\": 0, \"ticks\": \"\"}, \"colorscale\": [[0.0, \"#0d0887\"], [0.1111111111111111, \"#46039f\"], [0.2222222222222222, \"#7201a8\"], [0.3333333333333333, \"#9c179e\"], [0.4444444444444444, \"#bd3786\"], [0.5555555555555556, \"#d8576b\"], [0.6666666666666666, \"#ed7953\"], [0.7777777777777778, \"#fb9f3a\"], [0.8888888888888888, \"#fdca26\"], [1.0, \"#f0f921\"]], \"type\": \"surface\"}], \"table\": [{\"cells\": {\"fill\": {\"color\": \"#EBF0F8\"}, \"line\": {\"color\": \"white\"}}, \"header\": {\"fill\": {\"color\": \"#C8D4E3\"}, \"line\": {\"color\": \"white\"}}, \"type\": \"table\"}]}, \"layout\": {\"annotationdefaults\": {\"arrowcolor\": \"#2a3f5f\", \"arrowhead\": 0, \"arrowwidth\": 1}, \"coloraxis\": {\"colorbar\": {\"outlinewidth\": 0, \"ticks\": \"\"}}, \"colorscale\": {\"diverging\": [[0, \"#8e0152\"], [0.1, \"#c51b7d\"], [0.2, \"#de77ae\"], [0.3, \"#f1b6da\"], [0.4, \"#fde0ef\"], [0.5, \"#f7f7f7\"], [0.6, \"#e6f5d0\"], [0.7, \"#b8e186\"], [0.8, \"#7fbc41\"], [0.9, \"#4d9221\"], [1, \"#276419\"]], \"sequential\": [[0.0, \"#0d0887\"], [0.1111111111111111, \"#46039f\"], [0.2222222222222222, \"#7201a8\"], [0.3333333333333333, \"#9c179e\"], [0.4444444444444444, \"#bd3786\"], [0.5555555555555556, \"#d8576b\"], [0.6666666666666666, \"#ed7953\"], [0.7777777777777778, \"#fb9f3a\"], [0.8888888888888888, \"#fdca26\"], [1.0, \"#f0f921\"]], \"sequentialminus\": [[0.0, \"#0d0887\"], [0.1111111111111111, \"#46039f\"], [0.2222222222222222, \"#7201a8\"], [0.3333333333333333, \"#9c179e\"], [0.4444444444444444, \"#bd3786\"], [0.5555555555555556, \"#d8576b\"], [0.6666666666666666, \"#ed7953\"], [0.7777777777777778, \"#fb9f3a\"], [0.8888888888888888, \"#fdca26\"], [1.0, \"#f0f921\"]]}, \"colorway\": [\"#636efa\", \"#EF553B\", \"#00cc96\", \"#ab63fa\", \"#FFA15A\", \"#19d3f3\", \"#FF6692\", \"#B6E880\", \"#FF97FF\", \"#FECB52\"], \"font\": {\"color\": \"#2a3f5f\"}, \"geo\": {\"bgcolor\": \"white\", \"lakecolor\": \"white\", \"landcolor\": \"#E5ECF6\", \"showlakes\": true, \"showland\": true, \"subunitcolor\": \"white\"}, \"hoverlabel\": {\"align\": \"left\"}, \"hovermode\": \"closest\", \"mapbox\": {\"style\": \"light\"}, \"paper_bgcolor\": \"white\", \"plot_bgcolor\": \"#E5ECF6\", \"polar\": {\"angularaxis\": {\"gridcolor\": \"white\", \"linecolor\": \"white\", \"ticks\": \"\"}, \"bgcolor\": \"#E5ECF6\", \"radialaxis\": {\"gridcolor\": \"white\", \"linecolor\": \"white\", \"ticks\": \"\"}}, \"scene\": {\"xaxis\": {\"backgroundcolor\": \"#E5ECF6\", \"gridcolor\": \"white\", \"gridwidth\": 2, \"linecolor\": \"white\", \"showbackground\": true, \"ticks\": \"\", \"zerolinecolor\": \"white\"}, \"yaxis\": {\"backgroundcolor\": \"#E5ECF6\", \"gridcolor\": \"white\", \"gridwidth\": 2, \"linecolor\": \"white\", \"showbackground\": true, \"ticks\": \"\", \"zerolinecolor\": \"white\"}, \"zaxis\": {\"backgroundcolor\": \"#E5ECF6\", \"gridcolor\": \"white\", \"gridwidth\": 2, \"linecolor\": \"white\", \"showbackground\": true, \"ticks\": \"\", \"zerolinecolor\": \"white\"}}, \"shapedefaults\": {\"line\": {\"color\": \"#2a3f5f\"}}, \"ternary\": {\"aaxis\": {\"gridcolor\": \"white\", \"linecolor\": \"white\", \"ticks\": \"\"}, \"baxis\": {\"gridcolor\": \"white\", \"linecolor\": \"white\", \"ticks\": \"\"}, \"bgcolor\": \"#E5ECF6\", \"caxis\": {\"gridcolor\": \"white\", \"linecolor\": \"white\", \"ticks\": \"\"}}, \"title\": {\"x\": 0.05}, \"xaxis\": {\"automargin\": true, \"gridcolor\": \"white\", \"linecolor\": \"white\", \"ticks\": \"\", \"title\": {\"standoff\": 15}, \"zerolinecolor\": \"white\", \"zerolinewidth\": 2}, \"yaxis\": {\"automargin\": true, \"gridcolor\": \"white\", \"linecolor\": \"white\", \"ticks\": \"\", \"title\": {\"standoff\": 15}, \"zerolinecolor\": \"white\", \"zerolinewidth\": 2}}}, \"title\": {\"text\": \"Foot Locker Stores in USA\"}},                        {\"responsive\": true}                    ).then(function(){\n",
       "                            \n",
       "var gd = document.getElementById('5079bda6-2e36-48ab-82ba-7a9e7e731401');\n",
       "var x = new MutationObserver(function (mutations, observer) {{\n",
       "        var display = window.getComputedStyle(gd).display;\n",
       "        if (!display || display === 'none') {{\n",
       "            console.log([gd, 'removed!']);\n",
       "            Plotly.purge(gd);\n",
       "            observer.disconnect();\n",
       "        }}\n",
       "}});\n",
       "\n",
       "// Listen for the removal of the full notebook cells\n",
       "var notebookContainer = gd.closest('#notebook-container');\n",
       "if (notebookContainer) {{\n",
       "    x.observe(notebookContainer, {childList: true});\n",
       "}}\n",
       "\n",
       "// Listen for the clearing of the current output cell\n",
       "var outputEl = gd.closest('.output');\n",
       "if (outputEl) {{\n",
       "    x.observe(outputEl, {childList: true});\n",
       "}}\n",
       "\n",
       "                        })                };                });            </script>        </div>"
      ]
     },
     "metadata": {},
     "output_type": "display_data"
    }
   ],
   "source": [
    "data = go.Scattergeo(lat = cleaned_df['latitude'], lon = cleaned_df['longitude'], mode = 'markers', marker=dict(symbol ='triangle-up', size=10, color='blue'))\n",
    "layout = dict(title = 'Foot Locker Stores in USA',\n",
    "              geo_scope = 'usa'\n",
    "             )\n",
    "fig = go.Figure(data = [data], layout = layout)\n",
    "fig.show()"
   ]
  },
  {
   "cell_type": "code",
   "execution_count": 61,
   "metadata": {},
   "outputs": [
    {
     "data": {
      "text/plain": [
       "address_line_1     0\n",
       "address_line_2    22\n",
       "city               0\n",
       "name               0\n",
       "phone              0\n",
       "state              2\n",
       "url                0\n",
       "zip_code           0\n",
       "address            0\n",
       "Updated_Date       0\n",
       "point              0\n",
       "latitude           0\n",
       "longitude          0\n",
       "dtype: int64"
      ]
     },
     "execution_count": 61,
     "metadata": {},
     "output_type": "execute_result"
    }
   ],
   "source": [
    "cleaned_df.isna().sum()"
   ]
  },
  {
   "cell_type": "code",
   "execution_count": 75,
   "metadata": {},
   "outputs": [
    {
     "data": {
      "text/html": [
       "<div>\n",
       "<style scoped>\n",
       "    .dataframe tbody tr th:only-of-type {\n",
       "        vertical-align: middle;\n",
       "    }\n",
       "\n",
       "    .dataframe tbody tr th {\n",
       "        vertical-align: top;\n",
       "    }\n",
       "\n",
       "    .dataframe thead th {\n",
       "        text-align: right;\n",
       "    }\n",
       "</style>\n",
       "<table border=\"1\" class=\"dataframe\">\n",
       "  <thead>\n",
       "    <tr style=\"text-align: right;\">\n",
       "      <th></th>\n",
       "      <th>address_line_1</th>\n",
       "      <th>address_line_2</th>\n",
       "      <th>city</th>\n",
       "      <th>name</th>\n",
       "      <th>phone</th>\n",
       "      <th>state</th>\n",
       "      <th>url</th>\n",
       "      <th>zip_code</th>\n",
       "      <th>address</th>\n",
       "      <th>Updated_Date</th>\n",
       "      <th>point</th>\n",
       "      <th>latitude</th>\n",
       "      <th>longitude</th>\n",
       "    </tr>\n",
       "  </thead>\n",
       "  <tbody>\n",
       "    <tr>\n",
       "      <th>54</th>\n",
       "      <td>3393 Peachtree Rd Ne</td>\n",
       "      <td>Space 2016</td>\n",
       "      <td>Atlanta</td>\n",
       "      <td>Lenox Square Mall</td>\n",
       "      <td>(404) 266-0107</td>\n",
       "      <td>GA</td>\n",
       "      <td>https://stores.ladyfootlocker.com/us/ga/atlant...</td>\n",
       "      <td>30326</td>\n",
       "      <td>3393 Peachtree Rd Ne, Space 2016, Atlanta, GA,...</td>\n",
       "      <td>2021-02-28</td>\n",
       "      <td>(33.84901590182325, -84.35903519514736)</td>\n",
       "      <td>33.849016</td>\n",
       "      <td>-84.359035</td>\n",
       "    </tr>\n",
       "    <tr>\n",
       "      <th>55</th>\n",
       "      <td>1009 Garden State Plaza</td>\n",
       "      <td>NaN</td>\n",
       "      <td>Paramus</td>\n",
       "      <td>Westfield Garden State Plaza</td>\n",
       "      <td>(201) 843-2605</td>\n",
       "      <td>NJ</td>\n",
       "      <td>https://stores.ladyfootlocker.com/us/nj/paramu...</td>\n",
       "      <td>7652</td>\n",
       "      <td>1009 Garden State Plaza, Paramus, NJ, 07652</td>\n",
       "      <td>2021-02-28</td>\n",
       "      <td>(40.9189853, -74.0794263)</td>\n",
       "      <td>40.918985</td>\n",
       "      <td>-74.079426</td>\n",
       "    </tr>\n",
       "    <tr>\n",
       "      <th>56</th>\n",
       "      <td>700 Paramus Park</td>\n",
       "      <td>Ste 1021</td>\n",
       "      <td>Paramus</td>\n",
       "      <td>Paramus Park Mall</td>\n",
       "      <td>(201) 261-9118</td>\n",
       "      <td>NJ</td>\n",
       "      <td>https://stores.ladyfootlocker.com/us/nj/paramu...</td>\n",
       "      <td>7652</td>\n",
       "      <td>700 Paramus Park, Ste 1021, Paramus, NJ, 07652</td>\n",
       "      <td>2021-02-28</td>\n",
       "      <td>(42.7268986, -83.4145584)</td>\n",
       "      <td>42.726899</td>\n",
       "      <td>-83.414558</td>\n",
       "    </tr>\n",
       "    <tr>\n",
       "      <th>57</th>\n",
       "      <td>400 Calle Betances</td>\n",
       "      <td>NaN</td>\n",
       "      <td>Caguas</td>\n",
       "      <td>Las Catalinas Mall</td>\n",
       "      <td>(787) 745-0560</td>\n",
       "      <td>NaN</td>\n",
       "      <td>https://stores.ladyfootlocker.com//pr/pr/carol...</td>\n",
       "      <td>725</td>\n",
       "      <td>400 Calle Betances , Caguas , , 00725</td>\n",
       "      <td>2021-02-28</td>\n",
       "      <td>(18.2344839, -66.0375248)</td>\n",
       "      <td>18.234484</td>\n",
       "      <td>-66.037525</td>\n",
       "    </tr>\n",
       "    <tr>\n",
       "      <th>58</th>\n",
       "      <td>200 Ave Fragoso</td>\n",
       "      <td>NaN</td>\n",
       "      <td>Carolina</td>\n",
       "      <td>Plaza Carolina</td>\n",
       "      <td>(787) 752-4460</td>\n",
       "      <td>NaN</td>\n",
       "      <td>https://stores.ladyfootlocker.com//pr/pr/cagua...</td>\n",
       "      <td>983</td>\n",
       "      <td>200 Ave Fragoso, Carolina , , 00983</td>\n",
       "      <td>2021-02-28</td>\n",
       "      <td>(35.8534714, -79.0720386)</td>\n",
       "      <td>35.853471</td>\n",
       "      <td>-79.072039</td>\n",
       "    </tr>\n",
       "  </tbody>\n",
       "</table>\n",
       "</div>"
      ],
      "text/plain": [
       "             address_line_1 address_line_2       city  \\\n",
       "54     3393 Peachtree Rd Ne     Space 2016    Atlanta   \n",
       "55  1009 Garden State Plaza            NaN    Paramus   \n",
       "56         700 Paramus Park       Ste 1021    Paramus   \n",
       "57      400 Calle Betances             NaN    Caguas    \n",
       "58          200 Ave Fragoso            NaN  Carolina    \n",
       "\n",
       "                            name            phone state  \\\n",
       "54             Lenox Square Mall   (404) 266-0107    GA   \n",
       "55  Westfield Garden State Plaza   (201) 843-2605    NJ   \n",
       "56             Paramus Park Mall   (201) 261-9118    NJ   \n",
       "57            Las Catalinas Mall   (787) 745-0560   NaN   \n",
       "58                Plaza Carolina  (787) 752-4460    NaN   \n",
       "\n",
       "                                                  url  zip_code  \\\n",
       "54  https://stores.ladyfootlocker.com/us/ga/atlant...     30326   \n",
       "55  https://stores.ladyfootlocker.com/us/nj/paramu...      7652   \n",
       "56  https://stores.ladyfootlocker.com/us/nj/paramu...      7652   \n",
       "57  https://stores.ladyfootlocker.com//pr/pr/carol...       725   \n",
       "58  https://stores.ladyfootlocker.com//pr/pr/cagua...       983   \n",
       "\n",
       "                                              address Updated_Date  \\\n",
       "54  3393 Peachtree Rd Ne, Space 2016, Atlanta, GA,...   2021-02-28   \n",
       "55        1009 Garden State Plaza, Paramus, NJ, 07652   2021-02-28   \n",
       "56     700 Paramus Park, Ste 1021, Paramus, NJ, 07652   2021-02-28   \n",
       "57              400 Calle Betances , Caguas , , 00725   2021-02-28   \n",
       "58                200 Ave Fragoso, Carolina , , 00983   2021-02-28   \n",
       "\n",
       "                                      point   latitude  longitude  \n",
       "54  (33.84901590182325, -84.35903519514736)  33.849016 -84.359035  \n",
       "55                (40.9189853, -74.0794263)  40.918985 -74.079426  \n",
       "56                (42.7268986, -83.4145584)  42.726899 -83.414558  \n",
       "57                (18.2344839, -66.0375248)  18.234484 -66.037525  \n",
       "58                (35.8534714, -79.0720386)  35.853471 -79.072039  "
      ]
     },
     "execution_count": 75,
     "metadata": {},
     "output_type": "execute_result"
    }
   ],
   "source": [
    "cleaned_df.tail()"
   ]
  },
  {
   "cell_type": "code",
   "execution_count": null,
   "metadata": {},
   "outputs": [],
   "source": []
  }
 ],
 "metadata": {
  "kernelspec": {
   "display_name": "Python 3",
   "language": "python",
   "name": "python3"
  },
  "language_info": {
   "codemirror_mode": {
    "name": "ipython",
    "version": 3
   },
   "file_extension": ".py",
   "mimetype": "text/x-python",
   "name": "python",
   "nbconvert_exporter": "python",
   "pygments_lexer": "ipython3",
   "version": "3.9.0"
  }
 },
 "nbformat": 4,
 "nbformat_minor": 4
}
