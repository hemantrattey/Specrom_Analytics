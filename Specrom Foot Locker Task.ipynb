{
 "cells": [
  {
   "cell_type": "code",
   "execution_count": 119,
   "metadata": {},
   "outputs": [],
   "source": [
    "import pandas as pd\n",
    "import numpy as np \n",
    "import seaborn as sns\n",
    "import matplotlib.pyplot as plt\n",
    "%matplotlib inline"
   ]
  },
  {
   "cell_type": "code",
   "execution_count": 2,
   "metadata": {},
   "outputs": [],
   "source": [
    "# !pip install geopy"
   ]
  },
  {
   "cell_type": "code",
   "execution_count": 3,
   "metadata": {},
   "outputs": [],
   "source": [
    "# !pip install folium"
   ]
  },
  {
   "cell_type": "code",
   "execution_count": 4,
   "metadata": {},
   "outputs": [
    {
     "data": {
      "text/html": [
       "<div>\n",
       "<style scoped>\n",
       "    .dataframe tbody tr th:only-of-type {\n",
       "        vertical-align: middle;\n",
       "    }\n",
       "\n",
       "    .dataframe tbody tr th {\n",
       "        vertical-align: top;\n",
       "    }\n",
       "\n",
       "    .dataframe thead th {\n",
       "        text-align: right;\n",
       "    }\n",
       "</style>\n",
       "<table border=\"1\" class=\"dataframe\">\n",
       "  <thead>\n",
       "    <tr style=\"text-align: right;\">\n",
       "      <th></th>\n",
       "      <th>address_line_1</th>\n",
       "      <th>address_line_2</th>\n",
       "      <th>city</th>\n",
       "      <th>name</th>\n",
       "      <th>phone</th>\n",
       "      <th>state</th>\n",
       "      <th>url</th>\n",
       "      <th>zip_code</th>\n",
       "      <th>address</th>\n",
       "      <th>Updated_Date</th>\n",
       "    </tr>\n",
       "  </thead>\n",
       "  <tbody>\n",
       "    <tr>\n",
       "      <th>0</th>\n",
       "      <td>4500 N Oracle Road</td>\n",
       "      <td>Space 115</td>\n",
       "      <td>Tucson</td>\n",
       "      <td>Tucson Mall</td>\n",
       "      <td>(520) 888-0336</td>\n",
       "      <td>AZ</td>\n",
       "      <td>https://stores.ladyfootlocker.com/us/az/tucson...</td>\n",
       "      <td>85705</td>\n",
       "      <td>4500 N Oracle Road, Space 115, Tucson, AZ, 85705</td>\n",
       "      <td>2021-02-28</td>\n",
       "    </tr>\n",
       "    <tr>\n",
       "      <th>1</th>\n",
       "      <td>14200 E Alameda Ave</td>\n",
       "      <td>Space 2055</td>\n",
       "      <td>Aurora</td>\n",
       "      <td>Town Center At Aurora</td>\n",
       "      <td>(303) 363-8068</td>\n",
       "      <td>CO</td>\n",
       "      <td>https://stores.ladyfootlocker.com/us/co/aurora...</td>\n",
       "      <td>80012</td>\n",
       "      <td>14200 E Alameda Ave, Space 2055, Aurora, CO, 8...</td>\n",
       "      <td>2021-02-28</td>\n",
       "    </tr>\n",
       "    <tr>\n",
       "      <th>2</th>\n",
       "      <td>1450 Ala Moana Blvd</td>\n",
       "      <td>Space 1231</td>\n",
       "      <td>Honolulu</td>\n",
       "      <td>Ala Moana Center</td>\n",
       "      <td>(808) 942-1071</td>\n",
       "      <td>HI</td>\n",
       "      <td>https://stores.ladyfootlocker.com/us/hi/honolu...</td>\n",
       "      <td>96814</td>\n",
       "      <td>1450 Ala Moana Blvd, Space 1231, Honolulu, HI,...</td>\n",
       "      <td>2021-02-28</td>\n",
       "    </tr>\n",
       "    <tr>\n",
       "      <th>3</th>\n",
       "      <td>96 River Oaks Dr</td>\n",
       "      <td>NaN</td>\n",
       "      <td>Calumet City</td>\n",
       "      <td>River Oaks Center</td>\n",
       "      <td>(708) 868-6229</td>\n",
       "      <td>IL</td>\n",
       "      <td>https://stores.ladyfootlocker.com/us/il/calume...</td>\n",
       "      <td>60409</td>\n",
       "      <td>96 River Oaks Dr, Calumet City, IL, 60409</td>\n",
       "      <td>2021-02-28</td>\n",
       "    </tr>\n",
       "    <tr>\n",
       "      <th>4</th>\n",
       "      <td>6401 Bluebonnet Blvd</td>\n",
       "      <td>Space 2114</td>\n",
       "      <td>Baton Rouge</td>\n",
       "      <td>Mall Of Louisiana</td>\n",
       "      <td>(225) 767-2198</td>\n",
       "      <td>LA</td>\n",
       "      <td>https://stores.ladyfootlocker.com/us/la/baton-...</td>\n",
       "      <td>70836</td>\n",
       "      <td>6401 Bluebonnet Blvd, Space 2114, Baton Rouge,...</td>\n",
       "      <td>2021-02-28</td>\n",
       "    </tr>\n",
       "  </tbody>\n",
       "</table>\n",
       "</div>"
      ],
      "text/plain": [
       "         address_line_1 address_line_2          city                   name  \\\n",
       "0    4500 N Oracle Road      Space 115        Tucson            Tucson Mall   \n",
       "1   14200 E Alameda Ave     Space 2055        Aurora  Town Center At Aurora   \n",
       "2   1450 Ala Moana Blvd     Space 1231      Honolulu       Ala Moana Center   \n",
       "3      96 River Oaks Dr            NaN  Calumet City      River Oaks Center   \n",
       "4  6401 Bluebonnet Blvd     Space 2114   Baton Rouge      Mall Of Louisiana   \n",
       "\n",
       "            phone state                                                url  \\\n",
       "0  (520) 888-0336    AZ  https://stores.ladyfootlocker.com/us/az/tucson...   \n",
       "1  (303) 363-8068    CO  https://stores.ladyfootlocker.com/us/co/aurora...   \n",
       "2  (808) 942-1071    HI  https://stores.ladyfootlocker.com/us/hi/honolu...   \n",
       "3  (708) 868-6229    IL  https://stores.ladyfootlocker.com/us/il/calume...   \n",
       "4  (225) 767-2198    LA  https://stores.ladyfootlocker.com/us/la/baton-...   \n",
       "\n",
       "   zip_code                                            address Updated_Date  \n",
       "0     85705   4500 N Oracle Road, Space 115, Tucson, AZ, 85705   2021-02-28  \n",
       "1     80012  14200 E Alameda Ave, Space 2055, Aurora, CO, 8...   2021-02-28  \n",
       "2     96814  1450 Ala Moana Blvd, Space 1231, Honolulu, HI,...   2021-02-28  \n",
       "3     60409          96 River Oaks Dr, Calumet City, IL, 60409   2021-02-28  \n",
       "4     70836  6401 Bluebonnet Blvd, Space 2114, Baton Rouge,...   2021-02-28  "
      ]
     },
     "execution_count": 4,
     "metadata": {},
     "output_type": "execute_result"
    }
   ],
   "source": [
    "df = pd.read_csv('lady_footlocker_locations_feb_2021.csv')\n",
    "df.head()"
   ]
  },
  {
   "cell_type": "code",
   "execution_count": 5,
   "metadata": {},
   "outputs": [
    {
     "name": "stdout",
     "output_type": "stream",
     "text": [
      "<class 'pandas.core.frame.DataFrame'>\n",
      "RangeIndex: 59 entries, 0 to 58\n",
      "Data columns (total 10 columns):\n",
      " #   Column          Non-Null Count  Dtype \n",
      "---  ------          --------------  ----- \n",
      " 0   address_line_1  59 non-null     object\n",
      " 1   address_line_2  37 non-null     object\n",
      " 2   city            59 non-null     object\n",
      " 3   name            59 non-null     object\n",
      " 4   phone           59 non-null     object\n",
      " 5   state           57 non-null     object\n",
      " 6   url             59 non-null     object\n",
      " 7   zip_code        59 non-null     int64 \n",
      " 8   address         59 non-null     object\n",
      " 9   Updated_Date    59 non-null     object\n",
      "dtypes: int64(1), object(9)\n",
      "memory usage: 4.7+ KB\n"
     ]
    }
   ],
   "source": [
    "df.info()"
   ]
  },
  {
   "cell_type": "code",
   "execution_count": 6,
   "metadata": {},
   "outputs": [
    {
     "data": {
      "text/plain": [
       "(59, 10)"
      ]
     },
     "execution_count": 6,
     "metadata": {},
     "output_type": "execute_result"
    }
   ],
   "source": [
    "df.shape"
   ]
  },
  {
   "cell_type": "code",
   "execution_count": 54,
   "metadata": {},
   "outputs": [],
   "source": [
    "df['zip_code'] = df['zip_code'].astype(str)"
   ]
  },
  {
   "cell_type": "code",
   "execution_count": 55,
   "metadata": {},
   "outputs": [],
   "source": [
    "from geopy.geocoders import Nominatim\n",
    "from geopy.extra.rate_limiter import RateLimiter"
   ]
  },
  {
   "cell_type": "code",
   "execution_count": 80,
   "metadata": {},
   "outputs": [],
   "source": [
    "geolocator = Nominatim(user_agent='my geocoder')\n",
    "geocode = RateLimiter(geolocator.geocode, min_delay_seconds = 1, max_retries=0)\n",
    "df['point'] = df['address'].apply(geocode)"
   ]
  },
  {
   "cell_type": "code",
   "execution_count": 81,
   "metadata": {},
   "outputs": [],
   "source": [
    "df['point'] = df['point'].apply(lambda x: (x.latitude, x.longitude) if x else np.nan)"
   ]
  },
  {
   "cell_type": "code",
   "execution_count": 82,
   "metadata": {},
   "outputs": [],
   "source": [
    "df['point'].fillna((df['zip_code'] + ' ' + df['city']).apply(geocode).apply(lambda x: (x.latitude, x.longitude)), inplace = True)"
   ]
  },
  {
   "cell_type": "code",
   "execution_count": 83,
   "metadata": {},
   "outputs": [
    {
     "data": {
      "text/plain": [
       "0                   (32.2228765, -110.9748477)\n",
       "1                    (39.729432, -104.8319196)\n",
       "2                    (21.304547, -157.8556764)\n",
       "3                    (41.6010821, -87.5581579)\n",
       "4     (30.387688478432157, -91.08695006192693)\n",
       "5                     (42.2097963, -71.001075)\n",
       "6                    (42.4333367, -82.9238847)\n",
       "7             (38.63510455, -90.3476632779996)\n",
       "8                   (39.5261206, -119.8126581)\n",
       "9                    (35.7803977, -78.6390989)\n",
       "10    (41.703535373637344, -83.64646516990508)\n",
       "11     (40.62977289196522, -75.48274180315565)\n",
       "12    (34.849582549999994, -82.33315889539456)\n",
       "13             (38.9317403, -77.1670637790478)\n",
       "14                  (33.9852331, -118.3944704)\n",
       "15    (36.808457913043476, -119.7794255652174)\n",
       "16          (34.14468215, -118.25889419596774)\n",
       "17                  (37.6390972, -120.9968782)\n",
       "18                  (38.5810606, -121.4938951)\n",
       "19                  (37.7790262, -122.4199061)\n",
       "20                   (34.413819, -118.5610378)\n",
       "21    (34.06992075973865, -117.92740232440329)\n",
       "22            (39.6784196, -75.65239689667357)\n",
       "23           (39.82291025, -75.54386967715169)\n",
       "24    (25.786801750000002, -80.36568305135796)\n",
       "25                    (26.0031465, -80.223937)\n",
       "26    (32.540617242325304, -84.92481813007285)\n",
       "27                    (33.7737582, -84.296069)\n",
       "28                   (33.7123305, -84.1051939)\n",
       "29            (38.956455600000005, -94.721435)\n",
       "30     (37.67467903691115, -97.22217214924753)\n",
       "31                    (51.6414714, -0.1828925)\n",
       "32                   (40.6601329, -74.1734442)\n",
       "33                   (39.9670569, -74.9426677)\n",
       "34                    (52.6753858, -6.3071676)\n",
       "35                   (42.9383918, -78.6847515)\n",
       "36                   (40.7365804, -73.8783932)\n",
       "37                   (40.7266477, -73.6343052)\n",
       "38           (40.72295145, -73.99924135088085)\n",
       "39                   (34.6086854, -98.3903305)\n",
       "40                   (35.4729886, -97.5170536)\n",
       "41     (36.044893394205346, -95.8878795318709)\n",
       "42                   (32.5888072, -96.9553675)\n",
       "43                   (30.5955289, -96.3071042)\n",
       "44                   (31.7754152, -106.464634)\n",
       "45     (32.66829037006874, -97.41984107959031)\n",
       "46                   (29.5293998, -95.2010447)\n",
       "47                   (27.5199841, -99.4953764)\n",
       "48          (33.53931825, -101.92559859714618)\n",
       "49                    (26.2043691, -98.230082)\n",
       "50            (32.8077597, -96.62323717787089)\n",
       "51                  (46.2087066, -119.1199192)\n",
       "52                  (47.4627356, -122.2559156)\n",
       "53      (33.7194999753681, -84.52704116556293)\n",
       "54    (33.849015901823236, -84.35903519514731)\n",
       "55                   (40.9189853, -74.0794263)\n",
       "56                   (42.7268986, -83.4145584)\n",
       "57                   (18.2344839, -66.0375248)\n",
       "58                   (35.8534714, -79.0720386)\n",
       "Name: point, dtype: object"
      ]
     },
     "execution_count": 83,
     "metadata": {},
     "output_type": "execute_result"
    }
   ],
   "source": [
    "df['point']"
   ]
  },
  {
   "cell_type": "code",
   "execution_count": 84,
   "metadata": {},
   "outputs": [],
   "source": [
    "df[['latitude', 'longitude']] = pd.DataFrame(df['point'].to_list(), index=df.index)"
   ]
  },
  {
   "cell_type": "code",
   "execution_count": 85,
   "metadata": {},
   "outputs": [
    {
     "data": {
      "text/html": [
       "<div>\n",
       "<style scoped>\n",
       "    .dataframe tbody tr th:only-of-type {\n",
       "        vertical-align: middle;\n",
       "    }\n",
       "\n",
       "    .dataframe tbody tr th {\n",
       "        vertical-align: top;\n",
       "    }\n",
       "\n",
       "    .dataframe thead th {\n",
       "        text-align: right;\n",
       "    }\n",
       "</style>\n",
       "<table border=\"1\" class=\"dataframe\">\n",
       "  <thead>\n",
       "    <tr style=\"text-align: right;\">\n",
       "      <th></th>\n",
       "      <th>address_line_1</th>\n",
       "      <th>address_line_2</th>\n",
       "      <th>city</th>\n",
       "      <th>name</th>\n",
       "      <th>phone</th>\n",
       "      <th>state</th>\n",
       "      <th>url</th>\n",
       "      <th>zip_code</th>\n",
       "      <th>address</th>\n",
       "      <th>Updated_Date</th>\n",
       "      <th>location</th>\n",
       "      <th>point</th>\n",
       "      <th>latitude</th>\n",
       "      <th>longitude</th>\n",
       "    </tr>\n",
       "  </thead>\n",
       "  <tbody>\n",
       "    <tr>\n",
       "      <th>0</th>\n",
       "      <td>4500 N Oracle Road</td>\n",
       "      <td>Space 115</td>\n",
       "      <td>Tucson</td>\n",
       "      <td>Tucson Mall</td>\n",
       "      <td>(520) 888-0336</td>\n",
       "      <td>AZ</td>\n",
       "      <td>https://stores.ladyfootlocker.com/us/az/tucson...</td>\n",
       "      <td>85705</td>\n",
       "      <td>4500 N Oracle Road, Space 115, Tucson, AZ, 85705</td>\n",
       "      <td>2021-02-28</td>\n",
       "      <td>85705Tucson</td>\n",
       "      <td>(32.2228765, -110.9748477)</td>\n",
       "      <td>32.222876</td>\n",
       "      <td>-110.974848</td>\n",
       "    </tr>\n",
       "    <tr>\n",
       "      <th>1</th>\n",
       "      <td>14200 E Alameda Ave</td>\n",
       "      <td>Space 2055</td>\n",
       "      <td>Aurora</td>\n",
       "      <td>Town Center At Aurora</td>\n",
       "      <td>(303) 363-8068</td>\n",
       "      <td>CO</td>\n",
       "      <td>https://stores.ladyfootlocker.com/us/co/aurora...</td>\n",
       "      <td>80012</td>\n",
       "      <td>14200 E Alameda Ave, Space 2055, Aurora, CO, 8...</td>\n",
       "      <td>2021-02-28</td>\n",
       "      <td>80012Aurora</td>\n",
       "      <td>(39.729432, -104.8319196)</td>\n",
       "      <td>39.729432</td>\n",
       "      <td>-104.831920</td>\n",
       "    </tr>\n",
       "    <tr>\n",
       "      <th>2</th>\n",
       "      <td>1450 Ala Moana Blvd</td>\n",
       "      <td>Space 1231</td>\n",
       "      <td>Honolulu</td>\n",
       "      <td>Ala Moana Center</td>\n",
       "      <td>(808) 942-1071</td>\n",
       "      <td>HI</td>\n",
       "      <td>https://stores.ladyfootlocker.com/us/hi/honolu...</td>\n",
       "      <td>96814</td>\n",
       "      <td>1450 Ala Moana Blvd, Space 1231, Honolulu, HI,...</td>\n",
       "      <td>2021-02-28</td>\n",
       "      <td>96814Honolulu</td>\n",
       "      <td>(21.304547, -157.8556764)</td>\n",
       "      <td>21.304547</td>\n",
       "      <td>-157.855676</td>\n",
       "    </tr>\n",
       "    <tr>\n",
       "      <th>3</th>\n",
       "      <td>96 River Oaks Dr</td>\n",
       "      <td>NaN</td>\n",
       "      <td>Calumet City</td>\n",
       "      <td>River Oaks Center</td>\n",
       "      <td>(708) 868-6229</td>\n",
       "      <td>IL</td>\n",
       "      <td>https://stores.ladyfootlocker.com/us/il/calume...</td>\n",
       "      <td>60409</td>\n",
       "      <td>96 River Oaks Dr, Calumet City, IL, 60409</td>\n",
       "      <td>2021-02-28</td>\n",
       "      <td>(41.6010821, -87.5581579)</td>\n",
       "      <td>(41.6010821, -87.5581579)</td>\n",
       "      <td>41.601082</td>\n",
       "      <td>-87.558158</td>\n",
       "    </tr>\n",
       "    <tr>\n",
       "      <th>4</th>\n",
       "      <td>6401 Bluebonnet Blvd</td>\n",
       "      <td>Space 2114</td>\n",
       "      <td>Baton Rouge</td>\n",
       "      <td>Mall Of Louisiana</td>\n",
       "      <td>(225) 767-2198</td>\n",
       "      <td>LA</td>\n",
       "      <td>https://stores.ladyfootlocker.com/us/la/baton-...</td>\n",
       "      <td>70836</td>\n",
       "      <td>6401 Bluebonnet Blvd, Space 2114, Baton Rouge,...</td>\n",
       "      <td>2021-02-28</td>\n",
       "      <td>70836Baton Rouge</td>\n",
       "      <td>(30.387688478432157, -91.08695006192693)</td>\n",
       "      <td>30.387688</td>\n",
       "      <td>-91.086950</td>\n",
       "    </tr>\n",
       "  </tbody>\n",
       "</table>\n",
       "</div>"
      ],
      "text/plain": [
       "         address_line_1 address_line_2          city                   name  \\\n",
       "0    4500 N Oracle Road      Space 115        Tucson            Tucson Mall   \n",
       "1   14200 E Alameda Ave     Space 2055        Aurora  Town Center At Aurora   \n",
       "2   1450 Ala Moana Blvd     Space 1231      Honolulu       Ala Moana Center   \n",
       "3      96 River Oaks Dr            NaN  Calumet City      River Oaks Center   \n",
       "4  6401 Bluebonnet Blvd     Space 2114   Baton Rouge      Mall Of Louisiana   \n",
       "\n",
       "            phone state                                                url  \\\n",
       "0  (520) 888-0336    AZ  https://stores.ladyfootlocker.com/us/az/tucson...   \n",
       "1  (303) 363-8068    CO  https://stores.ladyfootlocker.com/us/co/aurora...   \n",
       "2  (808) 942-1071    HI  https://stores.ladyfootlocker.com/us/hi/honolu...   \n",
       "3  (708) 868-6229    IL  https://stores.ladyfootlocker.com/us/il/calume...   \n",
       "4  (225) 767-2198    LA  https://stores.ladyfootlocker.com/us/la/baton-...   \n",
       "\n",
       "  zip_code                                            address Updated_Date  \\\n",
       "0    85705   4500 N Oracle Road, Space 115, Tucson, AZ, 85705   2021-02-28   \n",
       "1    80012  14200 E Alameda Ave, Space 2055, Aurora, CO, 8...   2021-02-28   \n",
       "2    96814  1450 Ala Moana Blvd, Space 1231, Honolulu, HI,...   2021-02-28   \n",
       "3    60409          96 River Oaks Dr, Calumet City, IL, 60409   2021-02-28   \n",
       "4    70836  6401 Bluebonnet Blvd, Space 2114, Baton Rouge,...   2021-02-28   \n",
       "\n",
       "                    location                                     point  \\\n",
       "0                85705Tucson                (32.2228765, -110.9748477)   \n",
       "1                80012Aurora                 (39.729432, -104.8319196)   \n",
       "2              96814Honolulu                 (21.304547, -157.8556764)   \n",
       "3  (41.6010821, -87.5581579)                 (41.6010821, -87.5581579)   \n",
       "4           70836Baton Rouge  (30.387688478432157, -91.08695006192693)   \n",
       "\n",
       "    latitude   longitude  \n",
       "0  32.222876 -110.974848  \n",
       "1  39.729432 -104.831920  \n",
       "2  21.304547 -157.855676  \n",
       "3  41.601082  -87.558158  \n",
       "4  30.387688  -91.086950  "
      ]
     },
     "execution_count": 85,
     "metadata": {},
     "output_type": "execute_result"
    }
   ],
   "source": [
    "df.head()"
   ]
  },
  {
   "cell_type": "code",
   "execution_count": 125,
   "metadata": {},
   "outputs": [],
   "source": [
    "import folium\n",
    "from folium.plugins import MarkerCluster"
   ]
  },
  {
   "cell_type": "code",
   "execution_count": 126,
   "metadata": {},
   "outputs": [
    {
     "data": {
      "text/html": [
       "<div style=\"width:100%;\"><div style=\"position:relative;width:100%;height:0;padding-bottom:60%;\"><span style=\"color:#565656\">Make this Notebook Trusted to load map: File -> Trust Notebook</span><iframe src=\"about:blank\" style=\"position:absolute;width:100%;height:100%;left:0;top:0;border:none !important;\" data-html=%3C%21DOCTYPE%20html%3E%0A%3Chead%3E%20%20%20%20%0A%20%20%20%20%3Cmeta%20http-equiv%3D%22content-type%22%20content%3D%22text/html%3B%20charset%3DUTF-8%22%20/%3E%0A%20%20%20%20%0A%20%20%20%20%20%20%20%20%3Cscript%3E%0A%20%20%20%20%20%20%20%20%20%20%20%20L_NO_TOUCH%20%3D%20false%3B%0A%20%20%20%20%20%20%20%20%20%20%20%20L_DISABLE_3D%20%3D%20false%3B%0A%20%20%20%20%20%20%20%20%3C/script%3E%0A%20%20%20%20%0A%20%20%20%20%3Cstyle%3Ehtml%2C%20body%20%7Bwidth%3A%20100%25%3Bheight%3A%20100%25%3Bmargin%3A%200%3Bpadding%3A%200%3B%7D%3C/style%3E%0A%20%20%20%20%3Cstyle%3E%23map%20%7Bposition%3Aabsolute%3Btop%3A0%3Bbottom%3A0%3Bright%3A0%3Bleft%3A0%3B%7D%3C/style%3E%0A%20%20%20%20%3Cscript%20src%3D%22https%3A//cdn.jsdelivr.net/npm/leaflet%401.6.0/dist/leaflet.js%22%3E%3C/script%3E%0A%20%20%20%20%3Cscript%20src%3D%22https%3A//code.jquery.com/jquery-1.12.4.min.js%22%3E%3C/script%3E%0A%20%20%20%20%3Cscript%20src%3D%22https%3A//maxcdn.bootstrapcdn.com/bootstrap/3.2.0/js/bootstrap.min.js%22%3E%3C/script%3E%0A%20%20%20%20%3Cscript%20src%3D%22https%3A//cdnjs.cloudflare.com/ajax/libs/Leaflet.awesome-markers/2.0.2/leaflet.awesome-markers.js%22%3E%3C/script%3E%0A%20%20%20%20%3Clink%20rel%3D%22stylesheet%22%20href%3D%22https%3A//cdn.jsdelivr.net/npm/leaflet%401.6.0/dist/leaflet.css%22/%3E%0A%20%20%20%20%3Clink%20rel%3D%22stylesheet%22%20href%3D%22https%3A//maxcdn.bootstrapcdn.com/bootstrap/3.2.0/css/bootstrap.min.css%22/%3E%0A%20%20%20%20%3Clink%20rel%3D%22stylesheet%22%20href%3D%22https%3A//maxcdn.bootstrapcdn.com/bootstrap/3.2.0/css/bootstrap-theme.min.css%22/%3E%0A%20%20%20%20%3Clink%20rel%3D%22stylesheet%22%20href%3D%22https%3A//maxcdn.bootstrapcdn.com/font-awesome/4.6.3/css/font-awesome.min.css%22/%3E%0A%20%20%20%20%3Clink%20rel%3D%22stylesheet%22%20href%3D%22https%3A//cdnjs.cloudflare.com/ajax/libs/Leaflet.awesome-markers/2.0.2/leaflet.awesome-markers.css%22/%3E%0A%20%20%20%20%3Clink%20rel%3D%22stylesheet%22%20href%3D%22https%3A//cdn.jsdelivr.net/gh/python-visualization/folium/folium/templates/leaflet.awesome.rotate.min.css%22/%3E%0A%20%20%20%20%0A%20%20%20%20%20%20%20%20%20%20%20%20%3Cmeta%20name%3D%22viewport%22%20content%3D%22width%3Ddevice-width%2C%0A%20%20%20%20%20%20%20%20%20%20%20%20%20%20%20%20initial-scale%3D1.0%2C%20maximum-scale%3D1.0%2C%20user-scalable%3Dno%22%20/%3E%0A%20%20%20%20%20%20%20%20%20%20%20%20%3Cstyle%3E%0A%20%20%20%20%20%20%20%20%20%20%20%20%20%20%20%20%23map_af105377ef03425e8b8af7027bb0b29c%20%7B%0A%20%20%20%20%20%20%20%20%20%20%20%20%20%20%20%20%20%20%20%20position%3A%20relative%3B%0A%20%20%20%20%20%20%20%20%20%20%20%20%20%20%20%20%20%20%20%20width%3A%20100.0%25%3B%0A%20%20%20%20%20%20%20%20%20%20%20%20%20%20%20%20%20%20%20%20height%3A%20100.0%25%3B%0A%20%20%20%20%20%20%20%20%20%20%20%20%20%20%20%20%20%20%20%20left%3A%200.0%25%3B%0A%20%20%20%20%20%20%20%20%20%20%20%20%20%20%20%20%20%20%20%20top%3A%200.0%25%3B%0A%20%20%20%20%20%20%20%20%20%20%20%20%20%20%20%20%7D%0A%20%20%20%20%20%20%20%20%20%20%20%20%3C/style%3E%0A%20%20%20%20%20%20%20%20%0A%3C/head%3E%0A%3Cbody%3E%20%20%20%20%0A%20%20%20%20%0A%20%20%20%20%20%20%20%20%20%20%20%20%3Cdiv%20class%3D%22folium-map%22%20id%3D%22map_af105377ef03425e8b8af7027bb0b29c%22%20%3E%3C/div%3E%0A%20%20%20%20%20%20%20%20%0A%3C/body%3E%0A%3Cscript%3E%20%20%20%20%0A%20%20%20%20%0A%20%20%20%20%20%20%20%20%20%20%20%20var%20map_af105377ef03425e8b8af7027bb0b29c%20%3D%20L.map%28%0A%20%20%20%20%20%20%20%20%20%20%20%20%20%20%20%20%22map_af105377ef03425e8b8af7027bb0b29c%22%2C%0A%20%20%20%20%20%20%20%20%20%20%20%20%20%20%20%20%7B%0A%20%20%20%20%20%20%20%20%20%20%20%20%20%20%20%20%20%20%20%20center%3A%20%5B36.4019200726698%2C%20-91.146351145349%5D%2C%0A%20%20%20%20%20%20%20%20%20%20%20%20%20%20%20%20%20%20%20%20crs%3A%20L.CRS.EPSG3857%2C%0A%20%20%20%20%20%20%20%20%20%20%20%20%20%20%20%20%20%20%20%20zoom%3A%203%2C%0A%20%20%20%20%20%20%20%20%20%20%20%20%20%20%20%20%20%20%20%20zoomControl%3A%20true%2C%0A%20%20%20%20%20%20%20%20%20%20%20%20%20%20%20%20%20%20%20%20preferCanvas%3A%20false%2C%0A%20%20%20%20%20%20%20%20%20%20%20%20%20%20%20%20%7D%0A%20%20%20%20%20%20%20%20%20%20%20%20%29%3B%0A%0A%20%20%20%20%20%20%20%20%20%20%20%20%0A%0A%20%20%20%20%20%20%20%20%0A%20%20%20%20%0A%20%20%20%20%20%20%20%20%20%20%20%20var%20tile_layer_41704bba7ddd41d2a7e79580113dab63%20%3D%20L.tileLayer%28%0A%20%20%20%20%20%20%20%20%20%20%20%20%20%20%20%20%22https%3A//%7Bs%7D.tile.openstreetmap.org/%7Bz%7D/%7Bx%7D/%7By%7D.png%22%2C%0A%20%20%20%20%20%20%20%20%20%20%20%20%20%20%20%20%7B%22attribution%22%3A%20%22Data%20by%20%5Cu0026copy%3B%20%5Cu003ca%20href%3D%5C%22http%3A//openstreetmap.org%5C%22%5Cu003eOpenStreetMap%5Cu003c/a%5Cu003e%2C%20under%20%5Cu003ca%20href%3D%5C%22http%3A//www.openstreetmap.org/copyright%5C%22%5Cu003eODbL%5Cu003c/a%5Cu003e.%22%2C%20%22detectRetina%22%3A%20false%2C%20%22maxNativeZoom%22%3A%2018%2C%20%22maxZoom%22%3A%2018%2C%20%22minZoom%22%3A%200%2C%20%22noWrap%22%3A%20false%2C%20%22opacity%22%3A%201%2C%20%22subdomains%22%3A%20%22abc%22%2C%20%22tms%22%3A%20false%7D%0A%20%20%20%20%20%20%20%20%20%20%20%20%29.addTo%28map_af105377ef03425e8b8af7027bb0b29c%29%3B%0A%20%20%20%20%20%20%20%20%0A%20%20%20%20%0A%20%20%20%20%20%20%20%20%20%20%20%20var%20marker_0a1e582466ae4fe086688e1ee73a250f%20%3D%20L.marker%28%0A%20%20%20%20%20%20%20%20%20%20%20%20%20%20%20%20%5B32.2228765%2C%20-110.9748477%5D%2C%0A%20%20%20%20%20%20%20%20%20%20%20%20%20%20%20%20%7B%7D%0A%20%20%20%20%20%20%20%20%20%20%20%20%29.addTo%28map_af105377ef03425e8b8af7027bb0b29c%29%3B%0A%20%20%20%20%20%20%20%20%0A%20%20%20%20%0A%20%20%20%20%20%20%20%20var%20popup_ee72605931494a4eac95b78c34b062c4%20%3D%20L.popup%28%7B%22maxWidth%22%3A%20%22100%25%22%7D%29%3B%0A%0A%20%20%20%20%20%20%20%20%0A%20%20%20%20%20%20%20%20%20%20%20%20var%20html_0d171781d31b4d92b07b13974960e176%20%3D%20%24%28%60%3Cdiv%20id%3D%22html_0d171781d31b4d92b07b13974960e176%22%20style%3D%22width%3A%20100.0%25%3B%20height%3A%20100.0%25%3B%22%3EAZ%3C/div%3E%60%29%5B0%5D%3B%0A%20%20%20%20%20%20%20%20%20%20%20%20popup_ee72605931494a4eac95b78c34b062c4.setContent%28html_0d171781d31b4d92b07b13974960e176%29%3B%0A%20%20%20%20%20%20%20%20%0A%0A%20%20%20%20%20%20%20%20marker_0a1e582466ae4fe086688e1ee73a250f.bindPopup%28popup_ee72605931494a4eac95b78c34b062c4%29%0A%20%20%20%20%20%20%20%20%3B%0A%0A%20%20%20%20%20%20%20%20%0A%20%20%20%20%0A%20%20%20%20%0A%20%20%20%20%20%20%20%20%20%20%20%20var%20marker_661bf637dd9e490f81d55edcc6f31662%20%3D%20L.marker%28%0A%20%20%20%20%20%20%20%20%20%20%20%20%20%20%20%20%5B39.729432%2C%20-104.8319196%5D%2C%0A%20%20%20%20%20%20%20%20%20%20%20%20%20%20%20%20%7B%7D%0A%20%20%20%20%20%20%20%20%20%20%20%20%29.addTo%28map_af105377ef03425e8b8af7027bb0b29c%29%3B%0A%20%20%20%20%20%20%20%20%0A%20%20%20%20%0A%20%20%20%20%20%20%20%20var%20popup_daa655e92d744625b300e1900f5ab866%20%3D%20L.popup%28%7B%22maxWidth%22%3A%20%22100%25%22%7D%29%3B%0A%0A%20%20%20%20%20%20%20%20%0A%20%20%20%20%20%20%20%20%20%20%20%20var%20html_09cfb6ff2a814cfcad16d63ed1beccc1%20%3D%20%24%28%60%3Cdiv%20id%3D%22html_09cfb6ff2a814cfcad16d63ed1beccc1%22%20style%3D%22width%3A%20100.0%25%3B%20height%3A%20100.0%25%3B%22%3ECO%3C/div%3E%60%29%5B0%5D%3B%0A%20%20%20%20%20%20%20%20%20%20%20%20popup_daa655e92d744625b300e1900f5ab866.setContent%28html_09cfb6ff2a814cfcad16d63ed1beccc1%29%3B%0A%20%20%20%20%20%20%20%20%0A%0A%20%20%20%20%20%20%20%20marker_661bf637dd9e490f81d55edcc6f31662.bindPopup%28popup_daa655e92d744625b300e1900f5ab866%29%0A%20%20%20%20%20%20%20%20%3B%0A%0A%20%20%20%20%20%20%20%20%0A%20%20%20%20%0A%20%20%20%20%0A%20%20%20%20%20%20%20%20%20%20%20%20var%20marker_5a51c9927f244411bfaa603b39dfed98%20%3D%20L.marker%28%0A%20%20%20%20%20%20%20%20%20%20%20%20%20%20%20%20%5B21.304547%2C%20-157.8556764%5D%2C%0A%20%20%20%20%20%20%20%20%20%20%20%20%20%20%20%20%7B%7D%0A%20%20%20%20%20%20%20%20%20%20%20%20%29.addTo%28map_af105377ef03425e8b8af7027bb0b29c%29%3B%0A%20%20%20%20%20%20%20%20%0A%20%20%20%20%0A%20%20%20%20%20%20%20%20var%20popup_eca478e69330443fbf9ef0a30ae5e99f%20%3D%20L.popup%28%7B%22maxWidth%22%3A%20%22100%25%22%7D%29%3B%0A%0A%20%20%20%20%20%20%20%20%0A%20%20%20%20%20%20%20%20%20%20%20%20var%20html_e26d79adfdc64689832cfe13b19c7377%20%3D%20%24%28%60%3Cdiv%20id%3D%22html_e26d79adfdc64689832cfe13b19c7377%22%20style%3D%22width%3A%20100.0%25%3B%20height%3A%20100.0%25%3B%22%3EHI%3C/div%3E%60%29%5B0%5D%3B%0A%20%20%20%20%20%20%20%20%20%20%20%20popup_eca478e69330443fbf9ef0a30ae5e99f.setContent%28html_e26d79adfdc64689832cfe13b19c7377%29%3B%0A%20%20%20%20%20%20%20%20%0A%0A%20%20%20%20%20%20%20%20marker_5a51c9927f244411bfaa603b39dfed98.bindPopup%28popup_eca478e69330443fbf9ef0a30ae5e99f%29%0A%20%20%20%20%20%20%20%20%3B%0A%0A%20%20%20%20%20%20%20%20%0A%20%20%20%20%0A%20%20%20%20%0A%20%20%20%20%20%20%20%20%20%20%20%20var%20marker_33e4105ed68a42d6baf839a6e2e6c556%20%3D%20L.marker%28%0A%20%20%20%20%20%20%20%20%20%20%20%20%20%20%20%20%5B41.6010821%2C%20-87.5581579%5D%2C%0A%20%20%20%20%20%20%20%20%20%20%20%20%20%20%20%20%7B%7D%0A%20%20%20%20%20%20%20%20%20%20%20%20%29.addTo%28map_af105377ef03425e8b8af7027bb0b29c%29%3B%0A%20%20%20%20%20%20%20%20%0A%20%20%20%20%0A%20%20%20%20%20%20%20%20var%20popup_3a3ed688646d4a608acb8a9f99df83f6%20%3D%20L.popup%28%7B%22maxWidth%22%3A%20%22100%25%22%7D%29%3B%0A%0A%20%20%20%20%20%20%20%20%0A%20%20%20%20%20%20%20%20%20%20%20%20var%20html_1bd5c5c033784f1bbba9a955b6eef03b%20%3D%20%24%28%60%3Cdiv%20id%3D%22html_1bd5c5c033784f1bbba9a955b6eef03b%22%20style%3D%22width%3A%20100.0%25%3B%20height%3A%20100.0%25%3B%22%3EIL%3C/div%3E%60%29%5B0%5D%3B%0A%20%20%20%20%20%20%20%20%20%20%20%20popup_3a3ed688646d4a608acb8a9f99df83f6.setContent%28html_1bd5c5c033784f1bbba9a955b6eef03b%29%3B%0A%20%20%20%20%20%20%20%20%0A%0A%20%20%20%20%20%20%20%20marker_33e4105ed68a42d6baf839a6e2e6c556.bindPopup%28popup_3a3ed688646d4a608acb8a9f99df83f6%29%0A%20%20%20%20%20%20%20%20%3B%0A%0A%20%20%20%20%20%20%20%20%0A%20%20%20%20%0A%20%20%20%20%0A%20%20%20%20%20%20%20%20%20%20%20%20var%20marker_43ff38459f3c48b695f75b093571a3f7%20%3D%20L.marker%28%0A%20%20%20%20%20%20%20%20%20%20%20%20%20%20%20%20%5B30.387688478432157%2C%20-91.08695006192693%5D%2C%0A%20%20%20%20%20%20%20%20%20%20%20%20%20%20%20%20%7B%7D%0A%20%20%20%20%20%20%20%20%20%20%20%20%29.addTo%28map_af105377ef03425e8b8af7027bb0b29c%29%3B%0A%20%20%20%20%20%20%20%20%0A%20%20%20%20%0A%20%20%20%20%20%20%20%20var%20popup_9e2e4fbdc72244dfb4bddc352a410d43%20%3D%20L.popup%28%7B%22maxWidth%22%3A%20%22100%25%22%7D%29%3B%0A%0A%20%20%20%20%20%20%20%20%0A%20%20%20%20%20%20%20%20%20%20%20%20var%20html_527da94ff38e4b2d8b60e808b282f59b%20%3D%20%24%28%60%3Cdiv%20id%3D%22html_527da94ff38e4b2d8b60e808b282f59b%22%20style%3D%22width%3A%20100.0%25%3B%20height%3A%20100.0%25%3B%22%3ELA%3C/div%3E%60%29%5B0%5D%3B%0A%20%20%20%20%20%20%20%20%20%20%20%20popup_9e2e4fbdc72244dfb4bddc352a410d43.setContent%28html_527da94ff38e4b2d8b60e808b282f59b%29%3B%0A%20%20%20%20%20%20%20%20%0A%0A%20%20%20%20%20%20%20%20marker_43ff38459f3c48b695f75b093571a3f7.bindPopup%28popup_9e2e4fbdc72244dfb4bddc352a410d43%29%0A%20%20%20%20%20%20%20%20%3B%0A%0A%20%20%20%20%20%20%20%20%0A%20%20%20%20%0A%20%20%20%20%0A%20%20%20%20%20%20%20%20%20%20%20%20var%20marker_5ae114bf7ceb4597bd96bca2f7a8bee1%20%3D%20L.marker%28%0A%20%20%20%20%20%20%20%20%20%20%20%20%20%20%20%20%5B42.2097963%2C%20-71.001075%5D%2C%0A%20%20%20%20%20%20%20%20%20%20%20%20%20%20%20%20%7B%7D%0A%20%20%20%20%20%20%20%20%20%20%20%20%29.addTo%28map_af105377ef03425e8b8af7027bb0b29c%29%3B%0A%20%20%20%20%20%20%20%20%0A%20%20%20%20%0A%20%20%20%20%20%20%20%20var%20popup_4db60362f9504551bbe077343af4c03e%20%3D%20L.popup%28%7B%22maxWidth%22%3A%20%22100%25%22%7D%29%3B%0A%0A%20%20%20%20%20%20%20%20%0A%20%20%20%20%20%20%20%20%20%20%20%20var%20html_2c97ea32556743898969eee2479dc63e%20%3D%20%24%28%60%3Cdiv%20id%3D%22html_2c97ea32556743898969eee2479dc63e%22%20style%3D%22width%3A%20100.0%25%3B%20height%3A%20100.0%25%3B%22%3EMA%3C/div%3E%60%29%5B0%5D%3B%0A%20%20%20%20%20%20%20%20%20%20%20%20popup_4db60362f9504551bbe077343af4c03e.setContent%28html_2c97ea32556743898969eee2479dc63e%29%3B%0A%20%20%20%20%20%20%20%20%0A%0A%20%20%20%20%20%20%20%20marker_5ae114bf7ceb4597bd96bca2f7a8bee1.bindPopup%28popup_4db60362f9504551bbe077343af4c03e%29%0A%20%20%20%20%20%20%20%20%3B%0A%0A%20%20%20%20%20%20%20%20%0A%20%20%20%20%0A%20%20%20%20%0A%20%20%20%20%20%20%20%20%20%20%20%20var%20marker_9ec5fc0f929e47babfbde1f8d0f1483c%20%3D%20L.marker%28%0A%20%20%20%20%20%20%20%20%20%20%20%20%20%20%20%20%5B42.4333367%2C%20-82.9238847%5D%2C%0A%20%20%20%20%20%20%20%20%20%20%20%20%20%20%20%20%7B%7D%0A%20%20%20%20%20%20%20%20%20%20%20%20%29.addTo%28map_af105377ef03425e8b8af7027bb0b29c%29%3B%0A%20%20%20%20%20%20%20%20%0A%20%20%20%20%0A%20%20%20%20%20%20%20%20var%20popup_4f89b33d104344c78ec03a9ff81d15ef%20%3D%20L.popup%28%7B%22maxWidth%22%3A%20%22100%25%22%7D%29%3B%0A%0A%20%20%20%20%20%20%20%20%0A%20%20%20%20%20%20%20%20%20%20%20%20var%20html_4f8eaaa8e7c8443a9bb15240eaa5286f%20%3D%20%24%28%60%3Cdiv%20id%3D%22html_4f8eaaa8e7c8443a9bb15240eaa5286f%22%20style%3D%22width%3A%20100.0%25%3B%20height%3A%20100.0%25%3B%22%3EMI%3C/div%3E%60%29%5B0%5D%3B%0A%20%20%20%20%20%20%20%20%20%20%20%20popup_4f89b33d104344c78ec03a9ff81d15ef.setContent%28html_4f8eaaa8e7c8443a9bb15240eaa5286f%29%3B%0A%20%20%20%20%20%20%20%20%0A%0A%20%20%20%20%20%20%20%20marker_9ec5fc0f929e47babfbde1f8d0f1483c.bindPopup%28popup_4f89b33d104344c78ec03a9ff81d15ef%29%0A%20%20%20%20%20%20%20%20%3B%0A%0A%20%20%20%20%20%20%20%20%0A%20%20%20%20%0A%20%20%20%20%0A%20%20%20%20%20%20%20%20%20%20%20%20var%20marker_7509d9f001d04426a58ea9a5eb6dfae2%20%3D%20L.marker%28%0A%20%20%20%20%20%20%20%20%20%20%20%20%20%20%20%20%5B38.63510455%2C%20-90.3476632779996%5D%2C%0A%20%20%20%20%20%20%20%20%20%20%20%20%20%20%20%20%7B%7D%0A%20%20%20%20%20%20%20%20%20%20%20%20%29.addTo%28map_af105377ef03425e8b8af7027bb0b29c%29%3B%0A%20%20%20%20%20%20%20%20%0A%20%20%20%20%0A%20%20%20%20%20%20%20%20var%20popup_a588ef39ee8b440da946f059a87781bd%20%3D%20L.popup%28%7B%22maxWidth%22%3A%20%22100%25%22%7D%29%3B%0A%0A%20%20%20%20%20%20%20%20%0A%20%20%20%20%20%20%20%20%20%20%20%20var%20html_f72c8dd983d04599ae3922b5d74035b9%20%3D%20%24%28%60%3Cdiv%20id%3D%22html_f72c8dd983d04599ae3922b5d74035b9%22%20style%3D%22width%3A%20100.0%25%3B%20height%3A%20100.0%25%3B%22%3EMO%3C/div%3E%60%29%5B0%5D%3B%0A%20%20%20%20%20%20%20%20%20%20%20%20popup_a588ef39ee8b440da946f059a87781bd.setContent%28html_f72c8dd983d04599ae3922b5d74035b9%29%3B%0A%20%20%20%20%20%20%20%20%0A%0A%20%20%20%20%20%20%20%20marker_7509d9f001d04426a58ea9a5eb6dfae2.bindPopup%28popup_a588ef39ee8b440da946f059a87781bd%29%0A%20%20%20%20%20%20%20%20%3B%0A%0A%20%20%20%20%20%20%20%20%0A%20%20%20%20%0A%20%20%20%20%0A%20%20%20%20%20%20%20%20%20%20%20%20var%20marker_79db5a603bbe4a16b9b9f0f4559766e2%20%3D%20L.marker%28%0A%20%20%20%20%20%20%20%20%20%20%20%20%20%20%20%20%5B39.5261206%2C%20-119.8126581%5D%2C%0A%20%20%20%20%20%20%20%20%20%20%20%20%20%20%20%20%7B%7D%0A%20%20%20%20%20%20%20%20%20%20%20%20%29.addTo%28map_af105377ef03425e8b8af7027bb0b29c%29%3B%0A%20%20%20%20%20%20%20%20%0A%20%20%20%20%0A%20%20%20%20%20%20%20%20var%20popup_cd97b7d9dc834c18b8d025c6c602fb35%20%3D%20L.popup%28%7B%22maxWidth%22%3A%20%22100%25%22%7D%29%3B%0A%0A%20%20%20%20%20%20%20%20%0A%20%20%20%20%20%20%20%20%20%20%20%20var%20html_6f9bbd7e0fb146a98fc1dd9bb63c5ba3%20%3D%20%24%28%60%3Cdiv%20id%3D%22html_6f9bbd7e0fb146a98fc1dd9bb63c5ba3%22%20style%3D%22width%3A%20100.0%25%3B%20height%3A%20100.0%25%3B%22%3ENV%3C/div%3E%60%29%5B0%5D%3B%0A%20%20%20%20%20%20%20%20%20%20%20%20popup_cd97b7d9dc834c18b8d025c6c602fb35.setContent%28html_6f9bbd7e0fb146a98fc1dd9bb63c5ba3%29%3B%0A%20%20%20%20%20%20%20%20%0A%0A%20%20%20%20%20%20%20%20marker_79db5a603bbe4a16b9b9f0f4559766e2.bindPopup%28popup_cd97b7d9dc834c18b8d025c6c602fb35%29%0A%20%20%20%20%20%20%20%20%3B%0A%0A%20%20%20%20%20%20%20%20%0A%20%20%20%20%0A%20%20%20%20%0A%20%20%20%20%20%20%20%20%20%20%20%20var%20marker_b15b4041d00e4fb1a75533ab5fb9d81b%20%3D%20L.marker%28%0A%20%20%20%20%20%20%20%20%20%20%20%20%20%20%20%20%5B35.7803977%2C%20-78.6390989%5D%2C%0A%20%20%20%20%20%20%20%20%20%20%20%20%20%20%20%20%7B%7D%0A%20%20%20%20%20%20%20%20%20%20%20%20%29.addTo%28map_af105377ef03425e8b8af7027bb0b29c%29%3B%0A%20%20%20%20%20%20%20%20%0A%20%20%20%20%0A%20%20%20%20%20%20%20%20var%20popup_d7a0c2c6fe9142bb8eb218c36bdc278c%20%3D%20L.popup%28%7B%22maxWidth%22%3A%20%22100%25%22%7D%29%3B%0A%0A%20%20%20%20%20%20%20%20%0A%20%20%20%20%20%20%20%20%20%20%20%20var%20html_2e317087dfe14c12a6ca2342ed394fcc%20%3D%20%24%28%60%3Cdiv%20id%3D%22html_2e317087dfe14c12a6ca2342ed394fcc%22%20style%3D%22width%3A%20100.0%25%3B%20height%3A%20100.0%25%3B%22%3ENC%3C/div%3E%60%29%5B0%5D%3B%0A%20%20%20%20%20%20%20%20%20%20%20%20popup_d7a0c2c6fe9142bb8eb218c36bdc278c.setContent%28html_2e317087dfe14c12a6ca2342ed394fcc%29%3B%0A%20%20%20%20%20%20%20%20%0A%0A%20%20%20%20%20%20%20%20marker_b15b4041d00e4fb1a75533ab5fb9d81b.bindPopup%28popup_d7a0c2c6fe9142bb8eb218c36bdc278c%29%0A%20%20%20%20%20%20%20%20%3B%0A%0A%20%20%20%20%20%20%20%20%0A%20%20%20%20%0A%20%20%20%20%0A%20%20%20%20%20%20%20%20%20%20%20%20var%20marker_db8873e114dd448fbaeac1adebd9672b%20%3D%20L.marker%28%0A%20%20%20%20%20%20%20%20%20%20%20%20%20%20%20%20%5B41.703535373637344%2C%20-83.64646516990508%5D%2C%0A%20%20%20%20%20%20%20%20%20%20%20%20%20%20%20%20%7B%7D%0A%20%20%20%20%20%20%20%20%20%20%20%20%29.addTo%28map_af105377ef03425e8b8af7027bb0b29c%29%3B%0A%20%20%20%20%20%20%20%20%0A%20%20%20%20%0A%20%20%20%20%20%20%20%20var%20popup_4a0ed8a212134dfaa6f6aa471b43341f%20%3D%20L.popup%28%7B%22maxWidth%22%3A%20%22100%25%22%7D%29%3B%0A%0A%20%20%20%20%20%20%20%20%0A%20%20%20%20%20%20%20%20%20%20%20%20var%20html_c46d84ab3da547ba970cf00333f5ec23%20%3D%20%24%28%60%3Cdiv%20id%3D%22html_c46d84ab3da547ba970cf00333f5ec23%22%20style%3D%22width%3A%20100.0%25%3B%20height%3A%20100.0%25%3B%22%3EOH%3C/div%3E%60%29%5B0%5D%3B%0A%20%20%20%20%20%20%20%20%20%20%20%20popup_4a0ed8a212134dfaa6f6aa471b43341f.setContent%28html_c46d84ab3da547ba970cf00333f5ec23%29%3B%0A%20%20%20%20%20%20%20%20%0A%0A%20%20%20%20%20%20%20%20marker_db8873e114dd448fbaeac1adebd9672b.bindPopup%28popup_4a0ed8a212134dfaa6f6aa471b43341f%29%0A%20%20%20%20%20%20%20%20%3B%0A%0A%20%20%20%20%20%20%20%20%0A%20%20%20%20%0A%20%20%20%20%0A%20%20%20%20%20%20%20%20%20%20%20%20var%20marker_602d2605a1d14dfeb2a0a41736bb67a4%20%3D%20L.marker%28%0A%20%20%20%20%20%20%20%20%20%20%20%20%20%20%20%20%5B40.62977289196522%2C%20-75.48274180315565%5D%2C%0A%20%20%20%20%20%20%20%20%20%20%20%20%20%20%20%20%7B%7D%0A%20%20%20%20%20%20%20%20%20%20%20%20%29.addTo%28map_af105377ef03425e8b8af7027bb0b29c%29%3B%0A%20%20%20%20%20%20%20%20%0A%20%20%20%20%0A%20%20%20%20%20%20%20%20var%20popup_8bc86297d727490bbe227a7e054a2656%20%3D%20L.popup%28%7B%22maxWidth%22%3A%20%22100%25%22%7D%29%3B%0A%0A%20%20%20%20%20%20%20%20%0A%20%20%20%20%20%20%20%20%20%20%20%20var%20html_8d07ab16254a4c4a8f4d9aa8bb047228%20%3D%20%24%28%60%3Cdiv%20id%3D%22html_8d07ab16254a4c4a8f4d9aa8bb047228%22%20style%3D%22width%3A%20100.0%25%3B%20height%3A%20100.0%25%3B%22%3EPA%3C/div%3E%60%29%5B0%5D%3B%0A%20%20%20%20%20%20%20%20%20%20%20%20popup_8bc86297d727490bbe227a7e054a2656.setContent%28html_8d07ab16254a4c4a8f4d9aa8bb047228%29%3B%0A%20%20%20%20%20%20%20%20%0A%0A%20%20%20%20%20%20%20%20marker_602d2605a1d14dfeb2a0a41736bb67a4.bindPopup%28popup_8bc86297d727490bbe227a7e054a2656%29%0A%20%20%20%20%20%20%20%20%3B%0A%0A%20%20%20%20%20%20%20%20%0A%20%20%20%20%0A%20%20%20%20%0A%20%20%20%20%20%20%20%20%20%20%20%20var%20marker_1faacdc5c2fb43dc873baa79dae2cdcc%20%3D%20L.marker%28%0A%20%20%20%20%20%20%20%20%20%20%20%20%20%20%20%20%5B34.849582549999994%2C%20-82.33315889539456%5D%2C%0A%20%20%20%20%20%20%20%20%20%20%20%20%20%20%20%20%7B%7D%0A%20%20%20%20%20%20%20%20%20%20%20%20%29.addTo%28map_af105377ef03425e8b8af7027bb0b29c%29%3B%0A%20%20%20%20%20%20%20%20%0A%20%20%20%20%0A%20%20%20%20%20%20%20%20var%20popup_e59b6e43bf7f47878fe2ac351c14d778%20%3D%20L.popup%28%7B%22maxWidth%22%3A%20%22100%25%22%7D%29%3B%0A%0A%20%20%20%20%20%20%20%20%0A%20%20%20%20%20%20%20%20%20%20%20%20var%20html_f21196647e214806853b669de60b1d18%20%3D%20%24%28%60%3Cdiv%20id%3D%22html_f21196647e214806853b669de60b1d18%22%20style%3D%22width%3A%20100.0%25%3B%20height%3A%20100.0%25%3B%22%3ESC%3C/div%3E%60%29%5B0%5D%3B%0A%20%20%20%20%20%20%20%20%20%20%20%20popup_e59b6e43bf7f47878fe2ac351c14d778.setContent%28html_f21196647e214806853b669de60b1d18%29%3B%0A%20%20%20%20%20%20%20%20%0A%0A%20%20%20%20%20%20%20%20marker_1faacdc5c2fb43dc873baa79dae2cdcc.bindPopup%28popup_e59b6e43bf7f47878fe2ac351c14d778%29%0A%20%20%20%20%20%20%20%20%3B%0A%0A%20%20%20%20%20%20%20%20%0A%20%20%20%20%0A%20%20%20%20%0A%20%20%20%20%20%20%20%20%20%20%20%20var%20marker_1b709643b369464fb4ff3e7e8512289d%20%3D%20L.marker%28%0A%20%20%20%20%20%20%20%20%20%20%20%20%20%20%20%20%5B38.9317403%2C%20-77.1670637790478%5D%2C%0A%20%20%20%20%20%20%20%20%20%20%20%20%20%20%20%20%7B%7D%0A%20%20%20%20%20%20%20%20%20%20%20%20%29.addTo%28map_af105377ef03425e8b8af7027bb0b29c%29%3B%0A%20%20%20%20%20%20%20%20%0A%20%20%20%20%0A%20%20%20%20%20%20%20%20var%20popup_49c91e6e9a2a44d0bfd23873fdc6237c%20%3D%20L.popup%28%7B%22maxWidth%22%3A%20%22100%25%22%7D%29%3B%0A%0A%20%20%20%20%20%20%20%20%0A%20%20%20%20%20%20%20%20%20%20%20%20var%20html_00d07380b44b46718f1b120acc874812%20%3D%20%24%28%60%3Cdiv%20id%3D%22html_00d07380b44b46718f1b120acc874812%22%20style%3D%22width%3A%20100.0%25%3B%20height%3A%20100.0%25%3B%22%3EVA%3C/div%3E%60%29%5B0%5D%3B%0A%20%20%20%20%20%20%20%20%20%20%20%20popup_49c91e6e9a2a44d0bfd23873fdc6237c.setContent%28html_00d07380b44b46718f1b120acc874812%29%3B%0A%20%20%20%20%20%20%20%20%0A%0A%20%20%20%20%20%20%20%20marker_1b709643b369464fb4ff3e7e8512289d.bindPopup%28popup_49c91e6e9a2a44d0bfd23873fdc6237c%29%0A%20%20%20%20%20%20%20%20%3B%0A%0A%20%20%20%20%20%20%20%20%0A%20%20%20%20%0A%20%20%20%20%0A%20%20%20%20%20%20%20%20%20%20%20%20var%20marker_d60cf16a81bf47ebb327e2f810e283b6%20%3D%20L.marker%28%0A%20%20%20%20%20%20%20%20%20%20%20%20%20%20%20%20%5B33.9852331%2C%20-118.3944704%5D%2C%0A%20%20%20%20%20%20%20%20%20%20%20%20%20%20%20%20%7B%7D%0A%20%20%20%20%20%20%20%20%20%20%20%20%29.addTo%28map_af105377ef03425e8b8af7027bb0b29c%29%3B%0A%20%20%20%20%20%20%20%20%0A%20%20%20%20%0A%20%20%20%20%20%20%20%20var%20popup_3451add5a321436cb773f5c0eaf8a173%20%3D%20L.popup%28%7B%22maxWidth%22%3A%20%22100%25%22%7D%29%3B%0A%0A%20%20%20%20%20%20%20%20%0A%20%20%20%20%20%20%20%20%20%20%20%20var%20html_0e23e089391542688fbef4cb8b2a8538%20%3D%20%24%28%60%3Cdiv%20id%3D%22html_0e23e089391542688fbef4cb8b2a8538%22%20style%3D%22width%3A%20100.0%25%3B%20height%3A%20100.0%25%3B%22%3ECA%3C/div%3E%60%29%5B0%5D%3B%0A%20%20%20%20%20%20%20%20%20%20%20%20popup_3451add5a321436cb773f5c0eaf8a173.setContent%28html_0e23e089391542688fbef4cb8b2a8538%29%3B%0A%20%20%20%20%20%20%20%20%0A%0A%20%20%20%20%20%20%20%20marker_d60cf16a81bf47ebb327e2f810e283b6.bindPopup%28popup_3451add5a321436cb773f5c0eaf8a173%29%0A%20%20%20%20%20%20%20%20%3B%0A%0A%20%20%20%20%20%20%20%20%0A%20%20%20%20%0A%20%20%20%20%0A%20%20%20%20%20%20%20%20%20%20%20%20var%20marker_3ca7ae58760f446f8b9c9e170fb0033f%20%3D%20L.marker%28%0A%20%20%20%20%20%20%20%20%20%20%20%20%20%20%20%20%5B36.808457913043476%2C%20-119.7794255652174%5D%2C%0A%20%20%20%20%20%20%20%20%20%20%20%20%20%20%20%20%7B%7D%0A%20%20%20%20%20%20%20%20%20%20%20%20%29.addTo%28map_af105377ef03425e8b8af7027bb0b29c%29%3B%0A%20%20%20%20%20%20%20%20%0A%20%20%20%20%0A%20%20%20%20%20%20%20%20var%20popup_95db3e91f4a143008ff8c43c03b19820%20%3D%20L.popup%28%7B%22maxWidth%22%3A%20%22100%25%22%7D%29%3B%0A%0A%20%20%20%20%20%20%20%20%0A%20%20%20%20%20%20%20%20%20%20%20%20var%20html_4d7a16a62e0e4ae6afdf698514b40cf8%20%3D%20%24%28%60%3Cdiv%20id%3D%22html_4d7a16a62e0e4ae6afdf698514b40cf8%22%20style%3D%22width%3A%20100.0%25%3B%20height%3A%20100.0%25%3B%22%3ECA%3C/div%3E%60%29%5B0%5D%3B%0A%20%20%20%20%20%20%20%20%20%20%20%20popup_95db3e91f4a143008ff8c43c03b19820.setContent%28html_4d7a16a62e0e4ae6afdf698514b40cf8%29%3B%0A%20%20%20%20%20%20%20%20%0A%0A%20%20%20%20%20%20%20%20marker_3ca7ae58760f446f8b9c9e170fb0033f.bindPopup%28popup_95db3e91f4a143008ff8c43c03b19820%29%0A%20%20%20%20%20%20%20%20%3B%0A%0A%20%20%20%20%20%20%20%20%0A%20%20%20%20%0A%20%20%20%20%0A%20%20%20%20%20%20%20%20%20%20%20%20var%20marker_451fe29d225c4902ade704ff7faccf82%20%3D%20L.marker%28%0A%20%20%20%20%20%20%20%20%20%20%20%20%20%20%20%20%5B34.14468215%2C%20-118.25889419596774%5D%2C%0A%20%20%20%20%20%20%20%20%20%20%20%20%20%20%20%20%7B%7D%0A%20%20%20%20%20%20%20%20%20%20%20%20%29.addTo%28map_af105377ef03425e8b8af7027bb0b29c%29%3B%0A%20%20%20%20%20%20%20%20%0A%20%20%20%20%0A%20%20%20%20%20%20%20%20var%20popup_834171cb734644f68c4f313d611d4274%20%3D%20L.popup%28%7B%22maxWidth%22%3A%20%22100%25%22%7D%29%3B%0A%0A%20%20%20%20%20%20%20%20%0A%20%20%20%20%20%20%20%20%20%20%20%20var%20html_f63e182f55d04f5ca8e28086adea021b%20%3D%20%24%28%60%3Cdiv%20id%3D%22html_f63e182f55d04f5ca8e28086adea021b%22%20style%3D%22width%3A%20100.0%25%3B%20height%3A%20100.0%25%3B%22%3ECA%3C/div%3E%60%29%5B0%5D%3B%0A%20%20%20%20%20%20%20%20%20%20%20%20popup_834171cb734644f68c4f313d611d4274.setContent%28html_f63e182f55d04f5ca8e28086adea021b%29%3B%0A%20%20%20%20%20%20%20%20%0A%0A%20%20%20%20%20%20%20%20marker_451fe29d225c4902ade704ff7faccf82.bindPopup%28popup_834171cb734644f68c4f313d611d4274%29%0A%20%20%20%20%20%20%20%20%3B%0A%0A%20%20%20%20%20%20%20%20%0A%20%20%20%20%0A%20%20%20%20%0A%20%20%20%20%20%20%20%20%20%20%20%20var%20marker_70c680e3adbd4db381febb2cd8f1b2a6%20%3D%20L.marker%28%0A%20%20%20%20%20%20%20%20%20%20%20%20%20%20%20%20%5B37.6390972%2C%20-120.9968782%5D%2C%0A%20%20%20%20%20%20%20%20%20%20%20%20%20%20%20%20%7B%7D%0A%20%20%20%20%20%20%20%20%20%20%20%20%29.addTo%28map_af105377ef03425e8b8af7027bb0b29c%29%3B%0A%20%20%20%20%20%20%20%20%0A%20%20%20%20%0A%20%20%20%20%20%20%20%20var%20popup_574ce9bffd12493ba97fca5b52b9a721%20%3D%20L.popup%28%7B%22maxWidth%22%3A%20%22100%25%22%7D%29%3B%0A%0A%20%20%20%20%20%20%20%20%0A%20%20%20%20%20%20%20%20%20%20%20%20var%20html_38f56f89b3734235964e0b94c9c60f1d%20%3D%20%24%28%60%3Cdiv%20id%3D%22html_38f56f89b3734235964e0b94c9c60f1d%22%20style%3D%22width%3A%20100.0%25%3B%20height%3A%20100.0%25%3B%22%3ECA%3C/div%3E%60%29%5B0%5D%3B%0A%20%20%20%20%20%20%20%20%20%20%20%20popup_574ce9bffd12493ba97fca5b52b9a721.setContent%28html_38f56f89b3734235964e0b94c9c60f1d%29%3B%0A%20%20%20%20%20%20%20%20%0A%0A%20%20%20%20%20%20%20%20marker_70c680e3adbd4db381febb2cd8f1b2a6.bindPopup%28popup_574ce9bffd12493ba97fca5b52b9a721%29%0A%20%20%20%20%20%20%20%20%3B%0A%0A%20%20%20%20%20%20%20%20%0A%20%20%20%20%0A%20%20%20%20%0A%20%20%20%20%20%20%20%20%20%20%20%20var%20marker_86905befc81e4870b4ee334fb540013f%20%3D%20L.marker%28%0A%20%20%20%20%20%20%20%20%20%20%20%20%20%20%20%20%5B38.5810606%2C%20-121.4938951%5D%2C%0A%20%20%20%20%20%20%20%20%20%20%20%20%20%20%20%20%7B%7D%0A%20%20%20%20%20%20%20%20%20%20%20%20%29.addTo%28map_af105377ef03425e8b8af7027bb0b29c%29%3B%0A%20%20%20%20%20%20%20%20%0A%20%20%20%20%0A%20%20%20%20%20%20%20%20var%20popup_72db5b8ef7284b4ead500aa8d611bd77%20%3D%20L.popup%28%7B%22maxWidth%22%3A%20%22100%25%22%7D%29%3B%0A%0A%20%20%20%20%20%20%20%20%0A%20%20%20%20%20%20%20%20%20%20%20%20var%20html_e8c3762585f04060a79c4af3c43f1929%20%3D%20%24%28%60%3Cdiv%20id%3D%22html_e8c3762585f04060a79c4af3c43f1929%22%20style%3D%22width%3A%20100.0%25%3B%20height%3A%20100.0%25%3B%22%3ECA%3C/div%3E%60%29%5B0%5D%3B%0A%20%20%20%20%20%20%20%20%20%20%20%20popup_72db5b8ef7284b4ead500aa8d611bd77.setContent%28html_e8c3762585f04060a79c4af3c43f1929%29%3B%0A%20%20%20%20%20%20%20%20%0A%0A%20%20%20%20%20%20%20%20marker_86905befc81e4870b4ee334fb540013f.bindPopup%28popup_72db5b8ef7284b4ead500aa8d611bd77%29%0A%20%20%20%20%20%20%20%20%3B%0A%0A%20%20%20%20%20%20%20%20%0A%20%20%20%20%0A%20%20%20%20%0A%20%20%20%20%20%20%20%20%20%20%20%20var%20marker_770149992a974659badb84adbdec8eb0%20%3D%20L.marker%28%0A%20%20%20%20%20%20%20%20%20%20%20%20%20%20%20%20%5B37.7790262%2C%20-122.4199061%5D%2C%0A%20%20%20%20%20%20%20%20%20%20%20%20%20%20%20%20%7B%7D%0A%20%20%20%20%20%20%20%20%20%20%20%20%29.addTo%28map_af105377ef03425e8b8af7027bb0b29c%29%3B%0A%20%20%20%20%20%20%20%20%0A%20%20%20%20%0A%20%20%20%20%20%20%20%20var%20popup_0525f81cbc1a47808bbffab19d57535e%20%3D%20L.popup%28%7B%22maxWidth%22%3A%20%22100%25%22%7D%29%3B%0A%0A%20%20%20%20%20%20%20%20%0A%20%20%20%20%20%20%20%20%20%20%20%20var%20html_94b899d6d13643428879c47b83b91194%20%3D%20%24%28%60%3Cdiv%20id%3D%22html_94b899d6d13643428879c47b83b91194%22%20style%3D%22width%3A%20100.0%25%3B%20height%3A%20100.0%25%3B%22%3ECA%3C/div%3E%60%29%5B0%5D%3B%0A%20%20%20%20%20%20%20%20%20%20%20%20popup_0525f81cbc1a47808bbffab19d57535e.setContent%28html_94b899d6d13643428879c47b83b91194%29%3B%0A%20%20%20%20%20%20%20%20%0A%0A%20%20%20%20%20%20%20%20marker_770149992a974659badb84adbdec8eb0.bindPopup%28popup_0525f81cbc1a47808bbffab19d57535e%29%0A%20%20%20%20%20%20%20%20%3B%0A%0A%20%20%20%20%20%20%20%20%0A%20%20%20%20%0A%20%20%20%20%0A%20%20%20%20%20%20%20%20%20%20%20%20var%20marker_29c2d2d175a94cba88aa74e6b6282457%20%3D%20L.marker%28%0A%20%20%20%20%20%20%20%20%20%20%20%20%20%20%20%20%5B34.413819%2C%20-118.5610378%5D%2C%0A%20%20%20%20%20%20%20%20%20%20%20%20%20%20%20%20%7B%7D%0A%20%20%20%20%20%20%20%20%20%20%20%20%29.addTo%28map_af105377ef03425e8b8af7027bb0b29c%29%3B%0A%20%20%20%20%20%20%20%20%0A%20%20%20%20%0A%20%20%20%20%20%20%20%20var%20popup_447f24df3acf4971bad7e375812a58ab%20%3D%20L.popup%28%7B%22maxWidth%22%3A%20%22100%25%22%7D%29%3B%0A%0A%20%20%20%20%20%20%20%20%0A%20%20%20%20%20%20%20%20%20%20%20%20var%20html_6eff5137a85e4c05978c91a8ea3a3e07%20%3D%20%24%28%60%3Cdiv%20id%3D%22html_6eff5137a85e4c05978c91a8ea3a3e07%22%20style%3D%22width%3A%20100.0%25%3B%20height%3A%20100.0%25%3B%22%3ECA%3C/div%3E%60%29%5B0%5D%3B%0A%20%20%20%20%20%20%20%20%20%20%20%20popup_447f24df3acf4971bad7e375812a58ab.setContent%28html_6eff5137a85e4c05978c91a8ea3a3e07%29%3B%0A%20%20%20%20%20%20%20%20%0A%0A%20%20%20%20%20%20%20%20marker_29c2d2d175a94cba88aa74e6b6282457.bindPopup%28popup_447f24df3acf4971bad7e375812a58ab%29%0A%20%20%20%20%20%20%20%20%3B%0A%0A%20%20%20%20%20%20%20%20%0A%20%20%20%20%0A%20%20%20%20%0A%20%20%20%20%20%20%20%20%20%20%20%20var%20marker_4ec2ffc0ab914df8b0be861252db9ec1%20%3D%20L.marker%28%0A%20%20%20%20%20%20%20%20%20%20%20%20%20%20%20%20%5B34.06992075973865%2C%20-117.92740232440329%5D%2C%0A%20%20%20%20%20%20%20%20%20%20%20%20%20%20%20%20%7B%7D%0A%20%20%20%20%20%20%20%20%20%20%20%20%29.addTo%28map_af105377ef03425e8b8af7027bb0b29c%29%3B%0A%20%20%20%20%20%20%20%20%0A%20%20%20%20%0A%20%20%20%20%20%20%20%20var%20popup_dc6cbef4d115431a809c952f81951f2b%20%3D%20L.popup%28%7B%22maxWidth%22%3A%20%22100%25%22%7D%29%3B%0A%0A%20%20%20%20%20%20%20%20%0A%20%20%20%20%20%20%20%20%20%20%20%20var%20html_26e6670eb2644b2996a8c63263c8f318%20%3D%20%24%28%60%3Cdiv%20id%3D%22html_26e6670eb2644b2996a8c63263c8f318%22%20style%3D%22width%3A%20100.0%25%3B%20height%3A%20100.0%25%3B%22%3ECA%3C/div%3E%60%29%5B0%5D%3B%0A%20%20%20%20%20%20%20%20%20%20%20%20popup_dc6cbef4d115431a809c952f81951f2b.setContent%28html_26e6670eb2644b2996a8c63263c8f318%29%3B%0A%20%20%20%20%20%20%20%20%0A%0A%20%20%20%20%20%20%20%20marker_4ec2ffc0ab914df8b0be861252db9ec1.bindPopup%28popup_dc6cbef4d115431a809c952f81951f2b%29%0A%20%20%20%20%20%20%20%20%3B%0A%0A%20%20%20%20%20%20%20%20%0A%20%20%20%20%0A%20%20%20%20%0A%20%20%20%20%20%20%20%20%20%20%20%20var%20marker_267e34a6fc7f406dac63e18061a843da%20%3D%20L.marker%28%0A%20%20%20%20%20%20%20%20%20%20%20%20%20%20%20%20%5B39.6784196%2C%20-75.65239689667357%5D%2C%0A%20%20%20%20%20%20%20%20%20%20%20%20%20%20%20%20%7B%7D%0A%20%20%20%20%20%20%20%20%20%20%20%20%29.addTo%28map_af105377ef03425e8b8af7027bb0b29c%29%3B%0A%20%20%20%20%20%20%20%20%0A%20%20%20%20%0A%20%20%20%20%20%20%20%20var%20popup_73b62798c52d45078ade6db00d06997d%20%3D%20L.popup%28%7B%22maxWidth%22%3A%20%22100%25%22%7D%29%3B%0A%0A%20%20%20%20%20%20%20%20%0A%20%20%20%20%20%20%20%20%20%20%20%20var%20html_d3c792d3c24c4b63b0e55bf4a82b8ba5%20%3D%20%24%28%60%3Cdiv%20id%3D%22html_d3c792d3c24c4b63b0e55bf4a82b8ba5%22%20style%3D%22width%3A%20100.0%25%3B%20height%3A%20100.0%25%3B%22%3EDE%3C/div%3E%60%29%5B0%5D%3B%0A%20%20%20%20%20%20%20%20%20%20%20%20popup_73b62798c52d45078ade6db00d06997d.setContent%28html_d3c792d3c24c4b63b0e55bf4a82b8ba5%29%3B%0A%20%20%20%20%20%20%20%20%0A%0A%20%20%20%20%20%20%20%20marker_267e34a6fc7f406dac63e18061a843da.bindPopup%28popup_73b62798c52d45078ade6db00d06997d%29%0A%20%20%20%20%20%20%20%20%3B%0A%0A%20%20%20%20%20%20%20%20%0A%20%20%20%20%0A%20%20%20%20%0A%20%20%20%20%20%20%20%20%20%20%20%20var%20marker_1cac8170750145ed93e854eca1c4d755%20%3D%20L.marker%28%0A%20%20%20%20%20%20%20%20%20%20%20%20%20%20%20%20%5B39.82291025%2C%20-75.54386967715169%5D%2C%0A%20%20%20%20%20%20%20%20%20%20%20%20%20%20%20%20%7B%7D%0A%20%20%20%20%20%20%20%20%20%20%20%20%29.addTo%28map_af105377ef03425e8b8af7027bb0b29c%29%3B%0A%20%20%20%20%20%20%20%20%0A%20%20%20%20%0A%20%20%20%20%20%20%20%20var%20popup_19106ff5d71e42389808e2ad1f07a5f7%20%3D%20L.popup%28%7B%22maxWidth%22%3A%20%22100%25%22%7D%29%3B%0A%0A%20%20%20%20%20%20%20%20%0A%20%20%20%20%20%20%20%20%20%20%20%20var%20html_8f92fd2dbfe44d44a5065055deba4540%20%3D%20%24%28%60%3Cdiv%20id%3D%22html_8f92fd2dbfe44d44a5065055deba4540%22%20style%3D%22width%3A%20100.0%25%3B%20height%3A%20100.0%25%3B%22%3EDE%3C/div%3E%60%29%5B0%5D%3B%0A%20%20%20%20%20%20%20%20%20%20%20%20popup_19106ff5d71e42389808e2ad1f07a5f7.setContent%28html_8f92fd2dbfe44d44a5065055deba4540%29%3B%0A%20%20%20%20%20%20%20%20%0A%0A%20%20%20%20%20%20%20%20marker_1cac8170750145ed93e854eca1c4d755.bindPopup%28popup_19106ff5d71e42389808e2ad1f07a5f7%29%0A%20%20%20%20%20%20%20%20%3B%0A%0A%20%20%20%20%20%20%20%20%0A%20%20%20%20%0A%20%20%20%20%0A%20%20%20%20%20%20%20%20%20%20%20%20var%20marker_9c1669195cc9444e8429dbc158f25f70%20%3D%20L.marker%28%0A%20%20%20%20%20%20%20%20%20%20%20%20%20%20%20%20%5B25.786801750000002%2C%20-80.36568305135796%5D%2C%0A%20%20%20%20%20%20%20%20%20%20%20%20%20%20%20%20%7B%7D%0A%20%20%20%20%20%20%20%20%20%20%20%20%29.addTo%28map_af105377ef03425e8b8af7027bb0b29c%29%3B%0A%20%20%20%20%20%20%20%20%0A%20%20%20%20%0A%20%20%20%20%20%20%20%20var%20popup_0360b8e8695c45a7827a595066b75f4a%20%3D%20L.popup%28%7B%22maxWidth%22%3A%20%22100%25%22%7D%29%3B%0A%0A%20%20%20%20%20%20%20%20%0A%20%20%20%20%20%20%20%20%20%20%20%20var%20html_d204f20cb07e402ab099ebc8f9dcca67%20%3D%20%24%28%60%3Cdiv%20id%3D%22html_d204f20cb07e402ab099ebc8f9dcca67%22%20style%3D%22width%3A%20100.0%25%3B%20height%3A%20100.0%25%3B%22%3EFL%3C/div%3E%60%29%5B0%5D%3B%0A%20%20%20%20%20%20%20%20%20%20%20%20popup_0360b8e8695c45a7827a595066b75f4a.setContent%28html_d204f20cb07e402ab099ebc8f9dcca67%29%3B%0A%20%20%20%20%20%20%20%20%0A%0A%20%20%20%20%20%20%20%20marker_9c1669195cc9444e8429dbc158f25f70.bindPopup%28popup_0360b8e8695c45a7827a595066b75f4a%29%0A%20%20%20%20%20%20%20%20%3B%0A%0A%20%20%20%20%20%20%20%20%0A%20%20%20%20%0A%20%20%20%20%0A%20%20%20%20%20%20%20%20%20%20%20%20var%20marker_753a9e0c326a48e1b202aa05b06b2956%20%3D%20L.marker%28%0A%20%20%20%20%20%20%20%20%20%20%20%20%20%20%20%20%5B26.0031465%2C%20-80.223937%5D%2C%0A%20%20%20%20%20%20%20%20%20%20%20%20%20%20%20%20%7B%7D%0A%20%20%20%20%20%20%20%20%20%20%20%20%29.addTo%28map_af105377ef03425e8b8af7027bb0b29c%29%3B%0A%20%20%20%20%20%20%20%20%0A%20%20%20%20%0A%20%20%20%20%20%20%20%20var%20popup_649121a879594de8938096713179820a%20%3D%20L.popup%28%7B%22maxWidth%22%3A%20%22100%25%22%7D%29%3B%0A%0A%20%20%20%20%20%20%20%20%0A%20%20%20%20%20%20%20%20%20%20%20%20var%20html_1d65a769ce964047b15f4d9a5e14a6eb%20%3D%20%24%28%60%3Cdiv%20id%3D%22html_1d65a769ce964047b15f4d9a5e14a6eb%22%20style%3D%22width%3A%20100.0%25%3B%20height%3A%20100.0%25%3B%22%3EFL%3C/div%3E%60%29%5B0%5D%3B%0A%20%20%20%20%20%20%20%20%20%20%20%20popup_649121a879594de8938096713179820a.setContent%28html_1d65a769ce964047b15f4d9a5e14a6eb%29%3B%0A%20%20%20%20%20%20%20%20%0A%0A%20%20%20%20%20%20%20%20marker_753a9e0c326a48e1b202aa05b06b2956.bindPopup%28popup_649121a879594de8938096713179820a%29%0A%20%20%20%20%20%20%20%20%3B%0A%0A%20%20%20%20%20%20%20%20%0A%20%20%20%20%0A%20%20%20%20%0A%20%20%20%20%20%20%20%20%20%20%20%20var%20marker_7722e59d18d243d58212404b003427a8%20%3D%20L.marker%28%0A%20%20%20%20%20%20%20%20%20%20%20%20%20%20%20%20%5B32.540617242325304%2C%20-84.92481813007285%5D%2C%0A%20%20%20%20%20%20%20%20%20%20%20%20%20%20%20%20%7B%7D%0A%20%20%20%20%20%20%20%20%20%20%20%20%29.addTo%28map_af105377ef03425e8b8af7027bb0b29c%29%3B%0A%20%20%20%20%20%20%20%20%0A%20%20%20%20%0A%20%20%20%20%20%20%20%20var%20popup_bf8f05dcef5e4dc3a3ae1167433accba%20%3D%20L.popup%28%7B%22maxWidth%22%3A%20%22100%25%22%7D%29%3B%0A%0A%20%20%20%20%20%20%20%20%0A%20%20%20%20%20%20%20%20%20%20%20%20var%20html_38bf1f01381c4eec85b0d69e7cfaff89%20%3D%20%24%28%60%3Cdiv%20id%3D%22html_38bf1f01381c4eec85b0d69e7cfaff89%22%20style%3D%22width%3A%20100.0%25%3B%20height%3A%20100.0%25%3B%22%3EGA%3C/div%3E%60%29%5B0%5D%3B%0A%20%20%20%20%20%20%20%20%20%20%20%20popup_bf8f05dcef5e4dc3a3ae1167433accba.setContent%28html_38bf1f01381c4eec85b0d69e7cfaff89%29%3B%0A%20%20%20%20%20%20%20%20%0A%0A%20%20%20%20%20%20%20%20marker_7722e59d18d243d58212404b003427a8.bindPopup%28popup_bf8f05dcef5e4dc3a3ae1167433accba%29%0A%20%20%20%20%20%20%20%20%3B%0A%0A%20%20%20%20%20%20%20%20%0A%20%20%20%20%0A%20%20%20%20%0A%20%20%20%20%20%20%20%20%20%20%20%20var%20marker_e8a65d27956a49c2b2b1c4cefafd5337%20%3D%20L.marker%28%0A%20%20%20%20%20%20%20%20%20%20%20%20%20%20%20%20%5B33.7737582%2C%20-84.296069%5D%2C%0A%20%20%20%20%20%20%20%20%20%20%20%20%20%20%20%20%7B%7D%0A%20%20%20%20%20%20%20%20%20%20%20%20%29.addTo%28map_af105377ef03425e8b8af7027bb0b29c%29%3B%0A%20%20%20%20%20%20%20%20%0A%20%20%20%20%0A%20%20%20%20%20%20%20%20var%20popup_5017115b6aa04a8b97d2acdefa72fb2e%20%3D%20L.popup%28%7B%22maxWidth%22%3A%20%22100%25%22%7D%29%3B%0A%0A%20%20%20%20%20%20%20%20%0A%20%20%20%20%20%20%20%20%20%20%20%20var%20html_60a3a56dde8643f0925c4f1d13abe397%20%3D%20%24%28%60%3Cdiv%20id%3D%22html_60a3a56dde8643f0925c4f1d13abe397%22%20style%3D%22width%3A%20100.0%25%3B%20height%3A%20100.0%25%3B%22%3EGA%3C/div%3E%60%29%5B0%5D%3B%0A%20%20%20%20%20%20%20%20%20%20%20%20popup_5017115b6aa04a8b97d2acdefa72fb2e.setContent%28html_60a3a56dde8643f0925c4f1d13abe397%29%3B%0A%20%20%20%20%20%20%20%20%0A%0A%20%20%20%20%20%20%20%20marker_e8a65d27956a49c2b2b1c4cefafd5337.bindPopup%28popup_5017115b6aa04a8b97d2acdefa72fb2e%29%0A%20%20%20%20%20%20%20%20%3B%0A%0A%20%20%20%20%20%20%20%20%0A%20%20%20%20%0A%20%20%20%20%0A%20%20%20%20%20%20%20%20%20%20%20%20var%20marker_bc7d7bfe40f443429045539ae68fd197%20%3D%20L.marker%28%0A%20%20%20%20%20%20%20%20%20%20%20%20%20%20%20%20%5B33.7123305%2C%20-84.1051939%5D%2C%0A%20%20%20%20%20%20%20%20%20%20%20%20%20%20%20%20%7B%7D%0A%20%20%20%20%20%20%20%20%20%20%20%20%29.addTo%28map_af105377ef03425e8b8af7027bb0b29c%29%3B%0A%20%20%20%20%20%20%20%20%0A%20%20%20%20%0A%20%20%20%20%20%20%20%20var%20popup_ccedb42a50894c1996eda5700300e67c%20%3D%20L.popup%28%7B%22maxWidth%22%3A%20%22100%25%22%7D%29%3B%0A%0A%20%20%20%20%20%20%20%20%0A%20%20%20%20%20%20%20%20%20%20%20%20var%20html_bb08b178cb1141d4b9eb783bf7c81bba%20%3D%20%24%28%60%3Cdiv%20id%3D%22html_bb08b178cb1141d4b9eb783bf7c81bba%22%20style%3D%22width%3A%20100.0%25%3B%20height%3A%20100.0%25%3B%22%3EGA%3C/div%3E%60%29%5B0%5D%3B%0A%20%20%20%20%20%20%20%20%20%20%20%20popup_ccedb42a50894c1996eda5700300e67c.setContent%28html_bb08b178cb1141d4b9eb783bf7c81bba%29%3B%0A%20%20%20%20%20%20%20%20%0A%0A%20%20%20%20%20%20%20%20marker_bc7d7bfe40f443429045539ae68fd197.bindPopup%28popup_ccedb42a50894c1996eda5700300e67c%29%0A%20%20%20%20%20%20%20%20%3B%0A%0A%20%20%20%20%20%20%20%20%0A%20%20%20%20%0A%20%20%20%20%0A%20%20%20%20%20%20%20%20%20%20%20%20var%20marker_b66f9416a17049d6982f2bb62b48d7f9%20%3D%20L.marker%28%0A%20%20%20%20%20%20%20%20%20%20%20%20%20%20%20%20%5B38.956455600000005%2C%20-94.721435%5D%2C%0A%20%20%20%20%20%20%20%20%20%20%20%20%20%20%20%20%7B%7D%0A%20%20%20%20%20%20%20%20%20%20%20%20%29.addTo%28map_af105377ef03425e8b8af7027bb0b29c%29%3B%0A%20%20%20%20%20%20%20%20%0A%20%20%20%20%0A%20%20%20%20%20%20%20%20var%20popup_7019c5a2e3a342b3bb70ccad02f3d6ad%20%3D%20L.popup%28%7B%22maxWidth%22%3A%20%22100%25%22%7D%29%3B%0A%0A%20%20%20%20%20%20%20%20%0A%20%20%20%20%20%20%20%20%20%20%20%20var%20html_dad8a7c33da84dcabc0b5647c13d297a%20%3D%20%24%28%60%3Cdiv%20id%3D%22html_dad8a7c33da84dcabc0b5647c13d297a%22%20style%3D%22width%3A%20100.0%25%3B%20height%3A%20100.0%25%3B%22%3EKS%3C/div%3E%60%29%5B0%5D%3B%0A%20%20%20%20%20%20%20%20%20%20%20%20popup_7019c5a2e3a342b3bb70ccad02f3d6ad.setContent%28html_dad8a7c33da84dcabc0b5647c13d297a%29%3B%0A%20%20%20%20%20%20%20%20%0A%0A%20%20%20%20%20%20%20%20marker_b66f9416a17049d6982f2bb62b48d7f9.bindPopup%28popup_7019c5a2e3a342b3bb70ccad02f3d6ad%29%0A%20%20%20%20%20%20%20%20%3B%0A%0A%20%20%20%20%20%20%20%20%0A%20%20%20%20%0A%20%20%20%20%0A%20%20%20%20%20%20%20%20%20%20%20%20var%20marker_9a5616a1163c4b5aae80a42136bca54c%20%3D%20L.marker%28%0A%20%20%20%20%20%20%20%20%20%20%20%20%20%20%20%20%5B37.67467903691115%2C%20-97.22217214924753%5D%2C%0A%20%20%20%20%20%20%20%20%20%20%20%20%20%20%20%20%7B%7D%0A%20%20%20%20%20%20%20%20%20%20%20%20%29.addTo%28map_af105377ef03425e8b8af7027bb0b29c%29%3B%0A%20%20%20%20%20%20%20%20%0A%20%20%20%20%0A%20%20%20%20%20%20%20%20var%20popup_7966e7e6af65482da6c7e55904a07ab1%20%3D%20L.popup%28%7B%22maxWidth%22%3A%20%22100%25%22%7D%29%3B%0A%0A%20%20%20%20%20%20%20%20%0A%20%20%20%20%20%20%20%20%20%20%20%20var%20html_12542f98ac97418da3ad9b9aa87d5683%20%3D%20%24%28%60%3Cdiv%20id%3D%22html_12542f98ac97418da3ad9b9aa87d5683%22%20style%3D%22width%3A%20100.0%25%3B%20height%3A%20100.0%25%3B%22%3EKS%3C/div%3E%60%29%5B0%5D%3B%0A%20%20%20%20%20%20%20%20%20%20%20%20popup_7966e7e6af65482da6c7e55904a07ab1.setContent%28html_12542f98ac97418da3ad9b9aa87d5683%29%3B%0A%20%20%20%20%20%20%20%20%0A%0A%20%20%20%20%20%20%20%20marker_9a5616a1163c4b5aae80a42136bca54c.bindPopup%28popup_7966e7e6af65482da6c7e55904a07ab1%29%0A%20%20%20%20%20%20%20%20%3B%0A%0A%20%20%20%20%20%20%20%20%0A%20%20%20%20%0A%20%20%20%20%0A%20%20%20%20%20%20%20%20%20%20%20%20var%20marker_3694fe869c41459c90072277222f61d7%20%3D%20L.marker%28%0A%20%20%20%20%20%20%20%20%20%20%20%20%20%20%20%20%5B51.6414714%2C%20-0.1828925%5D%2C%0A%20%20%20%20%20%20%20%20%20%20%20%20%20%20%20%20%7B%7D%0A%20%20%20%20%20%20%20%20%20%20%20%20%29.addTo%28map_af105377ef03425e8b8af7027bb0b29c%29%3B%0A%20%20%20%20%20%20%20%20%0A%20%20%20%20%0A%20%20%20%20%20%20%20%20var%20popup_885ed227233443a1a589da85658c8959%20%3D%20L.popup%28%7B%22maxWidth%22%3A%20%22100%25%22%7D%29%3B%0A%0A%20%20%20%20%20%20%20%20%0A%20%20%20%20%20%20%20%20%20%20%20%20var%20html_849aac1ebe5f405ea1629a3e75e593dc%20%3D%20%24%28%60%3Cdiv%20id%3D%22html_849aac1ebe5f405ea1629a3e75e593dc%22%20style%3D%22width%3A%20100.0%25%3B%20height%3A%20100.0%25%3B%22%3ENJ%3C/div%3E%60%29%5B0%5D%3B%0A%20%20%20%20%20%20%20%20%20%20%20%20popup_885ed227233443a1a589da85658c8959.setContent%28html_849aac1ebe5f405ea1629a3e75e593dc%29%3B%0A%20%20%20%20%20%20%20%20%0A%0A%20%20%20%20%20%20%20%20marker_3694fe869c41459c90072277222f61d7.bindPopup%28popup_885ed227233443a1a589da85658c8959%29%0A%20%20%20%20%20%20%20%20%3B%0A%0A%20%20%20%20%20%20%20%20%0A%20%20%20%20%0A%20%20%20%20%0A%20%20%20%20%20%20%20%20%20%20%20%20var%20marker_d4ad655aec5a4ad3b05a81460af714c3%20%3D%20L.marker%28%0A%20%20%20%20%20%20%20%20%20%20%20%20%20%20%20%20%5B40.6601329%2C%20-74.1734442%5D%2C%0A%20%20%20%20%20%20%20%20%20%20%20%20%20%20%20%20%7B%7D%0A%20%20%20%20%20%20%20%20%20%20%20%20%29.addTo%28map_af105377ef03425e8b8af7027bb0b29c%29%3B%0A%20%20%20%20%20%20%20%20%0A%20%20%20%20%0A%20%20%20%20%20%20%20%20var%20popup_d3688375f3374f55870a5c1224a8c99f%20%3D%20L.popup%28%7B%22maxWidth%22%3A%20%22100%25%22%7D%29%3B%0A%0A%20%20%20%20%20%20%20%20%0A%20%20%20%20%20%20%20%20%20%20%20%20var%20html_235e0e1d11ff46498953d4c8976b7987%20%3D%20%24%28%60%3Cdiv%20id%3D%22html_235e0e1d11ff46498953d4c8976b7987%22%20style%3D%22width%3A%20100.0%25%3B%20height%3A%20100.0%25%3B%22%3ENJ%3C/div%3E%60%29%5B0%5D%3B%0A%20%20%20%20%20%20%20%20%20%20%20%20popup_d3688375f3374f55870a5c1224a8c99f.setContent%28html_235e0e1d11ff46498953d4c8976b7987%29%3B%0A%20%20%20%20%20%20%20%20%0A%0A%20%20%20%20%20%20%20%20marker_d4ad655aec5a4ad3b05a81460af714c3.bindPopup%28popup_d3688375f3374f55870a5c1224a8c99f%29%0A%20%20%20%20%20%20%20%20%3B%0A%0A%20%20%20%20%20%20%20%20%0A%20%20%20%20%0A%20%20%20%20%0A%20%20%20%20%20%20%20%20%20%20%20%20var%20marker_a8078f6543bc4c06a1719229ad4e7012%20%3D%20L.marker%28%0A%20%20%20%20%20%20%20%20%20%20%20%20%20%20%20%20%5B39.9670569%2C%20-74.9426677%5D%2C%0A%20%20%20%20%20%20%20%20%20%20%20%20%20%20%20%20%7B%7D%0A%20%20%20%20%20%20%20%20%20%20%20%20%29.addTo%28map_af105377ef03425e8b8af7027bb0b29c%29%3B%0A%20%20%20%20%20%20%20%20%0A%20%20%20%20%0A%20%20%20%20%20%20%20%20var%20popup_9b3edf42afae4032ad7b416fedcccf21%20%3D%20L.popup%28%7B%22maxWidth%22%3A%20%22100%25%22%7D%29%3B%0A%0A%20%20%20%20%20%20%20%20%0A%20%20%20%20%20%20%20%20%20%20%20%20var%20html_7a87968fd9cf4889af7b765abad050c6%20%3D%20%24%28%60%3Cdiv%20id%3D%22html_7a87968fd9cf4889af7b765abad050c6%22%20style%3D%22width%3A%20100.0%25%3B%20height%3A%20100.0%25%3B%22%3ENJ%3C/div%3E%60%29%5B0%5D%3B%0A%20%20%20%20%20%20%20%20%20%20%20%20popup_9b3edf42afae4032ad7b416fedcccf21.setContent%28html_7a87968fd9cf4889af7b765abad050c6%29%3B%0A%20%20%20%20%20%20%20%20%0A%0A%20%20%20%20%20%20%20%20marker_a8078f6543bc4c06a1719229ad4e7012.bindPopup%28popup_9b3edf42afae4032ad7b416fedcccf21%29%0A%20%20%20%20%20%20%20%20%3B%0A%0A%20%20%20%20%20%20%20%20%0A%20%20%20%20%0A%20%20%20%20%0A%20%20%20%20%20%20%20%20%20%20%20%20var%20marker_45cd39b8f1194e83ba87b90551c30d55%20%3D%20L.marker%28%0A%20%20%20%20%20%20%20%20%20%20%20%20%20%20%20%20%5B52.6753858%2C%20-6.3071676%5D%2C%0A%20%20%20%20%20%20%20%20%20%20%20%20%20%20%20%20%7B%7D%0A%20%20%20%20%20%20%20%20%20%20%20%20%29.addTo%28map_af105377ef03425e8b8af7027bb0b29c%29%3B%0A%20%20%20%20%20%20%20%20%0A%20%20%20%20%0A%20%20%20%20%20%20%20%20var%20popup_6954dfc6e1be4d5e9c76dd643b2f69ee%20%3D%20L.popup%28%7B%22maxWidth%22%3A%20%22100%25%22%7D%29%3B%0A%0A%20%20%20%20%20%20%20%20%0A%20%20%20%20%20%20%20%20%20%20%20%20var%20html_861ebc895e664a53b7b38859583ea1d8%20%3D%20%24%28%60%3Cdiv%20id%3D%22html_861ebc895e664a53b7b38859583ea1d8%22%20style%3D%22width%3A%20100.0%25%3B%20height%3A%20100.0%25%3B%22%3ENJ%3C/div%3E%60%29%5B0%5D%3B%0A%20%20%20%20%20%20%20%20%20%20%20%20popup_6954dfc6e1be4d5e9c76dd643b2f69ee.setContent%28html_861ebc895e664a53b7b38859583ea1d8%29%3B%0A%20%20%20%20%20%20%20%20%0A%0A%20%20%20%20%20%20%20%20marker_45cd39b8f1194e83ba87b90551c30d55.bindPopup%28popup_6954dfc6e1be4d5e9c76dd643b2f69ee%29%0A%20%20%20%20%20%20%20%20%3B%0A%0A%20%20%20%20%20%20%20%20%0A%20%20%20%20%0A%20%20%20%20%0A%20%20%20%20%20%20%20%20%20%20%20%20var%20marker_2bb668c635094812b478145078c3d50b%20%3D%20L.marker%28%0A%20%20%20%20%20%20%20%20%20%20%20%20%20%20%20%20%5B42.9383918%2C%20-78.6847515%5D%2C%0A%20%20%20%20%20%20%20%20%20%20%20%20%20%20%20%20%7B%7D%0A%20%20%20%20%20%20%20%20%20%20%20%20%29.addTo%28map_af105377ef03425e8b8af7027bb0b29c%29%3B%0A%20%20%20%20%20%20%20%20%0A%20%20%20%20%0A%20%20%20%20%20%20%20%20var%20popup_30e182358e3143738ef8bc2ade117b93%20%3D%20L.popup%28%7B%22maxWidth%22%3A%20%22100%25%22%7D%29%3B%0A%0A%20%20%20%20%20%20%20%20%0A%20%20%20%20%20%20%20%20%20%20%20%20var%20html_e97278905663477e92676af75ee8cfe5%20%3D%20%24%28%60%3Cdiv%20id%3D%22html_e97278905663477e92676af75ee8cfe5%22%20style%3D%22width%3A%20100.0%25%3B%20height%3A%20100.0%25%3B%22%3ENY%3C/div%3E%60%29%5B0%5D%3B%0A%20%20%20%20%20%20%20%20%20%20%20%20popup_30e182358e3143738ef8bc2ade117b93.setContent%28html_e97278905663477e92676af75ee8cfe5%29%3B%0A%20%20%20%20%20%20%20%20%0A%0A%20%20%20%20%20%20%20%20marker_2bb668c635094812b478145078c3d50b.bindPopup%28popup_30e182358e3143738ef8bc2ade117b93%29%0A%20%20%20%20%20%20%20%20%3B%0A%0A%20%20%20%20%20%20%20%20%0A%20%20%20%20%0A%20%20%20%20%0A%20%20%20%20%20%20%20%20%20%20%20%20var%20marker_876e321a0de34082b41d9703c231b161%20%3D%20L.marker%28%0A%20%20%20%20%20%20%20%20%20%20%20%20%20%20%20%20%5B40.7365804%2C%20-73.8783932%5D%2C%0A%20%20%20%20%20%20%20%20%20%20%20%20%20%20%20%20%7B%7D%0A%20%20%20%20%20%20%20%20%20%20%20%20%29.addTo%28map_af105377ef03425e8b8af7027bb0b29c%29%3B%0A%20%20%20%20%20%20%20%20%0A%20%20%20%20%0A%20%20%20%20%20%20%20%20var%20popup_b34e3c6e6e13466d8a3e5312d24207fb%20%3D%20L.popup%28%7B%22maxWidth%22%3A%20%22100%25%22%7D%29%3B%0A%0A%20%20%20%20%20%20%20%20%0A%20%20%20%20%20%20%20%20%20%20%20%20var%20html_a3d1c5dd9b8e4211ac2efdd04b44224b%20%3D%20%24%28%60%3Cdiv%20id%3D%22html_a3d1c5dd9b8e4211ac2efdd04b44224b%22%20style%3D%22width%3A%20100.0%25%3B%20height%3A%20100.0%25%3B%22%3ENY%3C/div%3E%60%29%5B0%5D%3B%0A%20%20%20%20%20%20%20%20%20%20%20%20popup_b34e3c6e6e13466d8a3e5312d24207fb.setContent%28html_a3d1c5dd9b8e4211ac2efdd04b44224b%29%3B%0A%20%20%20%20%20%20%20%20%0A%0A%20%20%20%20%20%20%20%20marker_876e321a0de34082b41d9703c231b161.bindPopup%28popup_b34e3c6e6e13466d8a3e5312d24207fb%29%0A%20%20%20%20%20%20%20%20%3B%0A%0A%20%20%20%20%20%20%20%20%0A%20%20%20%20%0A%20%20%20%20%0A%20%20%20%20%20%20%20%20%20%20%20%20var%20marker_60c50ad503954596869672dbb5bf0674%20%3D%20L.marker%28%0A%20%20%20%20%20%20%20%20%20%20%20%20%20%20%20%20%5B40.7266477%2C%20-73.6343052%5D%2C%0A%20%20%20%20%20%20%20%20%20%20%20%20%20%20%20%20%7B%7D%0A%20%20%20%20%20%20%20%20%20%20%20%20%29.addTo%28map_af105377ef03425e8b8af7027bb0b29c%29%3B%0A%20%20%20%20%20%20%20%20%0A%20%20%20%20%0A%20%20%20%20%20%20%20%20var%20popup_c4d719fa4fbd4482aa9487f0fb48eae7%20%3D%20L.popup%28%7B%22maxWidth%22%3A%20%22100%25%22%7D%29%3B%0A%0A%20%20%20%20%20%20%20%20%0A%20%20%20%20%20%20%20%20%20%20%20%20var%20html_f78ba654e1314b78970c8682944180ad%20%3D%20%24%28%60%3Cdiv%20id%3D%22html_f78ba654e1314b78970c8682944180ad%22%20style%3D%22width%3A%20100.0%25%3B%20height%3A%20100.0%25%3B%22%3ENY%3C/div%3E%60%29%5B0%5D%3B%0A%20%20%20%20%20%20%20%20%20%20%20%20popup_c4d719fa4fbd4482aa9487f0fb48eae7.setContent%28html_f78ba654e1314b78970c8682944180ad%29%3B%0A%20%20%20%20%20%20%20%20%0A%0A%20%20%20%20%20%20%20%20marker_60c50ad503954596869672dbb5bf0674.bindPopup%28popup_c4d719fa4fbd4482aa9487f0fb48eae7%29%0A%20%20%20%20%20%20%20%20%3B%0A%0A%20%20%20%20%20%20%20%20%0A%20%20%20%20%0A%20%20%20%20%0A%20%20%20%20%20%20%20%20%20%20%20%20var%20marker_0df80798b9de45929474baf6beb3ea17%20%3D%20L.marker%28%0A%20%20%20%20%20%20%20%20%20%20%20%20%20%20%20%20%5B40.72295145%2C%20-73.99924135088085%5D%2C%0A%20%20%20%20%20%20%20%20%20%20%20%20%20%20%20%20%7B%7D%0A%20%20%20%20%20%20%20%20%20%20%20%20%29.addTo%28map_af105377ef03425e8b8af7027bb0b29c%29%3B%0A%20%20%20%20%20%20%20%20%0A%20%20%20%20%0A%20%20%20%20%20%20%20%20var%20popup_b03dfc184c47450583879be2010bf873%20%3D%20L.popup%28%7B%22maxWidth%22%3A%20%22100%25%22%7D%29%3B%0A%0A%20%20%20%20%20%20%20%20%0A%20%20%20%20%20%20%20%20%20%20%20%20var%20html_5cdd82dfe1234bf9b1bd0862e802e12e%20%3D%20%24%28%60%3Cdiv%20id%3D%22html_5cdd82dfe1234bf9b1bd0862e802e12e%22%20style%3D%22width%3A%20100.0%25%3B%20height%3A%20100.0%25%3B%22%3ENY%3C/div%3E%60%29%5B0%5D%3B%0A%20%20%20%20%20%20%20%20%20%20%20%20popup_b03dfc184c47450583879be2010bf873.setContent%28html_5cdd82dfe1234bf9b1bd0862e802e12e%29%3B%0A%20%20%20%20%20%20%20%20%0A%0A%20%20%20%20%20%20%20%20marker_0df80798b9de45929474baf6beb3ea17.bindPopup%28popup_b03dfc184c47450583879be2010bf873%29%0A%20%20%20%20%20%20%20%20%3B%0A%0A%20%20%20%20%20%20%20%20%0A%20%20%20%20%0A%20%20%20%20%0A%20%20%20%20%20%20%20%20%20%20%20%20var%20marker_9afdad5ca15f450aa73792021e7fc6f8%20%3D%20L.marker%28%0A%20%20%20%20%20%20%20%20%20%20%20%20%20%20%20%20%5B34.6086854%2C%20-98.3903305%5D%2C%0A%20%20%20%20%20%20%20%20%20%20%20%20%20%20%20%20%7B%7D%0A%20%20%20%20%20%20%20%20%20%20%20%20%29.addTo%28map_af105377ef03425e8b8af7027bb0b29c%29%3B%0A%20%20%20%20%20%20%20%20%0A%20%20%20%20%0A%20%20%20%20%20%20%20%20var%20popup_56817002af844dde971638653898eb8a%20%3D%20L.popup%28%7B%22maxWidth%22%3A%20%22100%25%22%7D%29%3B%0A%0A%20%20%20%20%20%20%20%20%0A%20%20%20%20%20%20%20%20%20%20%20%20var%20html_6876fb7a78364f48b2db997e69737f43%20%3D%20%24%28%60%3Cdiv%20id%3D%22html_6876fb7a78364f48b2db997e69737f43%22%20style%3D%22width%3A%20100.0%25%3B%20height%3A%20100.0%25%3B%22%3EOK%3C/div%3E%60%29%5B0%5D%3B%0A%20%20%20%20%20%20%20%20%20%20%20%20popup_56817002af844dde971638653898eb8a.setContent%28html_6876fb7a78364f48b2db997e69737f43%29%3B%0A%20%20%20%20%20%20%20%20%0A%0A%20%20%20%20%20%20%20%20marker_9afdad5ca15f450aa73792021e7fc6f8.bindPopup%28popup_56817002af844dde971638653898eb8a%29%0A%20%20%20%20%20%20%20%20%3B%0A%0A%20%20%20%20%20%20%20%20%0A%20%20%20%20%0A%20%20%20%20%0A%20%20%20%20%20%20%20%20%20%20%20%20var%20marker_b81eedd4654a4b09b9fa06e305e93280%20%3D%20L.marker%28%0A%20%20%20%20%20%20%20%20%20%20%20%20%20%20%20%20%5B35.4729886%2C%20-97.5170536%5D%2C%0A%20%20%20%20%20%20%20%20%20%20%20%20%20%20%20%20%7B%7D%0A%20%20%20%20%20%20%20%20%20%20%20%20%29.addTo%28map_af105377ef03425e8b8af7027bb0b29c%29%3B%0A%20%20%20%20%20%20%20%20%0A%20%20%20%20%0A%20%20%20%20%20%20%20%20var%20popup_7711c2e82a12419f82ed9f3100c9b760%20%3D%20L.popup%28%7B%22maxWidth%22%3A%20%22100%25%22%7D%29%3B%0A%0A%20%20%20%20%20%20%20%20%0A%20%20%20%20%20%20%20%20%20%20%20%20var%20html_95259b3739424dc7987cb81e5e378610%20%3D%20%24%28%60%3Cdiv%20id%3D%22html_95259b3739424dc7987cb81e5e378610%22%20style%3D%22width%3A%20100.0%25%3B%20height%3A%20100.0%25%3B%22%3EOK%3C/div%3E%60%29%5B0%5D%3B%0A%20%20%20%20%20%20%20%20%20%20%20%20popup_7711c2e82a12419f82ed9f3100c9b760.setContent%28html_95259b3739424dc7987cb81e5e378610%29%3B%0A%20%20%20%20%20%20%20%20%0A%0A%20%20%20%20%20%20%20%20marker_b81eedd4654a4b09b9fa06e305e93280.bindPopup%28popup_7711c2e82a12419f82ed9f3100c9b760%29%0A%20%20%20%20%20%20%20%20%3B%0A%0A%20%20%20%20%20%20%20%20%0A%20%20%20%20%0A%20%20%20%20%0A%20%20%20%20%20%20%20%20%20%20%20%20var%20marker_00d11f42ab944003a8a4005f293808f7%20%3D%20L.marker%28%0A%20%20%20%20%20%20%20%20%20%20%20%20%20%20%20%20%5B36.044893394205346%2C%20-95.8878795318709%5D%2C%0A%20%20%20%20%20%20%20%20%20%20%20%20%20%20%20%20%7B%7D%0A%20%20%20%20%20%20%20%20%20%20%20%20%29.addTo%28map_af105377ef03425e8b8af7027bb0b29c%29%3B%0A%20%20%20%20%20%20%20%20%0A%20%20%20%20%0A%20%20%20%20%20%20%20%20var%20popup_ef4d862ad14f41f9a3af587424f018d0%20%3D%20L.popup%28%7B%22maxWidth%22%3A%20%22100%25%22%7D%29%3B%0A%0A%20%20%20%20%20%20%20%20%0A%20%20%20%20%20%20%20%20%20%20%20%20var%20html_fb9c7ec0ac6040caab471d0fe59d2cad%20%3D%20%24%28%60%3Cdiv%20id%3D%22html_fb9c7ec0ac6040caab471d0fe59d2cad%22%20style%3D%22width%3A%20100.0%25%3B%20height%3A%20100.0%25%3B%22%3EOK%3C/div%3E%60%29%5B0%5D%3B%0A%20%20%20%20%20%20%20%20%20%20%20%20popup_ef4d862ad14f41f9a3af587424f018d0.setContent%28html_fb9c7ec0ac6040caab471d0fe59d2cad%29%3B%0A%20%20%20%20%20%20%20%20%0A%0A%20%20%20%20%20%20%20%20marker_00d11f42ab944003a8a4005f293808f7.bindPopup%28popup_ef4d862ad14f41f9a3af587424f018d0%29%0A%20%20%20%20%20%20%20%20%3B%0A%0A%20%20%20%20%20%20%20%20%0A%20%20%20%20%0A%20%20%20%20%0A%20%20%20%20%20%20%20%20%20%20%20%20var%20marker_041a75b9317f47a2a746fd13118d95fe%20%3D%20L.marker%28%0A%20%20%20%20%20%20%20%20%20%20%20%20%20%20%20%20%5B32.5888072%2C%20-96.9553675%5D%2C%0A%20%20%20%20%20%20%20%20%20%20%20%20%20%20%20%20%7B%7D%0A%20%20%20%20%20%20%20%20%20%20%20%20%29.addTo%28map_af105377ef03425e8b8af7027bb0b29c%29%3B%0A%20%20%20%20%20%20%20%20%0A%20%20%20%20%0A%20%20%20%20%20%20%20%20var%20popup_88e761f1bbf74284937f23288633568a%20%3D%20L.popup%28%7B%22maxWidth%22%3A%20%22100%25%22%7D%29%3B%0A%0A%20%20%20%20%20%20%20%20%0A%20%20%20%20%20%20%20%20%20%20%20%20var%20html_d7d210cd61b14eed8959c1fe57635513%20%3D%20%24%28%60%3Cdiv%20id%3D%22html_d7d210cd61b14eed8959c1fe57635513%22%20style%3D%22width%3A%20100.0%25%3B%20height%3A%20100.0%25%3B%22%3ETX%3C/div%3E%60%29%5B0%5D%3B%0A%20%20%20%20%20%20%20%20%20%20%20%20popup_88e761f1bbf74284937f23288633568a.setContent%28html_d7d210cd61b14eed8959c1fe57635513%29%3B%0A%20%20%20%20%20%20%20%20%0A%0A%20%20%20%20%20%20%20%20marker_041a75b9317f47a2a746fd13118d95fe.bindPopup%28popup_88e761f1bbf74284937f23288633568a%29%0A%20%20%20%20%20%20%20%20%3B%0A%0A%20%20%20%20%20%20%20%20%0A%20%20%20%20%0A%20%20%20%20%0A%20%20%20%20%20%20%20%20%20%20%20%20var%20marker_f095b5ecc5d2413b8bc261eb8d130f8c%20%3D%20L.marker%28%0A%20%20%20%20%20%20%20%20%20%20%20%20%20%20%20%20%5B30.5955289%2C%20-96.3071042%5D%2C%0A%20%20%20%20%20%20%20%20%20%20%20%20%20%20%20%20%7B%7D%0A%20%20%20%20%20%20%20%20%20%20%20%20%29.addTo%28map_af105377ef03425e8b8af7027bb0b29c%29%3B%0A%20%20%20%20%20%20%20%20%0A%20%20%20%20%0A%20%20%20%20%20%20%20%20var%20popup_b61699a828604459b993d6cb5128f1d0%20%3D%20L.popup%28%7B%22maxWidth%22%3A%20%22100%25%22%7D%29%3B%0A%0A%20%20%20%20%20%20%20%20%0A%20%20%20%20%20%20%20%20%20%20%20%20var%20html_508b6834437c488b9c0a4b1f77bafbb4%20%3D%20%24%28%60%3Cdiv%20id%3D%22html_508b6834437c488b9c0a4b1f77bafbb4%22%20style%3D%22width%3A%20100.0%25%3B%20height%3A%20100.0%25%3B%22%3ETX%3C/div%3E%60%29%5B0%5D%3B%0A%20%20%20%20%20%20%20%20%20%20%20%20popup_b61699a828604459b993d6cb5128f1d0.setContent%28html_508b6834437c488b9c0a4b1f77bafbb4%29%3B%0A%20%20%20%20%20%20%20%20%0A%0A%20%20%20%20%20%20%20%20marker_f095b5ecc5d2413b8bc261eb8d130f8c.bindPopup%28popup_b61699a828604459b993d6cb5128f1d0%29%0A%20%20%20%20%20%20%20%20%3B%0A%0A%20%20%20%20%20%20%20%20%0A%20%20%20%20%0A%20%20%20%20%0A%20%20%20%20%20%20%20%20%20%20%20%20var%20marker_b3a423b79dc9404aa9cc5c24c4a45879%20%3D%20L.marker%28%0A%20%20%20%20%20%20%20%20%20%20%20%20%20%20%20%20%5B31.7754152%2C%20-106.464634%5D%2C%0A%20%20%20%20%20%20%20%20%20%20%20%20%20%20%20%20%7B%7D%0A%20%20%20%20%20%20%20%20%20%20%20%20%29.addTo%28map_af105377ef03425e8b8af7027bb0b29c%29%3B%0A%20%20%20%20%20%20%20%20%0A%20%20%20%20%0A%20%20%20%20%20%20%20%20var%20popup_73cceea052c1495aa975ed5c7cb9eaf7%20%3D%20L.popup%28%7B%22maxWidth%22%3A%20%22100%25%22%7D%29%3B%0A%0A%20%20%20%20%20%20%20%20%0A%20%20%20%20%20%20%20%20%20%20%20%20var%20html_09c79bdaf08d4a759bd70a78b7003784%20%3D%20%24%28%60%3Cdiv%20id%3D%22html_09c79bdaf08d4a759bd70a78b7003784%22%20style%3D%22width%3A%20100.0%25%3B%20height%3A%20100.0%25%3B%22%3ETX%3C/div%3E%60%29%5B0%5D%3B%0A%20%20%20%20%20%20%20%20%20%20%20%20popup_73cceea052c1495aa975ed5c7cb9eaf7.setContent%28html_09c79bdaf08d4a759bd70a78b7003784%29%3B%0A%20%20%20%20%20%20%20%20%0A%0A%20%20%20%20%20%20%20%20marker_b3a423b79dc9404aa9cc5c24c4a45879.bindPopup%28popup_73cceea052c1495aa975ed5c7cb9eaf7%29%0A%20%20%20%20%20%20%20%20%3B%0A%0A%20%20%20%20%20%20%20%20%0A%20%20%20%20%0A%20%20%20%20%0A%20%20%20%20%20%20%20%20%20%20%20%20var%20marker_7168ed8811564fe89da874990067a089%20%3D%20L.marker%28%0A%20%20%20%20%20%20%20%20%20%20%20%20%20%20%20%20%5B32.66829037006874%2C%20-97.41984107959031%5D%2C%0A%20%20%20%20%20%20%20%20%20%20%20%20%20%20%20%20%7B%7D%0A%20%20%20%20%20%20%20%20%20%20%20%20%29.addTo%28map_af105377ef03425e8b8af7027bb0b29c%29%3B%0A%20%20%20%20%20%20%20%20%0A%20%20%20%20%0A%20%20%20%20%20%20%20%20var%20popup_e677296a7c8546c8ac78af523f93adf3%20%3D%20L.popup%28%7B%22maxWidth%22%3A%20%22100%25%22%7D%29%3B%0A%0A%20%20%20%20%20%20%20%20%0A%20%20%20%20%20%20%20%20%20%20%20%20var%20html_e7ee4a4dfb0643be9e350bc9fa14117d%20%3D%20%24%28%60%3Cdiv%20id%3D%22html_e7ee4a4dfb0643be9e350bc9fa14117d%22%20style%3D%22width%3A%20100.0%25%3B%20height%3A%20100.0%25%3B%22%3ETX%3C/div%3E%60%29%5B0%5D%3B%0A%20%20%20%20%20%20%20%20%20%20%20%20popup_e677296a7c8546c8ac78af523f93adf3.setContent%28html_e7ee4a4dfb0643be9e350bc9fa14117d%29%3B%0A%20%20%20%20%20%20%20%20%0A%0A%20%20%20%20%20%20%20%20marker_7168ed8811564fe89da874990067a089.bindPopup%28popup_e677296a7c8546c8ac78af523f93adf3%29%0A%20%20%20%20%20%20%20%20%3B%0A%0A%20%20%20%20%20%20%20%20%0A%20%20%20%20%0A%20%20%20%20%0A%20%20%20%20%20%20%20%20%20%20%20%20var%20marker_511602cd617748a1841c91ae3591f5d1%20%3D%20L.marker%28%0A%20%20%20%20%20%20%20%20%20%20%20%20%20%20%20%20%5B29.5293998%2C%20-95.2010447%5D%2C%0A%20%20%20%20%20%20%20%20%20%20%20%20%20%20%20%20%7B%7D%0A%20%20%20%20%20%20%20%20%20%20%20%20%29.addTo%28map_af105377ef03425e8b8af7027bb0b29c%29%3B%0A%20%20%20%20%20%20%20%20%0A%20%20%20%20%0A%20%20%20%20%20%20%20%20var%20popup_5d002f03201148da9bf5b4d0bb337240%20%3D%20L.popup%28%7B%22maxWidth%22%3A%20%22100%25%22%7D%29%3B%0A%0A%20%20%20%20%20%20%20%20%0A%20%20%20%20%20%20%20%20%20%20%20%20var%20html_46d27c42a63c44558d475c4ca11d80f0%20%3D%20%24%28%60%3Cdiv%20id%3D%22html_46d27c42a63c44558d475c4ca11d80f0%22%20style%3D%22width%3A%20100.0%25%3B%20height%3A%20100.0%25%3B%22%3ETX%3C/div%3E%60%29%5B0%5D%3B%0A%20%20%20%20%20%20%20%20%20%20%20%20popup_5d002f03201148da9bf5b4d0bb337240.setContent%28html_46d27c42a63c44558d475c4ca11d80f0%29%3B%0A%20%20%20%20%20%20%20%20%0A%0A%20%20%20%20%20%20%20%20marker_511602cd617748a1841c91ae3591f5d1.bindPopup%28popup_5d002f03201148da9bf5b4d0bb337240%29%0A%20%20%20%20%20%20%20%20%3B%0A%0A%20%20%20%20%20%20%20%20%0A%20%20%20%20%0A%20%20%20%20%0A%20%20%20%20%20%20%20%20%20%20%20%20var%20marker_632fdc144de34cc7af8901e20bcbf6e2%20%3D%20L.marker%28%0A%20%20%20%20%20%20%20%20%20%20%20%20%20%20%20%20%5B27.5199841%2C%20-99.4953764%5D%2C%0A%20%20%20%20%20%20%20%20%20%20%20%20%20%20%20%20%7B%7D%0A%20%20%20%20%20%20%20%20%20%20%20%20%29.addTo%28map_af105377ef03425e8b8af7027bb0b29c%29%3B%0A%20%20%20%20%20%20%20%20%0A%20%20%20%20%0A%20%20%20%20%20%20%20%20var%20popup_ab14eaf1cb41476a8ff1b47fcd29bf76%20%3D%20L.popup%28%7B%22maxWidth%22%3A%20%22100%25%22%7D%29%3B%0A%0A%20%20%20%20%20%20%20%20%0A%20%20%20%20%20%20%20%20%20%20%20%20var%20html_ae59b0e46ffd4e998e4d276dd4633a0a%20%3D%20%24%28%60%3Cdiv%20id%3D%22html_ae59b0e46ffd4e998e4d276dd4633a0a%22%20style%3D%22width%3A%20100.0%25%3B%20height%3A%20100.0%25%3B%22%3ETX%3C/div%3E%60%29%5B0%5D%3B%0A%20%20%20%20%20%20%20%20%20%20%20%20popup_ab14eaf1cb41476a8ff1b47fcd29bf76.setContent%28html_ae59b0e46ffd4e998e4d276dd4633a0a%29%3B%0A%20%20%20%20%20%20%20%20%0A%0A%20%20%20%20%20%20%20%20marker_632fdc144de34cc7af8901e20bcbf6e2.bindPopup%28popup_ab14eaf1cb41476a8ff1b47fcd29bf76%29%0A%20%20%20%20%20%20%20%20%3B%0A%0A%20%20%20%20%20%20%20%20%0A%20%20%20%20%0A%20%20%20%20%0A%20%20%20%20%20%20%20%20%20%20%20%20var%20marker_f50875e5e82d4532b273594d9789d3f1%20%3D%20L.marker%28%0A%20%20%20%20%20%20%20%20%20%20%20%20%20%20%20%20%5B33.53931825%2C%20-101.92559859714618%5D%2C%0A%20%20%20%20%20%20%20%20%20%20%20%20%20%20%20%20%7B%7D%0A%20%20%20%20%20%20%20%20%20%20%20%20%29.addTo%28map_af105377ef03425e8b8af7027bb0b29c%29%3B%0A%20%20%20%20%20%20%20%20%0A%20%20%20%20%0A%20%20%20%20%20%20%20%20var%20popup_8aacc766b7824184b2f94a051f3caf89%20%3D%20L.popup%28%7B%22maxWidth%22%3A%20%22100%25%22%7D%29%3B%0A%0A%20%20%20%20%20%20%20%20%0A%20%20%20%20%20%20%20%20%20%20%20%20var%20html_2971e8fdcdd54a8ab63e84159f32624b%20%3D%20%24%28%60%3Cdiv%20id%3D%22html_2971e8fdcdd54a8ab63e84159f32624b%22%20style%3D%22width%3A%20100.0%25%3B%20height%3A%20100.0%25%3B%22%3ETX%3C/div%3E%60%29%5B0%5D%3B%0A%20%20%20%20%20%20%20%20%20%20%20%20popup_8aacc766b7824184b2f94a051f3caf89.setContent%28html_2971e8fdcdd54a8ab63e84159f32624b%29%3B%0A%20%20%20%20%20%20%20%20%0A%0A%20%20%20%20%20%20%20%20marker_f50875e5e82d4532b273594d9789d3f1.bindPopup%28popup_8aacc766b7824184b2f94a051f3caf89%29%0A%20%20%20%20%20%20%20%20%3B%0A%0A%20%20%20%20%20%20%20%20%0A%20%20%20%20%0A%20%20%20%20%0A%20%20%20%20%20%20%20%20%20%20%20%20var%20marker_f5e2419be014485fbe9af4013d62722a%20%3D%20L.marker%28%0A%20%20%20%20%20%20%20%20%20%20%20%20%20%20%20%20%5B26.2043691%2C%20-98.230082%5D%2C%0A%20%20%20%20%20%20%20%20%20%20%20%20%20%20%20%20%7B%7D%0A%20%20%20%20%20%20%20%20%20%20%20%20%29.addTo%28map_af105377ef03425e8b8af7027bb0b29c%29%3B%0A%20%20%20%20%20%20%20%20%0A%20%20%20%20%0A%20%20%20%20%20%20%20%20var%20popup_f3ccb65e0ae74e278e68badf6ca5905f%20%3D%20L.popup%28%7B%22maxWidth%22%3A%20%22100%25%22%7D%29%3B%0A%0A%20%20%20%20%20%20%20%20%0A%20%20%20%20%20%20%20%20%20%20%20%20var%20html_c5720e8c2fb14066aa9dab92b5f8e937%20%3D%20%24%28%60%3Cdiv%20id%3D%22html_c5720e8c2fb14066aa9dab92b5f8e937%22%20style%3D%22width%3A%20100.0%25%3B%20height%3A%20100.0%25%3B%22%3ETX%3C/div%3E%60%29%5B0%5D%3B%0A%20%20%20%20%20%20%20%20%20%20%20%20popup_f3ccb65e0ae74e278e68badf6ca5905f.setContent%28html_c5720e8c2fb14066aa9dab92b5f8e937%29%3B%0A%20%20%20%20%20%20%20%20%0A%0A%20%20%20%20%20%20%20%20marker_f5e2419be014485fbe9af4013d62722a.bindPopup%28popup_f3ccb65e0ae74e278e68badf6ca5905f%29%0A%20%20%20%20%20%20%20%20%3B%0A%0A%20%20%20%20%20%20%20%20%0A%20%20%20%20%0A%20%20%20%20%0A%20%20%20%20%20%20%20%20%20%20%20%20var%20marker_9d63fb962efb4bba9502b91ad6f6456c%20%3D%20L.marker%28%0A%20%20%20%20%20%20%20%20%20%20%20%20%20%20%20%20%5B32.8077597%2C%20-96.62323717787089%5D%2C%0A%20%20%20%20%20%20%20%20%20%20%20%20%20%20%20%20%7B%7D%0A%20%20%20%20%20%20%20%20%20%20%20%20%29.addTo%28map_af105377ef03425e8b8af7027bb0b29c%29%3B%0A%20%20%20%20%20%20%20%20%0A%20%20%20%20%0A%20%20%20%20%20%20%20%20var%20popup_1304d7d546554431b93d9b65acc1c475%20%3D%20L.popup%28%7B%22maxWidth%22%3A%20%22100%25%22%7D%29%3B%0A%0A%20%20%20%20%20%20%20%20%0A%20%20%20%20%20%20%20%20%20%20%20%20var%20html_f15f5503b62d4b9892be5f64827c58e9%20%3D%20%24%28%60%3Cdiv%20id%3D%22html_f15f5503b62d4b9892be5f64827c58e9%22%20style%3D%22width%3A%20100.0%25%3B%20height%3A%20100.0%25%3B%22%3ETX%3C/div%3E%60%29%5B0%5D%3B%0A%20%20%20%20%20%20%20%20%20%20%20%20popup_1304d7d546554431b93d9b65acc1c475.setContent%28html_f15f5503b62d4b9892be5f64827c58e9%29%3B%0A%20%20%20%20%20%20%20%20%0A%0A%20%20%20%20%20%20%20%20marker_9d63fb962efb4bba9502b91ad6f6456c.bindPopup%28popup_1304d7d546554431b93d9b65acc1c475%29%0A%20%20%20%20%20%20%20%20%3B%0A%0A%20%20%20%20%20%20%20%20%0A%20%20%20%20%0A%20%20%20%20%0A%20%20%20%20%20%20%20%20%20%20%20%20var%20marker_44e876234658491f8b895d1c1133ad6c%20%3D%20L.marker%28%0A%20%20%20%20%20%20%20%20%20%20%20%20%20%20%20%20%5B46.2087066%2C%20-119.1199192%5D%2C%0A%20%20%20%20%20%20%20%20%20%20%20%20%20%20%20%20%7B%7D%0A%20%20%20%20%20%20%20%20%20%20%20%20%29.addTo%28map_af105377ef03425e8b8af7027bb0b29c%29%3B%0A%20%20%20%20%20%20%20%20%0A%20%20%20%20%0A%20%20%20%20%20%20%20%20var%20popup_41780254abc949e18da9f69f99ea43da%20%3D%20L.popup%28%7B%22maxWidth%22%3A%20%22100%25%22%7D%29%3B%0A%0A%20%20%20%20%20%20%20%20%0A%20%20%20%20%20%20%20%20%20%20%20%20var%20html_43b4a5be3e294abbb5c5bc9889f480b6%20%3D%20%24%28%60%3Cdiv%20id%3D%22html_43b4a5be3e294abbb5c5bc9889f480b6%22%20style%3D%22width%3A%20100.0%25%3B%20height%3A%20100.0%25%3B%22%3EWA%3C/div%3E%60%29%5B0%5D%3B%0A%20%20%20%20%20%20%20%20%20%20%20%20popup_41780254abc949e18da9f69f99ea43da.setContent%28html_43b4a5be3e294abbb5c5bc9889f480b6%29%3B%0A%20%20%20%20%20%20%20%20%0A%0A%20%20%20%20%20%20%20%20marker_44e876234658491f8b895d1c1133ad6c.bindPopup%28popup_41780254abc949e18da9f69f99ea43da%29%0A%20%20%20%20%20%20%20%20%3B%0A%0A%20%20%20%20%20%20%20%20%0A%20%20%20%20%0A%20%20%20%20%0A%20%20%20%20%20%20%20%20%20%20%20%20var%20marker_3be76ca0b3854abe8a6aef9d394cdf75%20%3D%20L.marker%28%0A%20%20%20%20%20%20%20%20%20%20%20%20%20%20%20%20%5B47.4627356%2C%20-122.2559156%5D%2C%0A%20%20%20%20%20%20%20%20%20%20%20%20%20%20%20%20%7B%7D%0A%20%20%20%20%20%20%20%20%20%20%20%20%29.addTo%28map_af105377ef03425e8b8af7027bb0b29c%29%3B%0A%20%20%20%20%20%20%20%20%0A%20%20%20%20%0A%20%20%20%20%20%20%20%20var%20popup_f633fe9702084350a701bc3c8c87ce60%20%3D%20L.popup%28%7B%22maxWidth%22%3A%20%22100%25%22%7D%29%3B%0A%0A%20%20%20%20%20%20%20%20%0A%20%20%20%20%20%20%20%20%20%20%20%20var%20html_bfc19af8d7134414a6558b1697061d6b%20%3D%20%24%28%60%3Cdiv%20id%3D%22html_bfc19af8d7134414a6558b1697061d6b%22%20style%3D%22width%3A%20100.0%25%3B%20height%3A%20100.0%25%3B%22%3EWA%3C/div%3E%60%29%5B0%5D%3B%0A%20%20%20%20%20%20%20%20%20%20%20%20popup_f633fe9702084350a701bc3c8c87ce60.setContent%28html_bfc19af8d7134414a6558b1697061d6b%29%3B%0A%20%20%20%20%20%20%20%20%0A%0A%20%20%20%20%20%20%20%20marker_3be76ca0b3854abe8a6aef9d394cdf75.bindPopup%28popup_f633fe9702084350a701bc3c8c87ce60%29%0A%20%20%20%20%20%20%20%20%3B%0A%0A%20%20%20%20%20%20%20%20%0A%20%20%20%20%0A%20%20%20%20%0A%20%20%20%20%20%20%20%20%20%20%20%20var%20marker_7570b67e7f064c56b6b7c03675d6c280%20%3D%20L.marker%28%0A%20%20%20%20%20%20%20%20%20%20%20%20%20%20%20%20%5B33.7194999753681%2C%20-84.52704116556293%5D%2C%0A%20%20%20%20%20%20%20%20%20%20%20%20%20%20%20%20%7B%7D%0A%20%20%20%20%20%20%20%20%20%20%20%20%29.addTo%28map_af105377ef03425e8b8af7027bb0b29c%29%3B%0A%20%20%20%20%20%20%20%20%0A%20%20%20%20%0A%20%20%20%20%20%20%20%20var%20popup_d12e1fcb2e4a425199eb03feed7ceb6e%20%3D%20L.popup%28%7B%22maxWidth%22%3A%20%22100%25%22%7D%29%3B%0A%0A%20%20%20%20%20%20%20%20%0A%20%20%20%20%20%20%20%20%20%20%20%20var%20html_8a07b0af8f1b43c2a50389d678a5bd59%20%3D%20%24%28%60%3Cdiv%20id%3D%22html_8a07b0af8f1b43c2a50389d678a5bd59%22%20style%3D%22width%3A%20100.0%25%3B%20height%3A%20100.0%25%3B%22%3EGA%3C/div%3E%60%29%5B0%5D%3B%0A%20%20%20%20%20%20%20%20%20%20%20%20popup_d12e1fcb2e4a425199eb03feed7ceb6e.setContent%28html_8a07b0af8f1b43c2a50389d678a5bd59%29%3B%0A%20%20%20%20%20%20%20%20%0A%0A%20%20%20%20%20%20%20%20marker_7570b67e7f064c56b6b7c03675d6c280.bindPopup%28popup_d12e1fcb2e4a425199eb03feed7ceb6e%29%0A%20%20%20%20%20%20%20%20%3B%0A%0A%20%20%20%20%20%20%20%20%0A%20%20%20%20%0A%20%20%20%20%0A%20%20%20%20%20%20%20%20%20%20%20%20var%20marker_db7c016493c9494c854e4354660f1c2c%20%3D%20L.marker%28%0A%20%20%20%20%20%20%20%20%20%20%20%20%20%20%20%20%5B33.849015901823236%2C%20-84.35903519514731%5D%2C%0A%20%20%20%20%20%20%20%20%20%20%20%20%20%20%20%20%7B%7D%0A%20%20%20%20%20%20%20%20%20%20%20%20%29.addTo%28map_af105377ef03425e8b8af7027bb0b29c%29%3B%0A%20%20%20%20%20%20%20%20%0A%20%20%20%20%0A%20%20%20%20%20%20%20%20var%20popup_8a2d515f598f4782834e806e8da735e2%20%3D%20L.popup%28%7B%22maxWidth%22%3A%20%22100%25%22%7D%29%3B%0A%0A%20%20%20%20%20%20%20%20%0A%20%20%20%20%20%20%20%20%20%20%20%20var%20html_cfda82b94dd94914970de68a7704044c%20%3D%20%24%28%60%3Cdiv%20id%3D%22html_cfda82b94dd94914970de68a7704044c%22%20style%3D%22width%3A%20100.0%25%3B%20height%3A%20100.0%25%3B%22%3EGA%3C/div%3E%60%29%5B0%5D%3B%0A%20%20%20%20%20%20%20%20%20%20%20%20popup_8a2d515f598f4782834e806e8da735e2.setContent%28html_cfda82b94dd94914970de68a7704044c%29%3B%0A%20%20%20%20%20%20%20%20%0A%0A%20%20%20%20%20%20%20%20marker_db7c016493c9494c854e4354660f1c2c.bindPopup%28popup_8a2d515f598f4782834e806e8da735e2%29%0A%20%20%20%20%20%20%20%20%3B%0A%0A%20%20%20%20%20%20%20%20%0A%20%20%20%20%0A%20%20%20%20%0A%20%20%20%20%20%20%20%20%20%20%20%20var%20marker_61a8edd9ed784f0081c9fff7295fb231%20%3D%20L.marker%28%0A%20%20%20%20%20%20%20%20%20%20%20%20%20%20%20%20%5B40.9189853%2C%20-74.0794263%5D%2C%0A%20%20%20%20%20%20%20%20%20%20%20%20%20%20%20%20%7B%7D%0A%20%20%20%20%20%20%20%20%20%20%20%20%29.addTo%28map_af105377ef03425e8b8af7027bb0b29c%29%3B%0A%20%20%20%20%20%20%20%20%0A%20%20%20%20%0A%20%20%20%20%20%20%20%20var%20popup_b79c9ad53b614fee816cae69e3877741%20%3D%20L.popup%28%7B%22maxWidth%22%3A%20%22100%25%22%7D%29%3B%0A%0A%20%20%20%20%20%20%20%20%0A%20%20%20%20%20%20%20%20%20%20%20%20var%20html_315fe94d3bd842dca7d116b18cce04b9%20%3D%20%24%28%60%3Cdiv%20id%3D%22html_315fe94d3bd842dca7d116b18cce04b9%22%20style%3D%22width%3A%20100.0%25%3B%20height%3A%20100.0%25%3B%22%3ENJ%3C/div%3E%60%29%5B0%5D%3B%0A%20%20%20%20%20%20%20%20%20%20%20%20popup_b79c9ad53b614fee816cae69e3877741.setContent%28html_315fe94d3bd842dca7d116b18cce04b9%29%3B%0A%20%20%20%20%20%20%20%20%0A%0A%20%20%20%20%20%20%20%20marker_61a8edd9ed784f0081c9fff7295fb231.bindPopup%28popup_b79c9ad53b614fee816cae69e3877741%29%0A%20%20%20%20%20%20%20%20%3B%0A%0A%20%20%20%20%20%20%20%20%0A%20%20%20%20%0A%20%20%20%20%0A%20%20%20%20%20%20%20%20%20%20%20%20var%20marker_c72cc960c51a4e6b855f41433f8d44af%20%3D%20L.marker%28%0A%20%20%20%20%20%20%20%20%20%20%20%20%20%20%20%20%5B42.7268986%2C%20-83.4145584%5D%2C%0A%20%20%20%20%20%20%20%20%20%20%20%20%20%20%20%20%7B%7D%0A%20%20%20%20%20%20%20%20%20%20%20%20%29.addTo%28map_af105377ef03425e8b8af7027bb0b29c%29%3B%0A%20%20%20%20%20%20%20%20%0A%20%20%20%20%0A%20%20%20%20%20%20%20%20var%20popup_4d3a90111caa469a83ee8abbe69b6d34%20%3D%20L.popup%28%7B%22maxWidth%22%3A%20%22100%25%22%7D%29%3B%0A%0A%20%20%20%20%20%20%20%20%0A%20%20%20%20%20%20%20%20%20%20%20%20var%20html_b006f7aa30e844d19425c73a9b3c6624%20%3D%20%24%28%60%3Cdiv%20id%3D%22html_b006f7aa30e844d19425c73a9b3c6624%22%20style%3D%22width%3A%20100.0%25%3B%20height%3A%20100.0%25%3B%22%3ENJ%3C/div%3E%60%29%5B0%5D%3B%0A%20%20%20%20%20%20%20%20%20%20%20%20popup_4d3a90111caa469a83ee8abbe69b6d34.setContent%28html_b006f7aa30e844d19425c73a9b3c6624%29%3B%0A%20%20%20%20%20%20%20%20%0A%0A%20%20%20%20%20%20%20%20marker_c72cc960c51a4e6b855f41433f8d44af.bindPopup%28popup_4d3a90111caa469a83ee8abbe69b6d34%29%0A%20%20%20%20%20%20%20%20%3B%0A%0A%20%20%20%20%20%20%20%20%0A%20%20%20%20%0A%20%20%20%20%0A%20%20%20%20%20%20%20%20%20%20%20%20var%20marker_bee74ed4d45c4db7bf66095b6712e97d%20%3D%20L.marker%28%0A%20%20%20%20%20%20%20%20%20%20%20%20%20%20%20%20%5B18.2344839%2C%20-66.0375248%5D%2C%0A%20%20%20%20%20%20%20%20%20%20%20%20%20%20%20%20%7B%7D%0A%20%20%20%20%20%20%20%20%20%20%20%20%29.addTo%28map_af105377ef03425e8b8af7027bb0b29c%29%3B%0A%20%20%20%20%20%20%20%20%0A%20%20%20%20%0A%20%20%20%20%20%20%20%20var%20popup_222c67b861724b569164e1ac5157a5bd%20%3D%20L.popup%28%7B%22maxWidth%22%3A%20%22100%25%22%7D%29%3B%0A%0A%20%20%20%20%20%20%20%20%0A%20%20%20%20%20%20%20%20%20%20%20%20var%20html_145fb3cf6a3d4aaba54e1faa114a07af%20%3D%20%24%28%60%3Cdiv%20id%3D%22html_145fb3cf6a3d4aaba54e1faa114a07af%22%20style%3D%22width%3A%20100.0%25%3B%20height%3A%20100.0%25%3B%22%3Enan%3C/div%3E%60%29%5B0%5D%3B%0A%20%20%20%20%20%20%20%20%20%20%20%20popup_222c67b861724b569164e1ac5157a5bd.setContent%28html_145fb3cf6a3d4aaba54e1faa114a07af%29%3B%0A%20%20%20%20%20%20%20%20%0A%0A%20%20%20%20%20%20%20%20marker_bee74ed4d45c4db7bf66095b6712e97d.bindPopup%28popup_222c67b861724b569164e1ac5157a5bd%29%0A%20%20%20%20%20%20%20%20%3B%0A%0A%20%20%20%20%20%20%20%20%0A%20%20%20%20%0A%20%20%20%20%0A%20%20%20%20%20%20%20%20%20%20%20%20var%20marker_436887dc285943cea82a4fe5cd3038ab%20%3D%20L.marker%28%0A%20%20%20%20%20%20%20%20%20%20%20%20%20%20%20%20%5B35.8534714%2C%20-79.0720386%5D%2C%0A%20%20%20%20%20%20%20%20%20%20%20%20%20%20%20%20%7B%7D%0A%20%20%20%20%20%20%20%20%20%20%20%20%29.addTo%28map_af105377ef03425e8b8af7027bb0b29c%29%3B%0A%20%20%20%20%20%20%20%20%0A%20%20%20%20%0A%20%20%20%20%20%20%20%20var%20popup_31671607e0234cbbb84b4e2d42c23b50%20%3D%20L.popup%28%7B%22maxWidth%22%3A%20%22100%25%22%7D%29%3B%0A%0A%20%20%20%20%20%20%20%20%0A%20%20%20%20%20%20%20%20%20%20%20%20var%20html_4503c797958d43c2863a6c11a7631cc1%20%3D%20%24%28%60%3Cdiv%20id%3D%22html_4503c797958d43c2863a6c11a7631cc1%22%20style%3D%22width%3A%20100.0%25%3B%20height%3A%20100.0%25%3B%22%3Enan%3C/div%3E%60%29%5B0%5D%3B%0A%20%20%20%20%20%20%20%20%20%20%20%20popup_31671607e0234cbbb84b4e2d42c23b50.setContent%28html_4503c797958d43c2863a6c11a7631cc1%29%3B%0A%20%20%20%20%20%20%20%20%0A%0A%20%20%20%20%20%20%20%20marker_436887dc285943cea82a4fe5cd3038ab.bindPopup%28popup_31671607e0234cbbb84b4e2d42c23b50%29%0A%20%20%20%20%20%20%20%20%3B%0A%0A%20%20%20%20%20%20%20%20%0A%20%20%20%20%0A%3C/script%3E onload=\"this.contentDocument.open();this.contentDocument.write(    decodeURIComponent(this.getAttribute('data-html')));this.contentDocument.close();\" allowfullscreen webkitallowfullscreen mozallowfullscreen></iframe></div></div>"
      ],
      "text/plain": [
       "<folium.folium.Map at 0x1c78e613cd0>"
      ]
     },
     "execution_count": 126,
     "metadata": {},
     "output_type": "execute_result"
    }
   ],
   "source": [
    "m = folium.Map(location = df[['latitude', 'longitude']].mean().to_list(), zoom_start=3)\n",
    "\n",
    "for i, row in df.iterrows():\n",
    "    location = (row['latitude'], row['longitude'])\n",
    "    folium.Marker(location = location, popup = row['state']).add_to(m)\n",
    "\n",
    "m"
   ]
  },
  {
   "cell_type": "code",
   "execution_count": 98,
   "metadata": {},
   "outputs": [
    {
     "ename": "WebDriverException",
     "evalue": "Message: 'geckodriver' executable needs to be in PATH. \n",
     "output_type": "error",
     "traceback": [
      "\u001b[1;31m---------------------------------------------------------------------------\u001b[0m",
      "\u001b[1;31mFileNotFoundError\u001b[0m                         Traceback (most recent call last)",
      "\u001b[1;32mc:\\users\\hemant rattey\\appdata\\local\\programs\\python\\python39\\lib\\site-packages\\selenium\\webdriver\\common\\service.py\u001b[0m in \u001b[0;36mstart\u001b[1;34m(self)\u001b[0m\n\u001b[0;32m     71\u001b[0m             \u001b[0mcmd\u001b[0m\u001b[1;33m.\u001b[0m\u001b[0mextend\u001b[0m\u001b[1;33m(\u001b[0m\u001b[0mself\u001b[0m\u001b[1;33m.\u001b[0m\u001b[0mcommand_line_args\u001b[0m\u001b[1;33m(\u001b[0m\u001b[1;33m)\u001b[0m\u001b[1;33m)\u001b[0m\u001b[1;33m\u001b[0m\u001b[1;33m\u001b[0m\u001b[0m\n\u001b[1;32m---> 72\u001b[1;33m             self.process = subprocess.Popen(cmd, env=self.env,\n\u001b[0m\u001b[0;32m     73\u001b[0m                                             \u001b[0mclose_fds\u001b[0m\u001b[1;33m=\u001b[0m\u001b[0mplatform\u001b[0m\u001b[1;33m.\u001b[0m\u001b[0msystem\u001b[0m\u001b[1;33m(\u001b[0m\u001b[1;33m)\u001b[0m \u001b[1;33m!=\u001b[0m \u001b[1;34m'Windows'\u001b[0m\u001b[1;33m,\u001b[0m\u001b[1;33m\u001b[0m\u001b[1;33m\u001b[0m\u001b[0m\n",
      "\u001b[1;32mc:\\users\\hemant rattey\\appdata\\local\\programs\\python\\python39\\lib\\subprocess.py\u001b[0m in \u001b[0;36m__init__\u001b[1;34m(self, args, bufsize, executable, stdin, stdout, stderr, preexec_fn, close_fds, shell, cwd, env, universal_newlines, startupinfo, creationflags, restore_signals, start_new_session, pass_fds, user, group, extra_groups, encoding, errors, text, umask)\u001b[0m\n\u001b[0;32m    946\u001b[0m \u001b[1;33m\u001b[0m\u001b[0m\n\u001b[1;32m--> 947\u001b[1;33m             self._execute_child(args, executable, preexec_fn, close_fds,\n\u001b[0m\u001b[0;32m    948\u001b[0m                                 \u001b[0mpass_fds\u001b[0m\u001b[1;33m,\u001b[0m \u001b[0mcwd\u001b[0m\u001b[1;33m,\u001b[0m \u001b[0menv\u001b[0m\u001b[1;33m,\u001b[0m\u001b[1;33m\u001b[0m\u001b[1;33m\u001b[0m\u001b[0m\n",
      "\u001b[1;32mc:\\users\\hemant rattey\\appdata\\local\\programs\\python\\python39\\lib\\subprocess.py\u001b[0m in \u001b[0;36m_execute_child\u001b[1;34m(self, args, executable, preexec_fn, close_fds, pass_fds, cwd, env, startupinfo, creationflags, shell, p2cread, p2cwrite, c2pread, c2pwrite, errread, errwrite, unused_restore_signals, unused_gid, unused_gids, unused_uid, unused_umask, unused_start_new_session)\u001b[0m\n\u001b[0;32m   1415\u001b[0m             \u001b[1;32mtry\u001b[0m\u001b[1;33m:\u001b[0m\u001b[1;33m\u001b[0m\u001b[1;33m\u001b[0m\u001b[0m\n\u001b[1;32m-> 1416\u001b[1;33m                 hp, ht, pid, tid = _winapi.CreateProcess(executable, args,\n\u001b[0m\u001b[0;32m   1417\u001b[0m                                          \u001b[1;31m# no special security\u001b[0m\u001b[1;33m\u001b[0m\u001b[1;33m\u001b[0m\u001b[1;33m\u001b[0m\u001b[0m\n",
      "\u001b[1;31mFileNotFoundError\u001b[0m: [WinError 2] The system cannot find the file specified",
      "\nDuring handling of the above exception, another exception occurred:\n",
      "\u001b[1;31mWebDriverException\u001b[0m                        Traceback (most recent call last)",
      "\u001b[1;32m<ipython-input-98-355fe65e1ae4>\u001b[0m in \u001b[0;36m<module>\u001b[1;34m\u001b[0m\n\u001b[0;32m      2\u001b[0m \u001b[1;32mfrom\u001b[0m \u001b[0mPIL\u001b[0m \u001b[1;32mimport\u001b[0m \u001b[0mImage\u001b[0m\u001b[1;33m\u001b[0m\u001b[1;33m\u001b[0m\u001b[0m\n\u001b[0;32m      3\u001b[0m \u001b[1;33m\u001b[0m\u001b[0m\n\u001b[1;32m----> 4\u001b[1;33m \u001b[0mimg_data\u001b[0m \u001b[1;33m=\u001b[0m \u001b[0mm\u001b[0m\u001b[1;33m.\u001b[0m\u001b[0m_to_png\u001b[0m\u001b[1;33m(\u001b[0m\u001b[1;36m5\u001b[0m\u001b[1;33m)\u001b[0m\u001b[1;33m\u001b[0m\u001b[1;33m\u001b[0m\u001b[0m\n\u001b[0m\u001b[0;32m      5\u001b[0m \u001b[0mimg\u001b[0m \u001b[1;33m=\u001b[0m \u001b[0mImage\u001b[0m\u001b[1;33m.\u001b[0m\u001b[0mopen\u001b[0m\u001b[1;33m(\u001b[0m\u001b[0mio\u001b[0m\u001b[1;33m.\u001b[0m\u001b[0mBytesIO\u001b[0m\u001b[1;33m(\u001b[0m\u001b[0mimg_data\u001b[0m\u001b[1;33m)\u001b[0m\u001b[1;33m)\u001b[0m\u001b[1;33m\u001b[0m\u001b[1;33m\u001b[0m\u001b[0m\n\u001b[0;32m      6\u001b[0m \u001b[0mimg\u001b[0m\u001b[1;33m.\u001b[0m\u001b[0msave\u001b[0m\u001b[1;33m(\u001b[0m\u001b[1;34m'geolocations.png'\u001b[0m\u001b[1;33m)\u001b[0m\u001b[1;33m\u001b[0m\u001b[1;33m\u001b[0m\u001b[0m\n",
      "\u001b[1;32mc:\\users\\hemant rattey\\appdata\\local\\programs\\python\\python39\\lib\\site-packages\\folium\\folium.py\u001b[0m in \u001b[0;36m_to_png\u001b[1;34m(self, delay)\u001b[0m\n\u001b[0;32m    317\u001b[0m             \u001b[0moptions\u001b[0m \u001b[1;33m=\u001b[0m \u001b[0mwebdriver\u001b[0m\u001b[1;33m.\u001b[0m\u001b[0mfirefox\u001b[0m\u001b[1;33m.\u001b[0m\u001b[0moptions\u001b[0m\u001b[1;33m.\u001b[0m\u001b[0mOptions\u001b[0m\u001b[1;33m(\u001b[0m\u001b[1;33m)\u001b[0m\u001b[1;33m\u001b[0m\u001b[1;33m\u001b[0m\u001b[0m\n\u001b[0;32m    318\u001b[0m             \u001b[0moptions\u001b[0m\u001b[1;33m.\u001b[0m\u001b[0madd_argument\u001b[0m\u001b[1;33m(\u001b[0m\u001b[1;34m'--headless'\u001b[0m\u001b[1;33m)\u001b[0m\u001b[1;33m\u001b[0m\u001b[1;33m\u001b[0m\u001b[0m\n\u001b[1;32m--> 319\u001b[1;33m             \u001b[0mdriver\u001b[0m \u001b[1;33m=\u001b[0m \u001b[0mwebdriver\u001b[0m\u001b[1;33m.\u001b[0m\u001b[0mFirefox\u001b[0m\u001b[1;33m(\u001b[0m\u001b[0moptions\u001b[0m\u001b[1;33m=\u001b[0m\u001b[0moptions\u001b[0m\u001b[1;33m)\u001b[0m\u001b[1;33m\u001b[0m\u001b[1;33m\u001b[0m\u001b[0m\n\u001b[0m\u001b[0;32m    320\u001b[0m \u001b[1;33m\u001b[0m\u001b[0m\n\u001b[0;32m    321\u001b[0m             \u001b[0mhtml\u001b[0m \u001b[1;33m=\u001b[0m \u001b[0mself\u001b[0m\u001b[1;33m.\u001b[0m\u001b[0mget_root\u001b[0m\u001b[1;33m(\u001b[0m\u001b[1;33m)\u001b[0m\u001b[1;33m.\u001b[0m\u001b[0mrender\u001b[0m\u001b[1;33m(\u001b[0m\u001b[1;33m)\u001b[0m\u001b[1;33m\u001b[0m\u001b[1;33m\u001b[0m\u001b[0m\n",
      "\u001b[1;32mc:\\users\\hemant rattey\\appdata\\local\\programs\\python\\python39\\lib\\site-packages\\selenium\\webdriver\\firefox\\webdriver.py\u001b[0m in \u001b[0;36m__init__\u001b[1;34m(self, firefox_profile, firefox_binary, timeout, capabilities, proxy, executable_path, options, service_log_path, firefox_options, service_args, desired_capabilities, log_path, keep_alive)\u001b[0m\n\u001b[0;32m    162\u001b[0m                 \u001b[0mservice_args\u001b[0m\u001b[1;33m=\u001b[0m\u001b[0mservice_args\u001b[0m\u001b[1;33m,\u001b[0m\u001b[1;33m\u001b[0m\u001b[1;33m\u001b[0m\u001b[0m\n\u001b[0;32m    163\u001b[0m                 log_path=service_log_path)\n\u001b[1;32m--> 164\u001b[1;33m             \u001b[0mself\u001b[0m\u001b[1;33m.\u001b[0m\u001b[0mservice\u001b[0m\u001b[1;33m.\u001b[0m\u001b[0mstart\u001b[0m\u001b[1;33m(\u001b[0m\u001b[1;33m)\u001b[0m\u001b[1;33m\u001b[0m\u001b[1;33m\u001b[0m\u001b[0m\n\u001b[0m\u001b[0;32m    165\u001b[0m \u001b[1;33m\u001b[0m\u001b[0m\n\u001b[0;32m    166\u001b[0m             \u001b[0mcapabilities\u001b[0m\u001b[1;33m.\u001b[0m\u001b[0mupdate\u001b[0m\u001b[1;33m(\u001b[0m\u001b[0moptions\u001b[0m\u001b[1;33m.\u001b[0m\u001b[0mto_capabilities\u001b[0m\u001b[1;33m(\u001b[0m\u001b[1;33m)\u001b[0m\u001b[1;33m)\u001b[0m\u001b[1;33m\u001b[0m\u001b[1;33m\u001b[0m\u001b[0m\n",
      "\u001b[1;32mc:\\users\\hemant rattey\\appdata\\local\\programs\\python\\python39\\lib\\site-packages\\selenium\\webdriver\\common\\service.py\u001b[0m in \u001b[0;36mstart\u001b[1;34m(self)\u001b[0m\n\u001b[0;32m     79\u001b[0m         \u001b[1;32mexcept\u001b[0m \u001b[0mOSError\u001b[0m \u001b[1;32mas\u001b[0m \u001b[0merr\u001b[0m\u001b[1;33m:\u001b[0m\u001b[1;33m\u001b[0m\u001b[1;33m\u001b[0m\u001b[0m\n\u001b[0;32m     80\u001b[0m             \u001b[1;32mif\u001b[0m \u001b[0merr\u001b[0m\u001b[1;33m.\u001b[0m\u001b[0merrno\u001b[0m \u001b[1;33m==\u001b[0m \u001b[0merrno\u001b[0m\u001b[1;33m.\u001b[0m\u001b[0mENOENT\u001b[0m\u001b[1;33m:\u001b[0m\u001b[1;33m\u001b[0m\u001b[1;33m\u001b[0m\u001b[0m\n\u001b[1;32m---> 81\u001b[1;33m                 raise WebDriverException(\n\u001b[0m\u001b[0;32m     82\u001b[0m                     \"'%s' executable needs to be in PATH. %s\" % (\n\u001b[0;32m     83\u001b[0m                         os.path.basename(self.path), self.start_error_message)\n",
      "\u001b[1;31mWebDriverException\u001b[0m: Message: 'geckodriver' executable needs to be in PATH. \n"
     ]
    }
   ],
   "source": [
    "# import io\n",
    "# from PIL import Image\n",
    "\n",
    "# img_data = m._to_png(5)\n",
    "# img = Image.open(io.BytesIO(img_data))\n",
    "# img.save('geolocations.png')"
   ]
  },
  {
   "cell_type": "code",
   "execution_count": 113,
   "metadata": {},
   "outputs": [],
   "source": [
    "top5 = df.groupby('state')['name'].count().sort_values(ascending = False).nlargest(5)"
   ]
  },
  {
   "cell_type": "code",
   "execution_count": 114,
   "metadata": {},
   "outputs": [
    {
     "data": {
      "text/plain": [
       "state\n",
       "TX    9\n",
       "CA    8\n",
       "NJ    6\n",
       "GA    5\n",
       "NY    4\n",
       "Name: name, dtype: int64"
      ]
     },
     "execution_count": 114,
     "metadata": {},
     "output_type": "execute_result"
    }
   ],
   "source": [
    "top5"
   ]
  },
  {
   "cell_type": "code",
   "execution_count": 124,
   "metadata": {},
   "outputs": [
    {
     "data": {
      "text/plain": [
       "<AxesSubplot:title={'center':'Top 5 states'}, xlabel='Number of Foot Locker Stores', ylabel='state'>"
      ]
     },
     "execution_count": 124,
     "metadata": {},
     "output_type": "execute_result"
    },
    {
     "data": {
      "image/png": "[encoded data removed]",
      "text/plain": [
       "<Figure size 720x432 with 1 Axes>"
      ]
     },
     "metadata": {
      "needs_background": "light"
     },
     "output_type": "display_data"
    }
   ],
   "source": [
    "fig = plt.figure(figsize = (10, 6))\n",
    "plt.title('Top 5 states')\n",
    "plt.xlabel('Number of Foot Locker Stores')\n",
    "sns.barplot(x = top5.values, y = top5.index, orient='h')"
   ]
  },
  {
   "cell_type": "code",
   "execution_count": null,
   "metadata": {},
   "outputs": [],
   "source": []
  }
 ],
 "metadata": {
  "kernelspec": {
   "display_name": "Python 3",
   "language": "python",
   "name": "python3"
  },
  "language_info": {
   "codemirror_mode": {
    "name": "ipython",
    "version": 3
   },
   "file_extension": ".py",
   "mimetype": "text/x-python",
   "name": "python",
   "nbconvert_exporter": "python",
   "pygments_lexer": "ipython3",
   "version": "3.9.0"
  }
 },
 "nbformat": 4,
 "nbformat_minor": 4
}
